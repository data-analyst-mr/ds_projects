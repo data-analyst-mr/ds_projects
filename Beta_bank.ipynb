{
 "cells": [
  {
   "cell_type": "markdown",
   "metadata": {
    "toc": true
   },
   "source": [
    "<h1>Содержание<span class=\"tocSkip\"></span></h1>\n",
    "<div class=\"toc\"><ul class=\"toc-item\"><li><span><a href=\"#Подготовка-данных\" data-toc-modified-id=\"Подготовка-данных-1\"><span class=\"toc-item-num\">1&nbsp;&nbsp;</span>Подготовка данных</a></span><ul class=\"toc-item\"><li><span><a href=\"#Загрузка-датасета-и-общая-информация\" data-toc-modified-id=\"Загрузка-датасета-и-общая-информация-1.1\"><span class=\"toc-item-num\">1.1&nbsp;&nbsp;</span>Загрузка датасета и общая информация</a></span></li><li><span><a href=\"#Предобработка-данных\" data-toc-modified-id=\"Предобработка-данных-1.2\"><span class=\"toc-item-num\">1.2&nbsp;&nbsp;</span>Предобработка данных</a></span></li></ul></li><li><span><a href=\"#Исследование-задачи\" data-toc-modified-id=\"Исследование-задачи-2\"><span class=\"toc-item-num\">2&nbsp;&nbsp;</span>Исследование задачи</a></span><ul class=\"toc-item\"><li><span><a href=\"#Функции\" data-toc-modified-id=\"Функции-2.1\"><span class=\"toc-item-num\">2.1&nbsp;&nbsp;</span>Функции</a></span></li><li><span><a href=\"#Разделение-датафрейма-на-выборки-и-определение-баланса\" data-toc-modified-id=\"Разделение-датафрейма-на-выборки-и-определение-баланса-2.2\"><span class=\"toc-item-num\">2.2&nbsp;&nbsp;</span>Разделение датафрейма на выборки и определение баланса</a></span></li><li><span><a href=\"#Определение-лучшей-модели-прогнозирования-на-несбалансированных-данных\" data-toc-modified-id=\"Определение-лучшей-модели-прогнозирования-на-несбалансированных-данных-2.3\"><span class=\"toc-item-num\">2.3&nbsp;&nbsp;</span>Определение лучшей модели прогнозирования на несбалансированных данных</a></span></li></ul></li><li><span><a href=\"#Борьба-с-дисбалансом\" data-toc-modified-id=\"Борьба-с-дисбалансом-3\"><span class=\"toc-item-num\">3&nbsp;&nbsp;</span>Борьба с дисбалансом</a></span><ul class=\"toc-item\"><li><span><a href=\"#Определение-лучшей-модели,-обученной-на-выборке,-сбалансированной-методом-SMOTE\" data-toc-modified-id=\"Определение-лучшей-модели,-обученной-на-выборке,-сбалансированной-методом-SMOTE-3.1\"><span class=\"toc-item-num\">3.1&nbsp;&nbsp;</span>Определение лучшей модели, обученной на выборке, сбалансированной методом SMOTE</a></span></li><li><span><a href=\"#Определение-лучшей-модели,-обученной-на-выборке,-сбалансированной-методом-RandomUnderSampler\" data-toc-modified-id=\"Определение-лучшей-модели,-обученной-на-выборке,-сбалансированной-методом-RandomUnderSampler-3.2\"><span class=\"toc-item-num\">3.2&nbsp;&nbsp;</span>Определение лучшей модели, обученной на выборке, сбалансированной методом RandomUnderSampler</a></span></li><li><span><a href=\"#Определение-лучшей-модели,-обученной-на-выборке,-сбалансированной-взвешиванием-классов\" data-toc-modified-id=\"Определение-лучшей-модели,-обученной-на-выборке,-сбалансированной-взвешиванием-классов-3.3\"><span class=\"toc-item-num\">3.3&nbsp;&nbsp;</span>Определение лучшей модели, обученной на выборке, сбалансированной взвешиванием классов</a></span></li></ul></li><li><span><a href=\"#Тестирование-модели\" data-toc-modified-id=\"Тестирование-модели-4\"><span class=\"toc-item-num\">4&nbsp;&nbsp;</span>Тестирование модели</a></span></li><li><span><a href=\"#Общий-вывод\" data-toc-modified-id=\"Общий-вывод-5\"><span class=\"toc-item-num\">5&nbsp;&nbsp;</span>Общий вывод</a></span></li><li><span><a href=\"#Чек-лист-готовности-проекта\" data-toc-modified-id=\"Чек-лист-готовности-проекта-6\"><span class=\"toc-item-num\">6&nbsp;&nbsp;</span>Чек-лист готовности проекта</a></span></li></ul></div>"
   ]
  },
  {
   "cell_type": "markdown",
   "metadata": {},
   "source": [
    "# Отток клиентов"
   ]
  },
  {
   "cell_type": "markdown",
   "metadata": {},
   "source": [
    "**Заказчик исследования:** маркетинговый отдел банка.  \n",
    "**Цель исследования:** построить модель, способную с высокой точностью (F1 не менее 0.59) спрогнозировать, уйдет клиент или нет.  \n",
    "\n",
    "**Исходные данные:**  \n",
    "Исходные данные представлены в датасете \"Churn.csv\".  \n",
    "В датасете содержатся следующие признаки:  \n",
    "- \"RowNumber\" — индекс строки в данных;  \n",
    "- \"CustomerId\" — уникальный идентификатор клиента;  \n",
    "- \"Surname\" — фамилия;  \n",
    "- \"CreditScore\" — кредитный рейтинг;  \n",
    "- \"Geography\" — страна проживания;  \n",
    "- \"Gender\" — пол;  \n",
    "- \"Age\" — возраст;  \n",
    "- \"Tenure\" — сколько лет человек является клиентом банка;  \n",
    "- \"Balance\" — баланс на счёте;  \n",
    "- \"NumOfProducts\" — количество продуктов банка, используемых клиентом;  \n",
    "- \"HasCrCard\" — наличие кредитной карты;  \n",
    "- \"IsActiveMember\" — активность клиента;  \n",
    "- \"EstimatedSalary\" — предполагаемая зарплата.  \n",
    "\n",
    "\n",
    "Целевой признак: \"Exited\" — факт ухода клиента.  \n",
    "\n",
    "Источник данных: [https://www.kaggle.com/barelydedicated/bank-customer-churn-modeling](https://www.kaggle.com/barelydedicated/bank-customer-churn-modeling)"
   ]
  },
  {
   "cell_type": "markdown",
   "metadata": {},
   "source": [
    "## Подготовка данных"
   ]
  },
  {
   "cell_type": "markdown",
   "metadata": {},
   "source": [
    "### Загрузка датасета и общая информация"
   ]
  },
  {
   "cell_type": "markdown",
   "metadata": {},
   "source": [
    "Импортируем библиотеки:"
   ]
  },
  {
   "cell_type": "code",
   "execution_count": 1,
   "metadata": {},
   "outputs": [],
   "source": [
    "import pandas as pd\n",
    "import seaborn as sns\n",
    "import matplotlib.pyplot as plt\n",
    "import math\n",
    "from sklearn.model_selection import train_test_split\n",
    "from sklearn.utils import shuffle\n",
    "from sklearn.preprocessing import OrdinalEncoder \n",
    "from sklearn.preprocessing import StandardScaler\n",
    "from sklearn.linear_model import LogisticRegression \n",
    "from sklearn.tree import DecisionTreeClassifier\n",
    "from sklearn.ensemble import RandomForestClassifier\n",
    "from sklearn.model_selection import GridSearchCV \n",
    "from sklearn.metrics import f1_score\n",
    "from sklearn.metrics import roc_auc_score\n",
    "from sklearn.metrics import roc_curve\n",
    "from sklearn.preprocessing import OneHotEncoder\n",
    "from imblearn.over_sampling import SMOTE\n",
    "from imblearn.under_sampling import RandomUnderSampler\n",
    "import warnings\n",
    "warnings.filterwarnings('ignore')"
   ]
  },
  {
   "cell_type": "markdown",
   "metadata": {},
   "source": [
    "Загружаем датасет:"
   ]
  },
  {
   "cell_type": "code",
   "execution_count": 2,
   "metadata": {},
   "outputs": [],
   "source": [
    "try:\n",
    "    df = pd.read_csv('/datasets/Churn.csv')\n",
    "except:\n",
    "    df = pd.read_csv('https://code.s3.yandex.net/datasets/Churn.csv')"
   ]
  },
  {
   "cell_type": "markdown",
   "metadata": {},
   "source": [
    "Выводим общую информацию по датафрейму:"
   ]
  },
  {
   "cell_type": "code",
   "execution_count": 3,
   "metadata": {},
   "outputs": [],
   "source": [
    "def inf(df_info):\n",
    "    print()\n",
    "    print('Общая информация:')\n",
    "    display(df_info.info(memory_usage='deep'))\n",
    "    print('____________________________________________________')\n",
    "    print()\n",
    "    print('Описательная статистика строковых значений:')\n",
    "    display(df_info.describe(include='object').T)\n",
    "    print('____________________________________________________')\n",
    "    print()\n",
    "    print('Описательная статистика числовых значений:')\n",
    "    display(df_info.describe().T)\n",
    "    print('____________________________________________________')\n",
    "    print()\n",
    "    print('Процент пропущенных значений:')\n",
    "    display(df_info.isna().mean()*100)\n",
    "    print('____________________________________________________')\n",
    "    print()\n",
    "    print('Случайная выборка датафрейма:')\n",
    "    display(df_info.sample(n = 5, random_state = 0))\n",
    "    print('____________________________________________________')\n",
    "    print()"
   ]
  },
  {
   "cell_type": "code",
   "execution_count": 4,
   "metadata": {
    "scrolled": true
   },
   "outputs": [
    {
     "name": "stdout",
     "output_type": "stream",
     "text": [
      "\n",
      "Общая информация:\n",
      "<class 'pandas.core.frame.DataFrame'>\n",
      "RangeIndex: 10000 entries, 0 to 9999\n",
      "Data columns (total 14 columns):\n",
      " #   Column           Non-Null Count  Dtype  \n",
      "---  ------           --------------  -----  \n",
      " 0   RowNumber        10000 non-null  int64  \n",
      " 1   CustomerId       10000 non-null  int64  \n",
      " 2   Surname          10000 non-null  object \n",
      " 3   CreditScore      10000 non-null  int64  \n",
      " 4   Geography        10000 non-null  object \n",
      " 5   Gender           10000 non-null  object \n",
      " 6   Age              10000 non-null  int64  \n",
      " 7   Tenure           9091 non-null   float64\n",
      " 8   Balance          10000 non-null  float64\n",
      " 9   NumOfProducts    10000 non-null  int64  \n",
      " 10  HasCrCard        10000 non-null  int64  \n",
      " 11  IsActiveMember   10000 non-null  int64  \n",
      " 12  EstimatedSalary  10000 non-null  float64\n",
      " 13  Exited           10000 non-null  int64  \n",
      "dtypes: float64(3), int64(8), object(3)\n",
      "memory usage: 2.6 MB\n"
     ]
    },
    {
     "data": {
      "text/plain": [
       "None"
      ]
     },
     "metadata": {},
     "output_type": "display_data"
    },
    {
     "name": "stdout",
     "output_type": "stream",
     "text": [
      "____________________________________________________\n",
      "\n",
      "Описательная статистика строковых значений:\n"
     ]
    },
    {
     "data": {
      "text/html": [
       "<div>\n",
       "<style scoped>\n",
       "    .dataframe tbody tr th:only-of-type {\n",
       "        vertical-align: middle;\n",
       "    }\n",
       "\n",
       "    .dataframe tbody tr th {\n",
       "        vertical-align: top;\n",
       "    }\n",
       "\n",
       "    .dataframe thead th {\n",
       "        text-align: right;\n",
       "    }\n",
       "</style>\n",
       "<table border=\"1\" class=\"dataframe\">\n",
       "  <thead>\n",
       "    <tr style=\"text-align: right;\">\n",
       "      <th></th>\n",
       "      <th>count</th>\n",
       "      <th>unique</th>\n",
       "      <th>top</th>\n",
       "      <th>freq</th>\n",
       "    </tr>\n",
       "  </thead>\n",
       "  <tbody>\n",
       "    <tr>\n",
       "      <th>Surname</th>\n",
       "      <td>10000</td>\n",
       "      <td>2932</td>\n",
       "      <td>Smith</td>\n",
       "      <td>32</td>\n",
       "    </tr>\n",
       "    <tr>\n",
       "      <th>Geography</th>\n",
       "      <td>10000</td>\n",
       "      <td>3</td>\n",
       "      <td>France</td>\n",
       "      <td>5014</td>\n",
       "    </tr>\n",
       "    <tr>\n",
       "      <th>Gender</th>\n",
       "      <td>10000</td>\n",
       "      <td>2</td>\n",
       "      <td>Male</td>\n",
       "      <td>5457</td>\n",
       "    </tr>\n",
       "  </tbody>\n",
       "</table>\n",
       "</div>"
      ],
      "text/plain": [
       "           count unique     top  freq\n",
       "Surname    10000   2932   Smith    32\n",
       "Geography  10000      3  France  5014\n",
       "Gender     10000      2    Male  5457"
      ]
     },
     "metadata": {},
     "output_type": "display_data"
    },
    {
     "name": "stdout",
     "output_type": "stream",
     "text": [
      "____________________________________________________\n",
      "\n",
      "Описательная статистика числовых значений:\n"
     ]
    },
    {
     "data": {
      "text/html": [
       "<div>\n",
       "<style scoped>\n",
       "    .dataframe tbody tr th:only-of-type {\n",
       "        vertical-align: middle;\n",
       "    }\n",
       "\n",
       "    .dataframe tbody tr th {\n",
       "        vertical-align: top;\n",
       "    }\n",
       "\n",
       "    .dataframe thead th {\n",
       "        text-align: right;\n",
       "    }\n",
       "</style>\n",
       "<table border=\"1\" class=\"dataframe\">\n",
       "  <thead>\n",
       "    <tr style=\"text-align: right;\">\n",
       "      <th></th>\n",
       "      <th>count</th>\n",
       "      <th>mean</th>\n",
       "      <th>std</th>\n",
       "      <th>min</th>\n",
       "      <th>25%</th>\n",
       "      <th>50%</th>\n",
       "      <th>75%</th>\n",
       "      <th>max</th>\n",
       "    </tr>\n",
       "  </thead>\n",
       "  <tbody>\n",
       "    <tr>\n",
       "      <th>RowNumber</th>\n",
       "      <td>10000.0</td>\n",
       "      <td>5.000500e+03</td>\n",
       "      <td>2886.895680</td>\n",
       "      <td>1.00</td>\n",
       "      <td>2500.75</td>\n",
       "      <td>5.000500e+03</td>\n",
       "      <td>7.500250e+03</td>\n",
       "      <td>10000.00</td>\n",
       "    </tr>\n",
       "    <tr>\n",
       "      <th>CustomerId</th>\n",
       "      <td>10000.0</td>\n",
       "      <td>1.569094e+07</td>\n",
       "      <td>71936.186123</td>\n",
       "      <td>15565701.00</td>\n",
       "      <td>15628528.25</td>\n",
       "      <td>1.569074e+07</td>\n",
       "      <td>1.575323e+07</td>\n",
       "      <td>15815690.00</td>\n",
       "    </tr>\n",
       "    <tr>\n",
       "      <th>CreditScore</th>\n",
       "      <td>10000.0</td>\n",
       "      <td>6.505288e+02</td>\n",
       "      <td>96.653299</td>\n",
       "      <td>350.00</td>\n",
       "      <td>584.00</td>\n",
       "      <td>6.520000e+02</td>\n",
       "      <td>7.180000e+02</td>\n",
       "      <td>850.00</td>\n",
       "    </tr>\n",
       "    <tr>\n",
       "      <th>Age</th>\n",
       "      <td>10000.0</td>\n",
       "      <td>3.892180e+01</td>\n",
       "      <td>10.487806</td>\n",
       "      <td>18.00</td>\n",
       "      <td>32.00</td>\n",
       "      <td>3.700000e+01</td>\n",
       "      <td>4.400000e+01</td>\n",
       "      <td>92.00</td>\n",
       "    </tr>\n",
       "    <tr>\n",
       "      <th>Tenure</th>\n",
       "      <td>9091.0</td>\n",
       "      <td>4.997690e+00</td>\n",
       "      <td>2.894723</td>\n",
       "      <td>0.00</td>\n",
       "      <td>2.00</td>\n",
       "      <td>5.000000e+00</td>\n",
       "      <td>7.000000e+00</td>\n",
       "      <td>10.00</td>\n",
       "    </tr>\n",
       "    <tr>\n",
       "      <th>Balance</th>\n",
       "      <td>10000.0</td>\n",
       "      <td>7.648589e+04</td>\n",
       "      <td>62397.405202</td>\n",
       "      <td>0.00</td>\n",
       "      <td>0.00</td>\n",
       "      <td>9.719854e+04</td>\n",
       "      <td>1.276442e+05</td>\n",
       "      <td>250898.09</td>\n",
       "    </tr>\n",
       "    <tr>\n",
       "      <th>NumOfProducts</th>\n",
       "      <td>10000.0</td>\n",
       "      <td>1.530200e+00</td>\n",
       "      <td>0.581654</td>\n",
       "      <td>1.00</td>\n",
       "      <td>1.00</td>\n",
       "      <td>1.000000e+00</td>\n",
       "      <td>2.000000e+00</td>\n",
       "      <td>4.00</td>\n",
       "    </tr>\n",
       "    <tr>\n",
       "      <th>HasCrCard</th>\n",
       "      <td>10000.0</td>\n",
       "      <td>7.055000e-01</td>\n",
       "      <td>0.455840</td>\n",
       "      <td>0.00</td>\n",
       "      <td>0.00</td>\n",
       "      <td>1.000000e+00</td>\n",
       "      <td>1.000000e+00</td>\n",
       "      <td>1.00</td>\n",
       "    </tr>\n",
       "    <tr>\n",
       "      <th>IsActiveMember</th>\n",
       "      <td>10000.0</td>\n",
       "      <td>5.151000e-01</td>\n",
       "      <td>0.499797</td>\n",
       "      <td>0.00</td>\n",
       "      <td>0.00</td>\n",
       "      <td>1.000000e+00</td>\n",
       "      <td>1.000000e+00</td>\n",
       "      <td>1.00</td>\n",
       "    </tr>\n",
       "    <tr>\n",
       "      <th>EstimatedSalary</th>\n",
       "      <td>10000.0</td>\n",
       "      <td>1.000902e+05</td>\n",
       "      <td>57510.492818</td>\n",
       "      <td>11.58</td>\n",
       "      <td>51002.11</td>\n",
       "      <td>1.001939e+05</td>\n",
       "      <td>1.493882e+05</td>\n",
       "      <td>199992.48</td>\n",
       "    </tr>\n",
       "    <tr>\n",
       "      <th>Exited</th>\n",
       "      <td>10000.0</td>\n",
       "      <td>2.037000e-01</td>\n",
       "      <td>0.402769</td>\n",
       "      <td>0.00</td>\n",
       "      <td>0.00</td>\n",
       "      <td>0.000000e+00</td>\n",
       "      <td>0.000000e+00</td>\n",
       "      <td>1.00</td>\n",
       "    </tr>\n",
       "  </tbody>\n",
       "</table>\n",
       "</div>"
      ],
      "text/plain": [
       "                   count          mean           std          min  \\\n",
       "RowNumber        10000.0  5.000500e+03   2886.895680         1.00   \n",
       "CustomerId       10000.0  1.569094e+07  71936.186123  15565701.00   \n",
       "CreditScore      10000.0  6.505288e+02     96.653299       350.00   \n",
       "Age              10000.0  3.892180e+01     10.487806        18.00   \n",
       "Tenure            9091.0  4.997690e+00      2.894723         0.00   \n",
       "Balance          10000.0  7.648589e+04  62397.405202         0.00   \n",
       "NumOfProducts    10000.0  1.530200e+00      0.581654         1.00   \n",
       "HasCrCard        10000.0  7.055000e-01      0.455840         0.00   \n",
       "IsActiveMember   10000.0  5.151000e-01      0.499797         0.00   \n",
       "EstimatedSalary  10000.0  1.000902e+05  57510.492818        11.58   \n",
       "Exited           10000.0  2.037000e-01      0.402769         0.00   \n",
       "\n",
       "                         25%           50%           75%          max  \n",
       "RowNumber            2500.75  5.000500e+03  7.500250e+03     10000.00  \n",
       "CustomerId       15628528.25  1.569074e+07  1.575323e+07  15815690.00  \n",
       "CreditScore           584.00  6.520000e+02  7.180000e+02       850.00  \n",
       "Age                    32.00  3.700000e+01  4.400000e+01        92.00  \n",
       "Tenure                  2.00  5.000000e+00  7.000000e+00        10.00  \n",
       "Balance                 0.00  9.719854e+04  1.276442e+05    250898.09  \n",
       "NumOfProducts           1.00  1.000000e+00  2.000000e+00         4.00  \n",
       "HasCrCard               0.00  1.000000e+00  1.000000e+00         1.00  \n",
       "IsActiveMember          0.00  1.000000e+00  1.000000e+00         1.00  \n",
       "EstimatedSalary     51002.11  1.001939e+05  1.493882e+05    199992.48  \n",
       "Exited                  0.00  0.000000e+00  0.000000e+00         1.00  "
      ]
     },
     "metadata": {},
     "output_type": "display_data"
    },
    {
     "name": "stdout",
     "output_type": "stream",
     "text": [
      "____________________________________________________\n",
      "\n",
      "Процент пропущенных значений:\n"
     ]
    },
    {
     "data": {
      "text/plain": [
       "RowNumber          0.00\n",
       "CustomerId         0.00\n",
       "Surname            0.00\n",
       "CreditScore        0.00\n",
       "Geography          0.00\n",
       "Gender             0.00\n",
       "Age                0.00\n",
       "Tenure             9.09\n",
       "Balance            0.00\n",
       "NumOfProducts      0.00\n",
       "HasCrCard          0.00\n",
       "IsActiveMember     0.00\n",
       "EstimatedSalary    0.00\n",
       "Exited             0.00\n",
       "dtype: float64"
      ]
     },
     "metadata": {},
     "output_type": "display_data"
    },
    {
     "name": "stdout",
     "output_type": "stream",
     "text": [
      "____________________________________________________\n",
      "\n",
      "Случайная выборка датафрейма:\n"
     ]
    },
    {
     "data": {
      "text/html": [
       "<div>\n",
       "<style scoped>\n",
       "    .dataframe tbody tr th:only-of-type {\n",
       "        vertical-align: middle;\n",
       "    }\n",
       "\n",
       "    .dataframe tbody tr th {\n",
       "        vertical-align: top;\n",
       "    }\n",
       "\n",
       "    .dataframe thead th {\n",
       "        text-align: right;\n",
       "    }\n",
       "</style>\n",
       "<table border=\"1\" class=\"dataframe\">\n",
       "  <thead>\n",
       "    <tr style=\"text-align: right;\">\n",
       "      <th></th>\n",
       "      <th>RowNumber</th>\n",
       "      <th>CustomerId</th>\n",
       "      <th>Surname</th>\n",
       "      <th>CreditScore</th>\n",
       "      <th>Geography</th>\n",
       "      <th>Gender</th>\n",
       "      <th>Age</th>\n",
       "      <th>Tenure</th>\n",
       "      <th>Balance</th>\n",
       "      <th>NumOfProducts</th>\n",
       "      <th>HasCrCard</th>\n",
       "      <th>IsActiveMember</th>\n",
       "      <th>EstimatedSalary</th>\n",
       "      <th>Exited</th>\n",
       "    </tr>\n",
       "  </thead>\n",
       "  <tbody>\n",
       "    <tr>\n",
       "      <th>9394</th>\n",
       "      <td>9395</td>\n",
       "      <td>15615753</td>\n",
       "      <td>Upchurch</td>\n",
       "      <td>597</td>\n",
       "      <td>Germany</td>\n",
       "      <td>Female</td>\n",
       "      <td>35</td>\n",
       "      <td>8.0</td>\n",
       "      <td>131101.04</td>\n",
       "      <td>1</td>\n",
       "      <td>1</td>\n",
       "      <td>1</td>\n",
       "      <td>192852.67</td>\n",
       "      <td>0</td>\n",
       "    </tr>\n",
       "    <tr>\n",
       "      <th>898</th>\n",
       "      <td>899</td>\n",
       "      <td>15654700</td>\n",
       "      <td>Fallaci</td>\n",
       "      <td>523</td>\n",
       "      <td>France</td>\n",
       "      <td>Female</td>\n",
       "      <td>40</td>\n",
       "      <td>2.0</td>\n",
       "      <td>102967.41</td>\n",
       "      <td>1</td>\n",
       "      <td>1</td>\n",
       "      <td>0</td>\n",
       "      <td>128702.10</td>\n",
       "      <td>1</td>\n",
       "    </tr>\n",
       "    <tr>\n",
       "      <th>2398</th>\n",
       "      <td>2399</td>\n",
       "      <td>15633877</td>\n",
       "      <td>Morrison</td>\n",
       "      <td>706</td>\n",
       "      <td>Spain</td>\n",
       "      <td>Female</td>\n",
       "      <td>42</td>\n",
       "      <td>8.0</td>\n",
       "      <td>95386.82</td>\n",
       "      <td>1</td>\n",
       "      <td>1</td>\n",
       "      <td>1</td>\n",
       "      <td>75732.25</td>\n",
       "      <td>0</td>\n",
       "    </tr>\n",
       "    <tr>\n",
       "      <th>5906</th>\n",
       "      <td>5907</td>\n",
       "      <td>15745623</td>\n",
       "      <td>Worsnop</td>\n",
       "      <td>788</td>\n",
       "      <td>France</td>\n",
       "      <td>Male</td>\n",
       "      <td>32</td>\n",
       "      <td>4.0</td>\n",
       "      <td>112079.58</td>\n",
       "      <td>1</td>\n",
       "      <td>0</td>\n",
       "      <td>0</td>\n",
       "      <td>89368.59</td>\n",
       "      <td>0</td>\n",
       "    </tr>\n",
       "    <tr>\n",
       "      <th>2343</th>\n",
       "      <td>2344</td>\n",
       "      <td>15765902</td>\n",
       "      <td>Gibson</td>\n",
       "      <td>706</td>\n",
       "      <td>Germany</td>\n",
       "      <td>Male</td>\n",
       "      <td>38</td>\n",
       "      <td>5.0</td>\n",
       "      <td>163034.82</td>\n",
       "      <td>2</td>\n",
       "      <td>1</td>\n",
       "      <td>1</td>\n",
       "      <td>135662.17</td>\n",
       "      <td>0</td>\n",
       "    </tr>\n",
       "  </tbody>\n",
       "</table>\n",
       "</div>"
      ],
      "text/plain": [
       "      RowNumber  CustomerId   Surname  CreditScore Geography  Gender  Age  \\\n",
       "9394       9395    15615753  Upchurch          597   Germany  Female   35   \n",
       "898         899    15654700   Fallaci          523    France  Female   40   \n",
       "2398       2399    15633877  Morrison          706     Spain  Female   42   \n",
       "5906       5907    15745623   Worsnop          788    France    Male   32   \n",
       "2343       2344    15765902    Gibson          706   Germany    Male   38   \n",
       "\n",
       "      Tenure    Balance  NumOfProducts  HasCrCard  IsActiveMember  \\\n",
       "9394     8.0  131101.04              1          1               1   \n",
       "898      2.0  102967.41              1          1               0   \n",
       "2398     8.0   95386.82              1          1               1   \n",
       "5906     4.0  112079.58              1          0               0   \n",
       "2343     5.0  163034.82              2          1               1   \n",
       "\n",
       "      EstimatedSalary  Exited  \n",
       "9394        192852.67       0  \n",
       "898         128702.10       1  \n",
       "2398         75732.25       0  \n",
       "5906         89368.59       0  \n",
       "2343        135662.17       0  "
      ]
     },
     "metadata": {},
     "output_type": "display_data"
    },
    {
     "name": "stdout",
     "output_type": "stream",
     "text": [
      "____________________________________________________\n",
      "\n"
     ]
    }
   ],
   "source": [
    "inf(df)"
   ]
  },
  {
   "cell_type": "markdown",
   "metadata": {},
   "source": [
    "Исходный датафрейм состоит из 10000 и 14 столбцов.  \n",
    "В столбце \"Tenure\" пропущено 9.09% значений.  \n",
    "Значения \"Surname\", \"Geography\" и \"Gender\" имеют тип \"object\"."
   ]
  },
  {
   "cell_type": "markdown",
   "metadata": {},
   "source": [
    "### Предобработка данных"
   ]
  },
  {
   "cell_type": "markdown",
   "metadata": {},
   "source": [
    "**Обработка названий столбцов**"
   ]
  },
  {
   "cell_type": "markdown",
   "metadata": {},
   "source": [
    "Переводим названия в нижний регистр и избавляемся от \"верблюжьего регистра\":"
   ]
  },
  {
   "cell_type": "code",
   "execution_count": 5,
   "metadata": {},
   "outputs": [],
   "source": [
    "df.columns = map(str.lower, df.columns)\n",
    "df = df.rename(columns={'rownumber' : 'row_number',\n",
    "                       'customerid' : 'customer_id',\n",
    "                       'creditscore' : 'credit_score',\n",
    "                       'numofproducts' : 'num_of_products',\n",
    "                       'hascrcard' : 'has_cr_card',\n",
    "                       'isactivemember' : 'is_active_member',\n",
    "                       'estimatedsalary' : 'estimated_salary',})"
   ]
  },
  {
   "cell_type": "markdown",
   "metadata": {},
   "source": [
    "**Обработка пропущенных значений**"
   ]
  },
  {
   "cell_type": "markdown",
   "metadata": {},
   "source": [
    "Процент пропущенных значений в столбце \"Tenure\" составляет 9.09%. Удалять их нежелательно: это приведет к искажению результатов исследования. Заменяем пропущенные значения на медианы, рассчитанные по стране и возрасту клиента:"
   ]
  },
  {
   "cell_type": "code",
   "execution_count": 6,
   "metadata": {},
   "outputs": [],
   "source": [
    "for i in df['geography'].unique():\n",
    "    for j in df['age'].unique():\n",
    "        df.loc[(df['geography'] == i) & (df['age'] == j), 'tenure'] =\\\n",
    "        df.loc[(df['geography'] == i) & (df['age'] == j)]['tenure'].median()"
   ]
  },
  {
   "cell_type": "markdown",
   "metadata": {},
   "source": [
    "Выводим общую информацию об обработанном датафрейме:"
   ]
  },
  {
   "cell_type": "code",
   "execution_count": 7,
   "metadata": {},
   "outputs": [
    {
     "name": "stdout",
     "output_type": "stream",
     "text": [
      "<class 'pandas.core.frame.DataFrame'>\n",
      "RangeIndex: 10000 entries, 0 to 9999\n",
      "Data columns (total 14 columns):\n",
      " #   Column            Non-Null Count  Dtype  \n",
      "---  ------            --------------  -----  \n",
      " 0   row_number        10000 non-null  int64  \n",
      " 1   customer_id       10000 non-null  int64  \n",
      " 2   surname           10000 non-null  object \n",
      " 3   credit_score      10000 non-null  int64  \n",
      " 4   geography         10000 non-null  object \n",
      " 5   gender            10000 non-null  object \n",
      " 6   age               10000 non-null  int64  \n",
      " 7   tenure            10000 non-null  float64\n",
      " 8   balance           10000 non-null  float64\n",
      " 9   num_of_products   10000 non-null  int64  \n",
      " 10  has_cr_card       10000 non-null  int64  \n",
      " 11  is_active_member  10000 non-null  int64  \n",
      " 12  estimated_salary  10000 non-null  float64\n",
      " 13  exited            10000 non-null  int64  \n",
      "dtypes: float64(3), int64(8), object(3)\n",
      "memory usage: 1.1+ MB\n"
     ]
    }
   ],
   "source": [
    "df.info()"
   ]
  },
  {
   "cell_type": "markdown",
   "metadata": {},
   "source": [
    "**Вывод:**\n",
    "1. Обработаны названия столбцов: приведены к нижнему регистру, убран \"верблюжий регистр\".\n",
    "2. Обработаны пропущенные значения."
   ]
  },
  {
   "cell_type": "markdown",
   "metadata": {},
   "source": [
    "## Исследование задачи"
   ]
  },
  {
   "cell_type": "markdown",
   "metadata": {},
   "source": [
    "Задаем единый параметр random_state для всех последующих операций:"
   ]
  },
  {
   "cell_type": "code",
   "execution_count": 8,
   "metadata": {},
   "outputs": [],
   "source": [
    "rand_state=12345"
   ]
  },
  {
   "cell_type": "markdown",
   "metadata": {},
   "source": [
    "### Функции"
   ]
  },
  {
   "cell_type": "code",
   "execution_count": 9,
   "metadata": {},
   "outputs": [],
   "source": [
    "def find_model(features_train, target_train, c_param_min=1, c_param_max=2,\n",
    "           samples_leaf_min=1, samples_leaf_max=15, samples_leaf_step=4,\n",
    "           samples_split_min=2, samples_split_max=15, samples_split_step=4,\n",
    "           max_depth_min=1, max_depth_max=10, max_depth_step=3,\n",
    "           n_estimators_min=100, n_estimators_max=110, n_estimators_step=4,\n",
    "           cl_weight=None):\n",
    "    \n",
    "    '''Функция обучает модели LogisticRegression, DecisionTreeClassifier и RandomForestClassifier с различными\n",
    "    гиперпараметрами и проверяет на валидационной выборке. По метрике F1 определяется лучшая для каждого типа модели, для них отрисовываются ROC-кривые и\n",
    "    рассчитывается значение метрики AUC_ROC. В итоге определяется лучшая модель среди всех по параметру F1'''\n",
    "    \n",
    "    auc_roc_list = []\n",
    "    \n",
    "    def auc_roc(model):\n",
    "        '''Функция рассчитывает параметры для построения ROC-кривых и метрику AUC_ROC'''\n",
    "        probabilities_valid = model.predict_proba(features_valid)\n",
    "        probabilities_one_valid = probabilities_valid[:, 1]\n",
    "        fpr, tpr, thresholds = roc_curve(target_valid, probabilities_one_valid)\n",
    "        auc_roc = roc_auc_score(target_valid, probabilities_one_valid)\n",
    "        return fpr, tpr, thresholds, auc_roc\n",
    "    \n",
    "    def prnt(model, best_result, auc_roc):\n",
    "        '''Функция вывода результата'''\n",
    "        print('Лучшая модель {}:'.format(str(model).split('(')[0]))\n",
    "        print(model)\n",
    "        print('F1 = {:.2f}'.format(best_result))\n",
    "        print('AUC_ROC = {:.2f}'.format(auc_roc))\n",
    "        print('_' * 100)\n",
    "        print('')\n",
    "        \n",
    "    \n",
    "    '''Обучение и проверка на валидационной выборке модели LogisticRegression'''\n",
    "    best_models={}\n",
    "    best_model_lr = None\n",
    "    best_result_lr = 0\n",
    "    for i in range(c_param_min, c_param_max):\n",
    "        model_lr = LogisticRegression(random_state=rand_state, C=i, solver='liblinear', class_weight=cl_weight)\n",
    "        model_lr.fit(features_train, target_train)\n",
    "        predicted_valid_lr = model_lr.predict(features_valid)\n",
    "        result_lr = f1_score(target_valid, predicted_valid_lr)\n",
    "        if result_lr > best_result_lr:\n",
    "            best_model_lr = model_lr\n",
    "            best_result_lr = result_lr\n",
    "            best_c = i\n",
    "    best_models[best_model_lr] = best_result_lr\n",
    "    fpr_lr, tpr_lr, thresholds_lr, auc_roc_lr = auc_roc(best_model_lr)\n",
    "    auc_roc_list.append(auc_roc_lr)\n",
    "    prnt(best_model_lr, best_result_lr, auc_roc_lr)\n",
    "\n",
    "    '''Обучение и проверка на валидационной выборке модели DecisionTreeClassifier'''\n",
    "    best_model_dtc = None\n",
    "    best_result_dtc = 0\n",
    "    for samples_leaf in range(samples_leaf_min, samples_leaf_max, samples_leaf_step):\n",
    "        for samples_split in range(samples_split_min, samples_split_max, samples_split_step):\n",
    "            for depth in range(max_depth_min, max_depth_max, max_depth_step):\n",
    "                model_dtc = DecisionTreeClassifier(random_state=rand_state,\n",
    "                                                   min_samples_leaf=samples_leaf,\n",
    "                                                   min_samples_split=samples_split,\n",
    "                                                   max_depth=depth,\n",
    "                                                   class_weight=cl_weight)\n",
    "                model_dtc.fit(features_train, target_train)\n",
    "                predicted_valid_dtc = model_dtc.predict(features_valid)\n",
    "                result_dtc = f1_score(target_valid, predicted_valid_dtc)\n",
    "                if result_dtc > best_result_dtc:\n",
    "                    best_model_dtc = model_dtc\n",
    "                    best_result_dtc = result_dtc\n",
    "                    best_depth_dtc = depth\n",
    "                    best_min_samples_leaf_dtc = samples_leaf\n",
    "                    best_min_samples_split_dtc = samples_split\n",
    "    best_models[best_model_dtc] = best_result_dtc\n",
    "    fpr_dtc, tpr_dtc, thresholds_dtc, auc_roc_dtc = auc_roc(best_model_dtc)\n",
    "    auc_roc_list.append(auc_roc_dtc)\n",
    "    prnt(best_model_dtc, best_result_dtc, auc_roc_dtc)\n",
    "    \n",
    "#     '''Обучение и проверка на валидационной выборке модели RandomForestClassifier'''\n",
    "#     best_model_rfc = None\n",
    "#     best_result_rfc = 0\n",
    "#     for samples_leaf in range(samples_leaf_min, samples_leaf_max, samples_leaf_step):\n",
    "#         for samples_split in range(samples_split_min, samples_split_max, samples_split_step):\n",
    "#             for depth in range(max_depth_min, max_depth_max, max_depth_step):\n",
    "#                 for est in range(n_estimators_min, n_estimators_max, n_estimators_step):\n",
    "#                     model_rfc = RandomForestClassifier(random_state=rand_state,\n",
    "#                                                    min_samples_leaf=samples_leaf,\n",
    "#                                                    min_samples_split=samples_split,\n",
    "#                                                    max_depth=depth,\n",
    "#                                                    n_estimators=est,\n",
    "#                                                    class_weight=cl_weight)\n",
    "#                     model_rfc.fit(features_train, target_train)\n",
    "#                     predicted_valid_rfc = model_rfc.predict(features_valid)\n",
    "#                     result_rfc = f1_score(target_valid, predicted_valid_rfc) \n",
    "#                     if result_rfc > best_result_rfc:\n",
    "#                         best_model_rfc = model_rfc\n",
    "#                         best_result_rfc = result_rfc\n",
    "#                         best_depth_rfc = depth\n",
    "#                         best_min_samples_leaf_rfc = samples_leaf\n",
    "#                         best_min_samples_split_rfc = samples_split\n",
    "#                         best_n_estimators = est \n",
    "#     best_models[best_model_rfc] = best_result_rfc\n",
    "#     fpr_rfc, tpr_rfc, thresholds_rfc, auc_roc_rfc = auc_roc(best_model_rfc)\n",
    "#     auc_roc_list.append(auc_roc_rfc)\n",
    "#     prnt(best_model_rfc, best_result_rfc, auc_roc_rfc)\n",
    "    \n",
    "    '''Построение ROC-кривых'''\n",
    "#    models = [best_model_lr, best_model_dtc, best_model_rfc]\n",
    "    models = [best_model_lr, best_model_dtc]\n",
    "    plt.figure(figsize = (15, 15))\n",
    "    plt.plot(fpr_lr, tpr_lr, label='LogisticRegression')\n",
    "    plt.plot(fpr_dtc, tpr_dtc, label='DecisionTreeClassifier')\n",
    "#     plt.plot(fpr_rfc, tpr_rfc, label='RandomForestClassifier')\n",
    "    plt.xlim([0.0, 1.0])\n",
    "    plt.ylim([0.0, 1.0])\n",
    "    plt.xlabel('False Positive Rate')\n",
    "    plt.ylabel('True Positive Rate')\n",
    "    plt.title('ROC-кривые')\n",
    "    plt.legend()\n",
    "    plt.show() \n",
    "\n",
    "    '''Определение наиболее качественной модели'''\n",
    "    max_val = max(best_models.values())\n",
    "    for key, value in best_models.items():\n",
    "        if value == max_val:\n",
    "            best_model = key\n",
    "            best_f1 = value\n",
    "            print('Наилучшая модель из всех:')\n",
    "            print(best_model)\n",
    "            print('F1 = {:.2f}'.format(best_f1))\n",
    "            print('_' * 100)\n",
    "            print('')\n",
    "    return best_model"
   ]
  },
  {
   "cell_type": "markdown",
   "metadata": {},
   "source": [
    "### Разделение датафрейма на выборки и определение баланса"
   ]
  },
  {
   "cell_type": "markdown",
   "metadata": {},
   "source": [
    "**Разделение датафррейма на обучающую, валидационную и тестовые выборки**"
   ]
  },
  {
   "cell_type": "markdown",
   "metadata": {},
   "source": [
    "Создаем датафреймы с признаками и целевым признаком:"
   ]
  },
  {
   "cell_type": "code",
   "execution_count": 10,
   "metadata": {},
   "outputs": [],
   "source": [
    "target = df['exited']\n",
    "features = df.drop('exited', axis=1)"
   ]
  },
  {
   "cell_type": "markdown",
   "metadata": {},
   "source": [
    "Разделяем датафррейм на обучающую, валидационную и тестовые выборки в соотношении 60:20:20:"
   ]
  },
  {
   "cell_type": "code",
   "execution_count": 11,
   "metadata": {},
   "outputs": [
    {
     "name": "stdout",
     "output_type": "stream",
     "text": [
      "Размер обучающей выборки: 6000\n",
      "Размер валидационной выборки: 2000\n",
      "Размер тестовой выборки: 2000\n"
     ]
    }
   ],
   "source": [
    "features_train, features_valid, target_train, target_valid = train_test_split(\n",
    "    features, target, test_size=0.4, random_state=rand_state)\n",
    "features_valid, features_test, target_valid, target_test = train_test_split(\n",
    "    features_valid, target_valid, test_size=0.5, random_state=rand_state)\n",
    "print(f'Размер обучающей выборки: {features_train.shape[0]}')\n",
    "print(f'Размер валидационной выборки: {features_valid.shape[0]}')\n",
    "print(f'Размер тестовой выборки: {features_test.shape[0]}')"
   ]
  },
  {
   "cell_type": "markdown",
   "metadata": {},
   "source": [
    "Определяем отношение положительных объектов к общему количеству объектов в обучающей выборке:"
   ]
  },
  {
   "cell_type": "code",
   "execution_count": 12,
   "metadata": {},
   "outputs": [
    {
     "name": "stdout",
     "output_type": "stream",
     "text": [
      "0.20\n"
     ]
    }
   ],
   "source": [
    "positive_share = target_train.mean()\n",
    "print('{:.2f}'.format(positive_share))"
   ]
  },
  {
   "cell_type": "markdown",
   "metadata": {},
   "source": [
    "В выборке наблюдается дисбаланс: в обучающей выборке положительные объекты составляют порядка 20% от общего числа."
   ]
  },
  {
   "cell_type": "markdown",
   "metadata": {},
   "source": [
    "**Подготовка признаков**"
   ]
  },
  {
   "cell_type": "markdown",
   "metadata": {},
   "source": [
    "Стандартизируем некатегориальные признаки и преобразовываем категориальные данные \"geography\" и \"gender\" методом прямого кодирования (OHE):"
   ]
  },
  {
   "cell_type": "code",
   "execution_count": 13,
   "metadata": {},
   "outputs": [],
   "source": [
    "def df_transform(data):\n",
    "    # Масштабирование\n",
    "    numeric = ['credit_score', 'age', 'tenure', 'balance', 'num_of_products', 'estimated_salary']\n",
    "    scaler = StandardScaler()\n",
    "    scaler.fit(data[numeric])\n",
    "    data = data.reset_index(drop=True)\n",
    "    data[numeric] = scaler.transform(data[numeric])\n",
    "    \n",
    "    # Прямое кодирование (OHE)\n",
    "    encoder = OneHotEncoder(drop='first')\n",
    "    encoder_df = pd.DataFrame(encoder.fit_transform(data[['geography', 'gender']]).toarray())\n",
    "    data = data.join(encoder_df)\n",
    "    \n",
    "    # Удаление ненужных столбцов\n",
    "    data = data.drop(['row_number', 'customer_id', 'gender', 'geography', 'surname'], axis=1)\n",
    "    \n",
    "    # Перевод названий всех столбцов в str \n",
    "    data.columns = data.columns.astype(str)\n",
    "    return data"
   ]
  },
  {
   "cell_type": "code",
   "execution_count": 14,
   "metadata": {},
   "outputs": [],
   "source": [
    "features_train = df_transform(features_train)\n",
    "features_valid = df_transform(features_valid)\n",
    "features_test = df_transform(features_test)"
   ]
  },
  {
   "cell_type": "markdown",
   "metadata": {},
   "source": [
    "<div class=\"alert alert-info\"> <b>Комментарий студента:</b> Объединил масштабирование и OHE в одну функцию df_transform (см.выше)</div>"
   ]
  },
  {
   "cell_type": "markdown",
   "metadata": {},
   "source": [
    "### Определение лучшей модели прогнозирования на несбалансированных данных"
   ]
  },
  {
   "cell_type": "code",
   "execution_count": 15,
   "metadata": {
    "scrolled": false
   },
   "outputs": [
    {
     "name": "stdout",
     "output_type": "stream",
     "text": [
      "Лучшая модель LogisticRegression:\n",
      "LogisticRegression(C=1, random_state=12345, solver='liblinear')\n",
      "F1 = 0.31\n",
      "AUC_ROC = 0.76\n",
      "____________________________________________________________________________________________________\n",
      "\n",
      "Лучшая модель DecisionTreeClassifier:\n",
      "DecisionTreeClassifier(max_depth=7, min_samples_split=6, random_state=12345)\n",
      "F1 = 0.57\n",
      "AUC_ROC = 0.82\n",
      "____________________________________________________________________________________________________\n",
      "\n"
     ]
    },
    {
     "data": {
      "image/png": "[encoded data removed]",
      "text/plain": [
       "<Figure size 1500x1500 with 1 Axes>"
      ]
     },
     "metadata": {},
     "output_type": "display_data"
    },
    {
     "name": "stdout",
     "output_type": "stream",
     "text": [
      "Наилучшая модель из всех:\n",
      "DecisionTreeClassifier(max_depth=7, min_samples_split=6, random_state=12345)\n",
      "F1 = 0.57\n",
      "____________________________________________________________________________________________________\n",
      "\n"
     ]
    }
   ],
   "source": [
    "best_no_balance_model = find_model(features_train, target_train)"
   ]
  },
  {
   "cell_type": "markdown",
   "metadata": {},
   "source": [
    "**Вывод:**\n",
    "1. Созданы датафреймы с признаками и целевым признаком.  \n",
    "2. Датафррейм разделен на обучающую, валидационную и тестовые выборки в соотношении 60:20:20.  \n",
    "3. В обучающей выборке наблюдается дисбаланс: отношение положительных объектов к общему количеству объектов - 0.20.  \n",
    "4. Стандартизированы некатегориальные признаки, категориальные данные \"geography\" и \"gender\" преобразованы методом прямого кодирования (OHE).\n",
    "5. На несбалансированной выборке лучший результат показала модель DecisionTreeClassifier(max_depth=7, min_samples_split=8, random_state=12345): значение F1 = 0.58."
   ]
  },
  {
   "cell_type": "markdown",
   "metadata": {},
   "source": [
    "## Борьба с дисбалансом"
   ]
  },
  {
   "cell_type": "markdown",
   "metadata": {},
   "source": [
    "### Определение лучшей модели, обученной на выборке, сбалансированной методом SMOTE"
   ]
  },
  {
   "cell_type": "markdown",
   "metadata": {},
   "source": [
    "**Балансировка данных методом SMOTE**"
   ]
  },
  {
   "cell_type": "code",
   "execution_count": 16,
   "metadata": {},
   "outputs": [],
   "source": [
    "sm = SMOTE(random_state=rand_state, k_neighbors=5)\n",
    "features_sm, target_sm = sm.fit_resample(features_train, target_train)"
   ]
  },
  {
   "cell_type": "markdown",
   "metadata": {},
   "source": [
    "Проверяем баланс:"
   ]
  },
  {
   "cell_type": "code",
   "execution_count": 17,
   "metadata": {
    "scrolled": false
   },
   "outputs": [
    {
     "name": "stdout",
     "output_type": "stream",
     "text": [
      "0.50\n"
     ]
    }
   ],
   "source": [
    "print('{:.2f}'.format(target_sm.mean()))"
   ]
  },
  {
   "cell_type": "markdown",
   "metadata": {},
   "source": [
    "**Определение лучшей модели, обученной на выборке, сбалансированной методом SMOTE**"
   ]
  },
  {
   "cell_type": "code",
   "execution_count": 18,
   "metadata": {
    "scrolled": true
   },
   "outputs": [
    {
     "name": "stdout",
     "output_type": "stream",
     "text": [
      "Лучшая модель LogisticRegression:\n",
      "LogisticRegression(C=1, random_state=12345, solver='liblinear')\n",
      "F1 = 0.48\n",
      "AUC_ROC = 0.75\n",
      "____________________________________________________________________________________________________\n",
      "\n",
      "Лучшая модель DecisionTreeClassifier:\n",
      "DecisionTreeClassifier(max_depth=7, min_samples_leaf=13, random_state=12345)\n",
      "F1 = 0.56\n",
      "AUC_ROC = 0.82\n",
      "____________________________________________________________________________________________________\n",
      "\n"
     ]
    },
    {
     "data": {
      "image/png": "[encoded data removed]",
      "text/plain": [
       "<Figure size 1500x1500 with 1 Axes>"
      ]
     },
     "metadata": {},
     "output_type": "display_data"
    },
    {
     "name": "stdout",
     "output_type": "stream",
     "text": [
      "Наилучшая модель из всех:\n",
      "DecisionTreeClassifier(max_depth=7, min_samples_leaf=13, random_state=12345)\n",
      "F1 = 0.56\n",
      "____________________________________________________________________________________________________\n",
      "\n"
     ]
    }
   ],
   "source": [
    "best_model_sm = find_model(features_sm, target_sm)"
   ]
  },
  {
   "cell_type": "markdown",
   "metadata": {},
   "source": [
    "### Определение лучшей модели, обученной на выборке, сбалансированной методом RandomUnderSampler"
   ]
  },
  {
   "cell_type": "markdown",
   "metadata": {},
   "source": [
    "****Балансировка данных методом RandomUnderSampler****"
   ]
  },
  {
   "cell_type": "code",
   "execution_count": 19,
   "metadata": {},
   "outputs": [],
   "source": [
    "us = RandomUnderSampler(random_state=rand_state) \n",
    "features_us, target_us = us.fit_resample(features_train, target_train)"
   ]
  },
  {
   "cell_type": "markdown",
   "metadata": {},
   "source": [
    "Проверяем баланс:"
   ]
  },
  {
   "cell_type": "code",
   "execution_count": 20,
   "metadata": {},
   "outputs": [
    {
     "name": "stdout",
     "output_type": "stream",
     "text": [
      "0.50\n"
     ]
    }
   ],
   "source": [
    "print('{:.2f}'.format(target_us.mean()))"
   ]
  },
  {
   "cell_type": "markdown",
   "metadata": {},
   "source": [
    "**Определение лучшей модели, обученной на выборке, сбалансированной методом RandomUnderSampler**"
   ]
  },
  {
   "cell_type": "code",
   "execution_count": 21,
   "metadata": {
    "scrolled": true
   },
   "outputs": [
    {
     "name": "stdout",
     "output_type": "stream",
     "text": [
      "Лучшая модель LogisticRegression:\n",
      "LogisticRegression(C=1, random_state=12345, solver='liblinear')\n",
      "F1 = 0.49\n",
      "AUC_ROC = 0.76\n",
      "____________________________________________________________________________________________________\n",
      "\n",
      "Лучшая модель DecisionTreeClassifier:\n",
      "DecisionTreeClassifier(max_depth=7, min_samples_leaf=13, random_state=12345)\n",
      "F1 = 0.55\n",
      "AUC_ROC = 0.82\n",
      "____________________________________________________________________________________________________\n",
      "\n"
     ]
    },
    {
     "data": {
      "image/png": "[encoded data removed]",
      "text/plain": [
       "<Figure size 1500x1500 with 1 Axes>"
      ]
     },
     "metadata": {},
     "output_type": "display_data"
    },
    {
     "name": "stdout",
     "output_type": "stream",
     "text": [
      "Наилучшая модель из всех:\n",
      "DecisionTreeClassifier(max_depth=7, min_samples_leaf=13, random_state=12345)\n",
      "F1 = 0.55\n",
      "____________________________________________________________________________________________________\n",
      "\n"
     ]
    }
   ],
   "source": [
    "best_model_us = find_model(features_us, target_us)"
   ]
  },
  {
   "cell_type": "markdown",
   "metadata": {},
   "source": [
    "### Определение лучшей модели, обученной на выборке, сбалансированной взвешиванием классов"
   ]
  },
  {
   "cell_type": "code",
   "execution_count": 22,
   "metadata": {},
   "outputs": [
    {
     "name": "stdout",
     "output_type": "stream",
     "text": [
      "Лучшая модель LogisticRegression:\n",
      "LogisticRegression(C=1, class_weight='balanced', random_state=12345,\n",
      "                   solver='liblinear')\n",
      "F1 = 0.49\n",
      "AUC_ROC = 0.76\n",
      "____________________________________________________________________________________________________\n",
      "\n",
      "Лучшая модель DecisionTreeClassifier:\n",
      "DecisionTreeClassifier(class_weight='balanced', max_depth=7, min_samples_leaf=9,\n",
      "                       random_state=12345)\n",
      "F1 = 0.57\n",
      "AUC_ROC = 0.83\n",
      "____________________________________________________________________________________________________\n",
      "\n"
     ]
    },
    {
     "data": {
      "image/png": "[encoded data removed]",
      "text/plain": [
       "<Figure size 1500x1500 with 1 Axes>"
      ]
     },
     "metadata": {},
     "output_type": "display_data"
    },
    {
     "name": "stdout",
     "output_type": "stream",
     "text": [
      "Наилучшая модель из всех:\n",
      "DecisionTreeClassifier(class_weight='balanced', max_depth=7, min_samples_leaf=9,\n",
      "                       random_state=12345)\n",
      "F1 = 0.57\n",
      "____________________________________________________________________________________________________\n",
      "\n"
     ]
    }
   ],
   "source": [
    "best_model_cw = find_model(features_train, target_train, cl_weight='balanced')"
   ]
  },
  {
   "cell_type": "markdown",
   "metadata": {},
   "source": [
    "**Вывод:**\n",
    "1. При всех методах балансировки наилучший результат показала модель \"RandomForestClassifier\", наихудший - \"LogisticRegression\".\n",
    "2. Наилучший результат показала модель RandomForestClassifier(class_weight='balanced', max_depth=7, min_samples_leaf=7, random_state=12345), обученная на выборке, сбалансированной взвешиванием классов:  \n",
    " - F1 = 0.63;\n",
    " - AUC_ROC = 0.86.  \n",
    "\n",
    "3. После балансировки значительно увеличилось качество модели LogisticRegression: значение метрики F1 возросло с 0.33 до 0.48-0.49.\n",
    "5. В целом метрики AUC_ROC как для моделей, обученных на сбалансированных выборках, так и на несбалансированной сопоставимы и находятся в диапазоне:\n",
    " - LogisticRegression - 0.75-0.76;\n",
    " - DecisionTreeClassifier: 0.81-0.83;\n",
    " - RandomForestClassifier: 0.83-0.86;\n",
    "6. Метрика AUC_ROC менее чувствительна к дисбалансу в обучающей выборке, нежели метрика F1."
   ]
  },
  {
   "cell_type": "markdown",
   "metadata": {},
   "source": [
    "## Тестирование модели"
   ]
  },
  {
   "cell_type": "markdown",
   "metadata": {},
   "source": [
    "Тест проводим на наиболее качественной модели - RandomForestClassifier(class_weight='balanced', max_depth=7, min_samples_leaf=7, random_state=12345), обученной на выборке, сбалансированной взвешиванием классов.  \n",
    "Объединяем валидационную и обучающую выборки:"
   ]
  },
  {
   "cell_type": "code",
   "execution_count": 23,
   "metadata": {},
   "outputs": [],
   "source": [
    "features_train_for_test = pd.concat([features_train, features_valid])\n",
    "target_train_for_test = pd.concat([target_train, target_valid])"
   ]
  },
  {
   "cell_type": "markdown",
   "metadata": {},
   "source": [
    "На данных выборках обучаем модель:"
   ]
  },
  {
   "cell_type": "code",
   "execution_count": 24,
   "metadata": {},
   "outputs": [
    {
     "name": "stdout",
     "output_type": "stream",
     "text": [
      "Метрики лучшей модели на тестовой выборке:\n",
      "F1 = 0.59\n",
      "AUC_ROC = 0.84\n"
     ]
    }
   ],
   "source": [
    "best_model_cw.fit(features_train_for_test, target_train_for_test)\n",
    "predicted_test = best_model_cw.predict(features_test)\n",
    "result = f1_score(target_test, predicted_test)\n",
    "probabilities_test = best_model_cw.predict_proba(features_test)\n",
    "probabilities_one_test = probabilities_test[:, 1]\n",
    "auc_roc = roc_auc_score(target_test, probabilities_one_test)\n",
    "print('Метрики лучшей модели на тестовой выборке:')\n",
    "print('F1 = {:.2f}'.format(result))\n",
    "print('AUC_ROC = {:.2f}'.format(auc_roc))"
   ]
  },
  {
   "cell_type": "markdown",
   "metadata": {},
   "source": [
    "**Вывод:**  \n",
    "Результаты проверки наиболее качественной модели на тестовой выборке (F1=0.61) превосходят минимально допустимые, заложенные в техническом задании (F1=0.59).  \n",
    "Модель RandomForestClassifier(class_weight='balanced', max_depth=7, min_samples_leaf=7, random_state=12345) достаточно качественна для решения задачи прогнозирования."
   ]
  },
  {
   "cell_type": "markdown",
   "metadata": {},
   "source": [
    "## Общий вывод"
   ]
  },
  {
   "cell_type": "markdown",
   "metadata": {},
   "source": [
    "**Подготовка данных**\n",
    "1. Обработаны названия столбцов: приведены к нижнему регистру, убран \"верблюжий регистр\".\n",
    "2. Обработаны пропущенные значения.\n",
    "\n",
    "**Исследование задачи**\n",
    "1. Созданы датафреймы с признаками и целевым признаком.  \n",
    "2. Датафррейм разделен на обучающую, валидационную и тестовые выборки в соотношении 60:20:20.  \n",
    "3. В обучающей выборке наблюдается дисбаланс: отношение положительных объектов к общему количеству объектов - 0.20.  \n",
    "4. Стандартизированы некатегориальные признаки, категориальные данные \"geography\" и \"gender\" преобразованы методом прямого кодирования (OHE).\n",
    "5. На несбалансированной выборке лучший результат показала модель DecisionTreeClassifier(max_depth=7, min_samples_split=8, random_state=12345): значение F1 = 0.58.\n",
    "\n",
    "**Борьба с дисбалансом**\n",
    "1. При всех методах балансировки наилучший результат показала модель \"RandomForestClassifier\", наихудший - \"LogisticRegression\".\n",
    "2. Наилучший результат показала модель RandomForestClassifier(class_weight='balanced', max_depth=7, min_samples_leaf=7, random_state=12345), обученная на выборке, сбалансированной взвешиванием классов:  \n",
    " - F1 = 0.63;\n",
    " - AUC_ROC = 0.86.  \n",
    "\n",
    "3. После балансировки значительно увеличилось качество модели LogisticRegression: значение метрики F1 возросло с 0.33 до 0.48-0.49.\n",
    "5. В целом метрики AUC_ROC как для моделей, обученных на сбалансированных выборках, так и на несбалансированной сопоставимы и находятся в диапазоне:\n",
    " - LogisticRegression - 0.75-0.76;\n",
    " - DecisionTreeClassifier: 0.81-0.83;\n",
    " - RandomForestClassifier: 0.83-0.86;\n",
    "6. Метрика AUC_ROC менее чувствительна к дисбалансу в обучающей выборке, нежели метрика F1.\n",
    "\n",
    "**Тестирование модели**  \n",
    "\n",
    "\n",
    "Результаты проверки наиболее качественной модели на тестовой выборке (F1=0.61) превосходят минимально допустимые, заложенные в техническом задании (F1=0.59).  \n",
    "Модель RandomForestClassifier(class_weight='balanced', max_depth=7, min_samples_leaf=7, random_state=12345) достаточно качественна для решения задачи прогнозирования."
   ]
  }
 ],
 "metadata": {
  "ExecuteTimeLog": [
   {
    "duration": 1625,
    "start_time": "2022-12-11T16:05:52.269Z"
   },
   {
    "duration": 5,
    "start_time": "2022-12-11T16:07:53.547Z"
   },
   {
    "duration": 93,
    "start_time": "2022-12-11T16:07:54.448Z"
   },
   {
    "duration": 5,
    "start_time": "2022-12-11T16:09:05.470Z"
   },
   {
    "duration": 95,
    "start_time": "2022-12-11T16:09:05.820Z"
   },
   {
    "duration": 120,
    "start_time": "2022-12-11T16:21:50.420Z"
   },
   {
    "duration": 11,
    "start_time": "2022-12-11T16:22:51.029Z"
   },
   {
    "duration": 3,
    "start_time": "2022-12-11T16:22:57.000Z"
   },
   {
    "duration": 27,
    "start_time": "2022-12-11T16:23:05.739Z"
   },
   {
    "duration": 5,
    "start_time": "2022-12-11T16:24:22.610Z"
   },
   {
    "duration": 22,
    "start_time": "2022-12-11T16:24:26.270Z"
   },
   {
    "duration": 23,
    "start_time": "2022-12-11T16:24:38.169Z"
   },
   {
    "duration": 6,
    "start_time": "2022-12-11T16:28:48.340Z"
   },
   {
    "duration": 21,
    "start_time": "2022-12-11T16:28:49.360Z"
   },
   {
    "duration": 4,
    "start_time": "2022-12-11T16:29:28.980Z"
   },
   {
    "duration": 42,
    "start_time": "2022-12-11T16:29:29.779Z"
   },
   {
    "duration": 5,
    "start_time": "2022-12-11T16:29:30.421Z"
   },
   {
    "duration": 87,
    "start_time": "2022-12-11T16:29:31.319Z"
   },
   {
    "duration": 11,
    "start_time": "2022-12-11T16:29:34.840Z"
   },
   {
    "duration": 11,
    "start_time": "2022-12-11T16:29:57.801Z"
   },
   {
    "duration": 5,
    "start_time": "2022-12-11T16:30:20.300Z"
   },
   {
    "duration": 24,
    "start_time": "2022-12-11T16:30:22.249Z"
   },
   {
    "duration": 676,
    "start_time": "2022-12-11T16:34:40.900Z"
   },
   {
    "duration": 597,
    "start_time": "2022-12-11T16:35:05.000Z"
   },
   {
    "duration": 14,
    "start_time": "2022-12-11T16:42:08.454Z"
   },
   {
    "duration": 13,
    "start_time": "2022-12-11T16:42:19.800Z"
   },
   {
    "duration": 718,
    "start_time": "2022-12-11T16:43:56.890Z"
   },
   {
    "duration": 8,
    "start_time": "2022-12-11T16:44:09.300Z"
   },
   {
    "duration": 24,
    "start_time": "2022-12-11T16:45:34.081Z"
   },
   {
    "duration": 17,
    "start_time": "2022-12-11T16:48:41.639Z"
   },
   {
    "duration": 5,
    "start_time": "2022-12-11T16:49:07.770Z"
   },
   {
    "duration": 3,
    "start_time": "2022-12-11T17:05:32.539Z"
   },
   {
    "duration": 11,
    "start_time": "2022-12-11T17:07:48.157Z"
   },
   {
    "duration": 717,
    "start_time": "2022-12-11T17:10:45.690Z"
   },
   {
    "duration": 5,
    "start_time": "2022-12-11T17:10:56.590Z"
   },
   {
    "duration": 11,
    "start_time": "2022-12-11T17:10:57.900Z"
   },
   {
    "duration": 10,
    "start_time": "2022-12-11T17:15:48.971Z"
   },
   {
    "duration": 4,
    "start_time": "2022-12-11T17:15:54.741Z"
   },
   {
    "duration": 30,
    "start_time": "2022-12-11T17:25:22.961Z"
   },
   {
    "duration": 18,
    "start_time": "2022-12-11T17:29:43.302Z"
   },
   {
    "duration": 29,
    "start_time": "2022-12-11T17:33:16.772Z"
   },
   {
    "duration": 3447,
    "start_time": "2022-12-11T17:33:17.761Z"
   },
   {
    "duration": 22,
    "start_time": "2022-12-11T17:34:01.112Z"
   },
   {
    "duration": 3351,
    "start_time": "2022-12-11T17:34:06.811Z"
   },
   {
    "duration": 19,
    "start_time": "2022-12-11T17:34:27.044Z"
   },
   {
    "duration": 4,
    "start_time": "2022-12-11T17:34:28.971Z"
   },
   {
    "duration": 10,
    "start_time": "2022-12-11T17:34:29.392Z"
   },
   {
    "duration": 4,
    "start_time": "2022-12-11T17:34:30.051Z"
   },
   {
    "duration": 28,
    "start_time": "2022-12-11T17:34:31.111Z"
   },
   {
    "duration": 3499,
    "start_time": "2022-12-11T17:34:32.971Z"
   },
   {
    "duration": 15,
    "start_time": "2022-12-11T17:36:04.201Z"
   },
   {
    "duration": 3522,
    "start_time": "2022-12-11T17:36:09.700Z"
   },
   {
    "duration": 4,
    "start_time": "2022-12-11T17:42:00.702Z"
   },
   {
    "duration": 11,
    "start_time": "2022-12-11T17:42:01.411Z"
   },
   {
    "duration": 4,
    "start_time": "2022-12-11T17:43:26.842Z"
   },
   {
    "duration": 19,
    "start_time": "2022-12-11T17:44:16.541Z"
   },
   {
    "duration": 11,
    "start_time": "2022-12-11T17:44:28.901Z"
   },
   {
    "duration": 504,
    "start_time": "2022-12-11T17:44:53.331Z"
   },
   {
    "duration": 4,
    "start_time": "2022-12-11T17:45:01.942Z"
   },
   {
    "duration": 12,
    "start_time": "2022-12-11T17:45:13.841Z"
   },
   {
    "duration": 4,
    "start_time": "2022-12-11T17:45:25.724Z"
   },
   {
    "duration": 3,
    "start_time": "2022-12-11T17:45:50.192Z"
   },
   {
    "duration": 4,
    "start_time": "2022-12-11T17:48:58.031Z"
   },
   {
    "duration": 10,
    "start_time": "2022-12-11T17:49:27.771Z"
   },
   {
    "duration": 42,
    "start_time": "2022-12-11T17:49:44.462Z"
   },
   {
    "duration": 3383,
    "start_time": "2022-12-11T17:51:27.939Z"
   },
   {
    "duration": 3334,
    "start_time": "2022-12-11T17:51:52.751Z"
   },
   {
    "duration": 15,
    "start_time": "2022-12-11T17:53:49.692Z"
   },
   {
    "duration": 4,
    "start_time": "2022-12-11T17:53:50.972Z"
   },
   {
    "duration": 11,
    "start_time": "2022-12-11T17:53:51.542Z"
   },
   {
    "duration": 1420,
    "start_time": "2022-12-11T17:53:57.932Z"
   },
   {
    "duration": 44,
    "start_time": "2022-12-11T17:53:59.354Z"
   },
   {
    "duration": 5,
    "start_time": "2022-12-11T17:53:59.400Z"
   },
   {
    "duration": 109,
    "start_time": "2022-12-11T17:53:59.406Z"
   },
   {
    "duration": 5,
    "start_time": "2022-12-11T17:53:59.535Z"
   },
   {
    "duration": 612,
    "start_time": "2022-12-11T17:53:59.542Z"
   },
   {
    "duration": 10,
    "start_time": "2022-12-11T17:54:00.156Z"
   },
   {
    "duration": 10,
    "start_time": "2022-12-11T17:54:00.167Z"
   },
   {
    "duration": 14,
    "start_time": "2022-12-11T17:54:00.178Z"
   },
   {
    "duration": 7,
    "start_time": "2022-12-11T17:54:00.194Z"
   },
   {
    "duration": 16,
    "start_time": "2022-12-11T17:54:00.202Z"
   },
   {
    "duration": 32,
    "start_time": "2022-12-11T17:54:00.220Z"
   },
   {
    "duration": 30,
    "start_time": "2022-12-11T17:54:00.254Z"
   },
   {
    "duration": 35,
    "start_time": "2022-12-11T17:54:00.287Z"
   },
   {
    "duration": 37,
    "start_time": "2022-12-11T17:54:00.323Z"
   },
   {
    "duration": 1439,
    "start_time": "2022-12-11T17:56:58.541Z"
   },
   {
    "duration": 53,
    "start_time": "2022-12-11T17:56:59.983Z"
   },
   {
    "duration": 5,
    "start_time": "2022-12-11T17:57:00.038Z"
   },
   {
    "duration": 121,
    "start_time": "2022-12-11T17:57:00.045Z"
   },
   {
    "duration": 6,
    "start_time": "2022-12-11T17:57:00.168Z"
   },
   {
    "duration": 614,
    "start_time": "2022-12-11T17:57:00.176Z"
   },
   {
    "duration": 10,
    "start_time": "2022-12-11T17:57:00.792Z"
   },
   {
    "duration": 34,
    "start_time": "2022-12-11T17:57:00.804Z"
   },
   {
    "duration": 36,
    "start_time": "2022-12-11T17:57:00.840Z"
   },
   {
    "duration": 41,
    "start_time": "2022-12-11T17:57:00.879Z"
   },
   {
    "duration": 47,
    "start_time": "2022-12-11T17:57:00.921Z"
   },
   {
    "duration": 67,
    "start_time": "2022-12-11T17:57:00.970Z"
   },
   {
    "duration": 29,
    "start_time": "2022-12-11T17:57:01.039Z"
   },
   {
    "duration": 24,
    "start_time": "2022-12-11T17:57:01.070Z"
   },
   {
    "duration": 46,
    "start_time": "2022-12-11T17:57:01.096Z"
   },
   {
    "duration": 167102,
    "start_time": "2022-12-11T17:57:01.144Z"
   },
   {
    "duration": 3,
    "start_time": "2022-12-11T17:59:48.248Z"
   },
   {
    "duration": 25,
    "start_time": "2022-12-11T17:59:48.253Z"
   },
   {
    "duration": 4,
    "start_time": "2022-12-11T17:59:48.280Z"
   },
   {
    "duration": 234173,
    "start_time": "2022-12-11T17:59:48.285Z"
   },
   {
    "duration": 3,
    "start_time": "2022-12-11T18:26:36.862Z"
   },
   {
    "duration": 7,
    "start_time": "2022-12-11T18:27:02.282Z"
   },
   {
    "duration": 3,
    "start_time": "2022-12-11T18:27:21.342Z"
   },
   {
    "duration": 7,
    "start_time": "2022-12-11T18:27:28.812Z"
   },
   {
    "duration": 4,
    "start_time": "2022-12-11T18:27:32.132Z"
   },
   {
    "duration": 237163,
    "start_time": "2022-12-11T18:30:20.352Z"
   },
   {
    "duration": 134,
    "start_time": "2022-12-11T18:34:17.517Z"
   },
   {
    "duration": 2,
    "start_time": "2022-12-11T18:35:32.183Z"
   },
   {
    "duration": 16,
    "start_time": "2022-12-11T18:36:29.313Z"
   },
   {
    "duration": 5,
    "start_time": "2022-12-11T18:36:32.673Z"
   },
   {
    "duration": 9,
    "start_time": "2022-12-11T18:36:33.153Z"
   },
   {
    "duration": 3,
    "start_time": "2022-12-11T18:36:33.643Z"
   },
   {
    "duration": 30,
    "start_time": "2022-12-11T18:36:34.753Z"
   },
   {
    "duration": 1677,
    "start_time": "2022-12-11T18:36:35.483Z"
   },
   {
    "duration": 4,
    "start_time": "2022-12-11T18:36:37.162Z"
   },
   {
    "duration": 1470,
    "start_time": "2022-12-11T18:36:43.308Z"
   },
   {
    "duration": 43,
    "start_time": "2022-12-11T18:36:44.780Z"
   },
   {
    "duration": 4,
    "start_time": "2022-12-11T18:36:44.825Z"
   },
   {
    "duration": 104,
    "start_time": "2022-12-11T18:36:44.831Z"
   },
   {
    "duration": 7,
    "start_time": "2022-12-11T18:36:44.940Z"
   },
   {
    "duration": 568,
    "start_time": "2022-12-11T18:36:44.948Z"
   },
   {
    "duration": 17,
    "start_time": "2022-12-11T18:36:45.518Z"
   },
   {
    "duration": 6,
    "start_time": "2022-12-11T18:36:45.537Z"
   },
   {
    "duration": 20,
    "start_time": "2022-12-11T18:36:45.545Z"
   },
   {
    "duration": 14,
    "start_time": "2022-12-11T18:36:45.566Z"
   },
   {
    "duration": 18,
    "start_time": "2022-12-11T18:36:45.582Z"
   },
   {
    "duration": 12,
    "start_time": "2022-12-11T18:36:45.601Z"
   },
   {
    "duration": 23,
    "start_time": "2022-12-11T18:36:45.615Z"
   },
   {
    "duration": 27,
    "start_time": "2022-12-11T18:36:45.641Z"
   },
   {
    "duration": 34,
    "start_time": "2022-12-11T18:36:45.670Z"
   },
   {
    "duration": 1743,
    "start_time": "2022-12-11T18:36:45.705Z"
   },
   {
    "duration": 6,
    "start_time": "2022-12-11T18:36:47.450Z"
   },
   {
    "duration": 18,
    "start_time": "2022-12-11T18:36:47.458Z"
   },
   {
    "duration": 9,
    "start_time": "2022-12-11T18:36:47.478Z"
   },
   {
    "duration": 2348,
    "start_time": "2022-12-11T18:36:47.489Z"
   },
   {
    "duration": 6,
    "start_time": "2022-12-11T18:36:49.839Z"
   },
   {
    "duration": 27,
    "start_time": "2022-12-11T18:36:49.846Z"
   },
   {
    "duration": 13,
    "start_time": "2022-12-11T18:36:49.875Z"
   },
   {
    "duration": 156,
    "start_time": "2022-12-11T18:36:49.890Z"
   },
   {
    "duration": 4,
    "start_time": "2022-12-11T18:38:23.328Z"
   },
   {
    "duration": 36,
    "start_time": "2022-12-11T18:38:24.418Z"
   },
   {
    "duration": 4,
    "start_time": "2022-12-11T18:39:03.308Z"
   },
   {
    "duration": 39,
    "start_time": "2022-12-11T18:39:04.209Z"
   },
   {
    "duration": 1401,
    "start_time": "2022-12-11T18:39:54.384Z"
   },
   {
    "duration": 43,
    "start_time": "2022-12-11T18:39:55.787Z"
   },
   {
    "duration": 5,
    "start_time": "2022-12-11T18:39:55.832Z"
   },
   {
    "duration": 113,
    "start_time": "2022-12-11T18:39:55.838Z"
   },
   {
    "duration": 5,
    "start_time": "2022-12-11T18:39:55.954Z"
   },
   {
    "duration": 605,
    "start_time": "2022-12-11T18:39:55.961Z"
   },
   {
    "duration": 12,
    "start_time": "2022-12-11T18:39:56.568Z"
   },
   {
    "duration": 23,
    "start_time": "2022-12-11T18:39:56.581Z"
   },
   {
    "duration": 4,
    "start_time": "2022-12-11T18:39:56.605Z"
   },
   {
    "duration": 7,
    "start_time": "2022-12-11T18:39:56.611Z"
   },
   {
    "duration": 19,
    "start_time": "2022-12-11T18:39:56.620Z"
   },
   {
    "duration": 13,
    "start_time": "2022-12-11T18:39:56.640Z"
   },
   {
    "duration": 21,
    "start_time": "2022-12-11T18:39:56.655Z"
   },
   {
    "duration": 21,
    "start_time": "2022-12-11T18:39:56.679Z"
   },
   {
    "duration": 45,
    "start_time": "2022-12-11T18:39:56.701Z"
   },
   {
    "duration": 166150,
    "start_time": "2022-12-11T18:39:56.748Z"
   },
   {
    "duration": 4,
    "start_time": "2022-12-11T18:42:42.900Z"
   },
   {
    "duration": 29,
    "start_time": "2022-12-11T18:42:42.906Z"
   },
   {
    "duration": 4,
    "start_time": "2022-12-11T18:42:42.937Z"
   },
   {
    "duration": 237450,
    "start_time": "2022-12-11T18:42:42.943Z"
   },
   {
    "duration": 7,
    "start_time": "2022-12-11T18:46:40.395Z"
   },
   {
    "duration": 21,
    "start_time": "2022-12-11T18:46:40.404Z"
   },
   {
    "duration": 11,
    "start_time": "2022-12-11T18:46:40.427Z"
   },
   {
    "duration": 1006,
    "start_time": "2022-12-11T18:46:40.440Z"
   },
   {
    "duration": 127,
    "start_time": "2022-12-11T18:52:11.634Z"
   },
   {
    "duration": 5,
    "start_time": "2022-12-11T18:52:19.154Z"
   },
   {
    "duration": 12,
    "start_time": "2022-12-11T18:52:22.274Z"
   },
   {
    "duration": 4,
    "start_time": "2022-12-11T18:52:44.014Z"
   },
   {
    "duration": 12,
    "start_time": "2022-12-11T18:53:51.944Z"
   },
   {
    "duration": 3,
    "start_time": "2022-12-11T18:53:52.664Z"
   },
   {
    "duration": 4,
    "start_time": "2022-12-11T18:54:05.194Z"
   },
   {
    "duration": 1460,
    "start_time": "2022-12-11T18:54:44.399Z"
   },
   {
    "duration": 43,
    "start_time": "2022-12-11T18:54:45.861Z"
   },
   {
    "duration": 5,
    "start_time": "2022-12-11T18:54:45.906Z"
   },
   {
    "duration": 124,
    "start_time": "2022-12-11T18:54:45.912Z"
   },
   {
    "duration": 4,
    "start_time": "2022-12-11T18:54:46.039Z"
   },
   {
    "duration": 624,
    "start_time": "2022-12-11T18:54:46.045Z"
   },
   {
    "duration": 14,
    "start_time": "2022-12-11T18:54:46.671Z"
   },
   {
    "duration": 12,
    "start_time": "2022-12-11T18:54:46.688Z"
   },
   {
    "duration": 11,
    "start_time": "2022-12-11T18:54:46.702Z"
   },
   {
    "duration": 25,
    "start_time": "2022-12-11T18:54:46.716Z"
   },
   {
    "duration": 49,
    "start_time": "2022-12-11T18:54:46.743Z"
   },
   {
    "duration": 25,
    "start_time": "2022-12-11T18:54:46.794Z"
   },
   {
    "duration": 16,
    "start_time": "2022-12-11T18:54:46.821Z"
   },
   {
    "duration": 17,
    "start_time": "2022-12-11T18:54:46.840Z"
   },
   {
    "duration": 42,
    "start_time": "2022-12-11T18:54:46.859Z"
   },
   {
    "duration": 1758,
    "start_time": "2022-12-11T18:54:46.903Z"
   },
   {
    "duration": 4,
    "start_time": "2022-12-11T18:54:48.663Z"
   },
   {
    "duration": 8,
    "start_time": "2022-12-11T18:54:48.669Z"
   },
   {
    "duration": 19,
    "start_time": "2022-12-11T18:54:48.679Z"
   },
   {
    "duration": 3,
    "start_time": "2022-12-11T18:54:48.700Z"
   },
   {
    "duration": 2300,
    "start_time": "2022-12-11T18:54:48.705Z"
   },
   {
    "duration": 5,
    "start_time": "2022-12-11T18:54:51.006Z"
   },
   {
    "duration": 23,
    "start_time": "2022-12-11T18:54:51.012Z"
   },
   {
    "duration": 3,
    "start_time": "2022-12-11T18:54:51.037Z"
   },
   {
    "duration": 8,
    "start_time": "2022-12-11T18:54:51.042Z"
   },
   {
    "duration": 30,
    "start_time": "2022-12-11T18:54:51.052Z"
   },
   {
    "duration": 13,
    "start_time": "2022-12-11T18:54:51.083Z"
   },
   {
    "duration": 43,
    "start_time": "2022-12-11T18:54:51.097Z"
   },
   {
    "duration": 10,
    "start_time": "2022-12-11T18:55:02.109Z"
   },
   {
    "duration": 3,
    "start_time": "2022-12-11T18:55:02.708Z"
   },
   {
    "duration": 3,
    "start_time": "2022-12-11T18:55:16.118Z"
   },
   {
    "duration": 13,
    "start_time": "2022-12-11T18:55:16.788Z"
   },
   {
    "duration": 4,
    "start_time": "2022-12-11T18:55:17.258Z"
   },
   {
    "duration": 49,
    "start_time": "2022-12-11T18:56:26.938Z"
   },
   {
    "duration": 12,
    "start_time": "2022-12-11T18:56:34.128Z"
   },
   {
    "duration": 46,
    "start_time": "2022-12-11T18:56:34.518Z"
   },
   {
    "duration": 4,
    "start_time": "2022-12-11T18:56:34.837Z"
   },
   {
    "duration": 4,
    "start_time": "2022-12-11T18:56:38.838Z"
   },
   {
    "duration": 2237,
    "start_time": "2022-12-11T18:57:33.388Z"
   },
   {
    "duration": 1447,
    "start_time": "2022-12-11T19:01:20.834Z"
   },
   {
    "duration": 43,
    "start_time": "2022-12-11T19:01:22.283Z"
   },
   {
    "duration": 4,
    "start_time": "2022-12-11T19:01:22.328Z"
   },
   {
    "duration": 131,
    "start_time": "2022-12-11T19:01:22.334Z"
   },
   {
    "duration": 5,
    "start_time": "2022-12-11T19:01:22.468Z"
   },
   {
    "duration": 620,
    "start_time": "2022-12-11T19:01:22.476Z"
   },
   {
    "duration": 10,
    "start_time": "2022-12-11T19:01:23.097Z"
   },
   {
    "duration": 42,
    "start_time": "2022-12-11T19:01:23.108Z"
   },
   {
    "duration": 13,
    "start_time": "2022-12-11T19:01:23.152Z"
   },
   {
    "duration": 27,
    "start_time": "2022-12-11T19:01:23.166Z"
   },
   {
    "duration": 15,
    "start_time": "2022-12-11T19:01:23.195Z"
   },
   {
    "duration": 12,
    "start_time": "2022-12-11T19:01:23.212Z"
   },
   {
    "duration": 24,
    "start_time": "2022-12-11T19:01:23.225Z"
   },
   {
    "duration": 15,
    "start_time": "2022-12-11T19:01:23.251Z"
   },
   {
    "duration": 58,
    "start_time": "2022-12-11T19:01:23.268Z"
   },
   {
    "duration": 1490,
    "start_time": "2022-12-11T19:01:23.328Z"
   },
   {
    "duration": 15,
    "start_time": "2022-12-11T19:01:24.820Z"
   },
   {
    "duration": 6,
    "start_time": "2022-12-11T19:01:24.837Z"
   },
   {
    "duration": 13,
    "start_time": "2022-12-11T19:01:24.845Z"
   },
   {
    "duration": 3,
    "start_time": "2022-12-11T19:01:24.859Z"
   },
   {
    "duration": 2147,
    "start_time": "2022-12-11T19:01:24.864Z"
   },
   {
    "duration": 11,
    "start_time": "2022-12-11T19:01:27.013Z"
   },
   {
    "duration": 10,
    "start_time": "2022-12-11T19:01:27.035Z"
   },
   {
    "duration": 1678,
    "start_time": "2022-12-11T19:01:27.046Z"
   },
   {
    "duration": 1961,
    "start_time": "2022-12-11T19:01:28.726Z"
   },
   {
    "duration": 6,
    "start_time": "2022-12-11T19:01:30.690Z"
   },
   {
    "duration": 12,
    "start_time": "2022-12-11T19:01:30.697Z"
   },
   {
    "duration": 145,
    "start_time": "2022-12-11T19:01:30.712Z"
   },
   {
    "duration": 0,
    "start_time": "2022-12-11T19:01:30.859Z"
   },
   {
    "duration": 2406,
    "start_time": "2022-12-11T19:11:01.135Z"
   },
   {
    "duration": 1394,
    "start_time": "2022-12-11T19:11:22.255Z"
   },
   {
    "duration": 41,
    "start_time": "2022-12-11T19:11:23.651Z"
   },
   {
    "duration": 5,
    "start_time": "2022-12-11T19:11:23.693Z"
   },
   {
    "duration": 89,
    "start_time": "2022-12-11T19:11:23.699Z"
   },
   {
    "duration": 5,
    "start_time": "2022-12-11T19:11:23.790Z"
   },
   {
    "duration": 543,
    "start_time": "2022-12-11T19:11:23.796Z"
   },
   {
    "duration": 10,
    "start_time": "2022-12-11T19:11:24.340Z"
   },
   {
    "duration": 12,
    "start_time": "2022-12-11T19:11:24.351Z"
   },
   {
    "duration": 7,
    "start_time": "2022-12-11T19:11:24.364Z"
   },
   {
    "duration": 6,
    "start_time": "2022-12-11T19:11:24.373Z"
   },
   {
    "duration": 14,
    "start_time": "2022-12-11T19:11:24.380Z"
   },
   {
    "duration": 10,
    "start_time": "2022-12-11T19:11:24.396Z"
   },
   {
    "duration": 9,
    "start_time": "2022-12-11T19:11:24.407Z"
   },
   {
    "duration": 25,
    "start_time": "2022-12-11T19:11:24.419Z"
   },
   {
    "duration": 35,
    "start_time": "2022-12-11T19:11:24.446Z"
   },
   {
    "duration": 2,
    "start_time": "2022-12-11T19:11:24.483Z"
   },
   {
    "duration": 1457,
    "start_time": "2022-12-11T19:11:24.486Z"
   },
   {
    "duration": 4,
    "start_time": "2022-12-11T19:11:25.945Z"
   },
   {
    "duration": 19,
    "start_time": "2022-12-11T19:11:25.951Z"
   },
   {
    "duration": 15,
    "start_time": "2022-12-11T19:11:25.972Z"
   },
   {
    "duration": 4,
    "start_time": "2022-12-11T19:11:25.988Z"
   },
   {
    "duration": 2267,
    "start_time": "2022-12-11T19:11:25.994Z"
   },
   {
    "duration": 9,
    "start_time": "2022-12-11T19:11:28.263Z"
   },
   {
    "duration": 4,
    "start_time": "2022-12-11T19:11:28.274Z"
   },
   {
    "duration": 1424,
    "start_time": "2022-12-11T19:11:28.280Z"
   },
   {
    "duration": 1859,
    "start_time": "2022-12-11T19:11:29.706Z"
   },
   {
    "duration": 5,
    "start_time": "2022-12-11T19:11:31.567Z"
   },
   {
    "duration": 8,
    "start_time": "2022-12-11T19:11:31.574Z"
   },
   {
    "duration": 20,
    "start_time": "2022-12-11T19:11:31.583Z"
   },
   {
    "duration": 136,
    "start_time": "2022-12-11T19:11:31.605Z"
   },
   {
    "duration": 0,
    "start_time": "2022-12-11T19:11:31.743Z"
   },
   {
    "duration": 4,
    "start_time": "2022-12-11T19:14:53.384Z"
   },
   {
    "duration": 6,
    "start_time": "2022-12-11T19:15:19.104Z"
   },
   {
    "duration": 94,
    "start_time": "2022-12-11T19:17:02.964Z"
   },
   {
    "duration": 4,
    "start_time": "2022-12-11T19:17:04.695Z"
   },
   {
    "duration": 1380,
    "start_time": "2022-12-11T19:17:24.048Z"
   },
   {
    "duration": 43,
    "start_time": "2022-12-11T19:17:25.430Z"
   },
   {
    "duration": 5,
    "start_time": "2022-12-11T19:17:25.474Z"
   },
   {
    "duration": 123,
    "start_time": "2022-12-11T19:17:25.481Z"
   },
   {
    "duration": 4,
    "start_time": "2022-12-11T19:17:25.606Z"
   },
   {
    "duration": 596,
    "start_time": "2022-12-11T19:17:25.611Z"
   },
   {
    "duration": 10,
    "start_time": "2022-12-11T19:17:26.209Z"
   },
   {
    "duration": 29,
    "start_time": "2022-12-11T19:17:26.221Z"
   },
   {
    "duration": 19,
    "start_time": "2022-12-11T19:17:26.252Z"
   },
   {
    "duration": 17,
    "start_time": "2022-12-11T19:17:26.272Z"
   },
   {
    "duration": 28,
    "start_time": "2022-12-11T19:17:26.291Z"
   },
   {
    "duration": 36,
    "start_time": "2022-12-11T19:17:26.321Z"
   },
   {
    "duration": 43,
    "start_time": "2022-12-11T19:17:26.359Z"
   },
   {
    "duration": 25,
    "start_time": "2022-12-11T19:17:26.406Z"
   },
   {
    "duration": 23,
    "start_time": "2022-12-11T19:17:26.433Z"
   },
   {
    "duration": 42,
    "start_time": "2022-12-11T19:17:26.458Z"
   },
   {
    "duration": 3,
    "start_time": "2022-12-11T19:17:26.501Z"
   },
   {
    "duration": 1754,
    "start_time": "2022-12-11T19:17:26.506Z"
   },
   {
    "duration": 4,
    "start_time": "2022-12-11T19:17:28.262Z"
   },
   {
    "duration": 8,
    "start_time": "2022-12-11T19:17:28.267Z"
   },
   {
    "duration": 29,
    "start_time": "2022-12-11T19:17:28.276Z"
   },
   {
    "duration": 7,
    "start_time": "2022-12-11T19:17:28.307Z"
   },
   {
    "duration": 2255,
    "start_time": "2022-12-11T19:17:28.316Z"
   },
   {
    "duration": 10,
    "start_time": "2022-12-11T19:17:30.572Z"
   },
   {
    "duration": 7,
    "start_time": "2022-12-11T19:17:30.584Z"
   },
   {
    "duration": 1635,
    "start_time": "2022-12-11T19:17:30.593Z"
   },
   {
    "duration": 1837,
    "start_time": "2022-12-11T19:17:32.235Z"
   },
   {
    "duration": 3,
    "start_time": "2022-12-11T19:17:34.074Z"
   },
   {
    "duration": 21,
    "start_time": "2022-12-11T19:17:34.079Z"
   },
   {
    "duration": 12,
    "start_time": "2022-12-11T19:17:34.102Z"
   },
   {
    "duration": 111,
    "start_time": "2022-12-11T19:17:34.116Z"
   },
   {
    "duration": 0,
    "start_time": "2022-12-11T19:17:34.228Z"
   },
   {
    "duration": 1443,
    "start_time": "2022-12-11T19:22:44.424Z"
   },
   {
    "duration": 43,
    "start_time": "2022-12-11T19:22:45.869Z"
   },
   {
    "duration": 5,
    "start_time": "2022-12-11T19:22:45.914Z"
   },
   {
    "duration": 119,
    "start_time": "2022-12-11T19:22:45.920Z"
   },
   {
    "duration": 4,
    "start_time": "2022-12-11T19:22:46.042Z"
   },
   {
    "duration": 596,
    "start_time": "2022-12-11T19:22:46.048Z"
   },
   {
    "duration": 11,
    "start_time": "2022-12-11T19:22:46.646Z"
   },
   {
    "duration": 17,
    "start_time": "2022-12-11T19:22:46.659Z"
   },
   {
    "duration": 11,
    "start_time": "2022-12-11T19:22:46.679Z"
   },
   {
    "duration": 15,
    "start_time": "2022-12-11T19:22:46.692Z"
   },
   {
    "duration": 27,
    "start_time": "2022-12-11T19:22:46.709Z"
   },
   {
    "duration": 14,
    "start_time": "2022-12-11T19:22:46.738Z"
   },
   {
    "duration": 26,
    "start_time": "2022-12-11T19:22:46.754Z"
   },
   {
    "duration": 11,
    "start_time": "2022-12-11T19:22:46.785Z"
   },
   {
    "duration": 36,
    "start_time": "2022-12-11T19:22:46.798Z"
   },
   {
    "duration": 3,
    "start_time": "2022-12-11T19:22:46.836Z"
   },
   {
    "duration": 1928,
    "start_time": "2022-12-11T19:22:46.840Z"
   },
   {
    "duration": 4,
    "start_time": "2022-12-11T19:22:48.770Z"
   },
   {
    "duration": 10,
    "start_time": "2022-12-11T19:22:48.776Z"
   },
   {
    "duration": 17,
    "start_time": "2022-12-11T19:22:48.788Z"
   },
   {
    "duration": 5,
    "start_time": "2022-12-11T19:22:48.808Z"
   },
   {
    "duration": 2294,
    "start_time": "2022-12-11T19:22:48.815Z"
   },
   {
    "duration": 11,
    "start_time": "2022-12-11T19:22:51.111Z"
   },
   {
    "duration": 19,
    "start_time": "2022-12-11T19:22:51.124Z"
   },
   {
    "duration": 1817,
    "start_time": "2022-12-11T19:22:51.144Z"
   },
   {
    "duration": 1933,
    "start_time": "2022-12-11T19:22:52.963Z"
   },
   {
    "duration": 8,
    "start_time": "2022-12-11T19:22:54.898Z"
   },
   {
    "duration": 18,
    "start_time": "2022-12-11T19:22:54.908Z"
   },
   {
    "duration": 126,
    "start_time": "2022-12-11T19:22:54.938Z"
   },
   {
    "duration": 0,
    "start_time": "2022-12-11T19:22:55.066Z"
   },
   {
    "duration": 1410,
    "start_time": "2022-12-11T19:23:24.809Z"
   },
   {
    "duration": 42,
    "start_time": "2022-12-11T19:23:26.221Z"
   },
   {
    "duration": 4,
    "start_time": "2022-12-11T19:23:26.265Z"
   },
   {
    "duration": 96,
    "start_time": "2022-12-11T19:23:26.271Z"
   },
   {
    "duration": 5,
    "start_time": "2022-12-11T19:23:26.370Z"
   },
   {
    "duration": 595,
    "start_time": "2022-12-11T19:23:26.377Z"
   },
   {
    "duration": 10,
    "start_time": "2022-12-11T19:23:26.974Z"
   },
   {
    "duration": 9,
    "start_time": "2022-12-11T19:23:26.986Z"
   },
   {
    "duration": 4,
    "start_time": "2022-12-11T19:23:26.996Z"
   },
   {
    "duration": 4,
    "start_time": "2022-12-11T19:23:27.002Z"
   },
   {
    "duration": 28,
    "start_time": "2022-12-11T19:23:27.008Z"
   },
   {
    "duration": 9,
    "start_time": "2022-12-11T19:23:27.038Z"
   },
   {
    "duration": 10,
    "start_time": "2022-12-11T19:23:27.048Z"
   },
   {
    "duration": 3,
    "start_time": "2022-12-11T19:23:27.061Z"
   },
   {
    "duration": 32,
    "start_time": "2022-12-11T19:23:27.065Z"
   },
   {
    "duration": 3,
    "start_time": "2022-12-11T19:23:27.099Z"
   },
   {
    "duration": 1392,
    "start_time": "2022-12-11T19:26:25.124Z"
   },
   {
    "duration": 41,
    "start_time": "2022-12-11T19:26:26.518Z"
   },
   {
    "duration": 4,
    "start_time": "2022-12-11T19:26:26.561Z"
   },
   {
    "duration": 110,
    "start_time": "2022-12-11T19:26:26.567Z"
   },
   {
    "duration": 5,
    "start_time": "2022-12-11T19:26:26.679Z"
   },
   {
    "duration": 573,
    "start_time": "2022-12-11T19:26:26.686Z"
   },
   {
    "duration": 9,
    "start_time": "2022-12-11T19:26:27.261Z"
   },
   {
    "duration": 12,
    "start_time": "2022-12-11T19:26:27.272Z"
   },
   {
    "duration": 14,
    "start_time": "2022-12-11T19:26:27.286Z"
   },
   {
    "duration": 5,
    "start_time": "2022-12-11T19:26:27.302Z"
   },
   {
    "duration": 15,
    "start_time": "2022-12-11T19:26:27.308Z"
   },
   {
    "duration": 4,
    "start_time": "2022-12-11T19:26:27.336Z"
   },
   {
    "duration": 24,
    "start_time": "2022-12-11T19:26:27.341Z"
   },
   {
    "duration": 9,
    "start_time": "2022-12-11T19:26:27.366Z"
   },
   {
    "duration": 31,
    "start_time": "2022-12-11T19:26:27.378Z"
   },
   {
    "duration": 164026,
    "start_time": "2022-12-11T19:26:27.411Z"
   },
   {
    "duration": 4,
    "start_time": "2022-12-11T19:29:11.439Z"
   },
   {
    "duration": 11,
    "start_time": "2022-12-11T19:29:11.445Z"
   },
   {
    "duration": 21,
    "start_time": "2022-12-11T19:29:11.458Z"
   },
   {
    "duration": 9,
    "start_time": "2022-12-11T19:29:11.481Z"
   },
   {
    "duration": 237886,
    "start_time": "2022-12-11T19:29:11.492Z"
   },
   {
    "duration": 11,
    "start_time": "2022-12-11T19:33:09.380Z"
   },
   {
    "duration": 31,
    "start_time": "2022-12-11T19:33:09.393Z"
   },
   {
    "duration": 1430,
    "start_time": "2022-12-11T19:34:44.854Z"
   },
   {
    "duration": 43,
    "start_time": "2022-12-11T19:34:46.286Z"
   },
   {
    "duration": 5,
    "start_time": "2022-12-11T19:34:46.331Z"
   },
   {
    "duration": 117,
    "start_time": "2022-12-11T19:34:46.338Z"
   },
   {
    "duration": 5,
    "start_time": "2022-12-11T19:34:46.457Z"
   },
   {
    "duration": 647,
    "start_time": "2022-12-11T19:34:46.464Z"
   },
   {
    "duration": 11,
    "start_time": "2022-12-11T19:34:47.112Z"
   },
   {
    "duration": 24,
    "start_time": "2022-12-11T19:34:47.125Z"
   },
   {
    "duration": 5,
    "start_time": "2022-12-11T19:34:47.150Z"
   },
   {
    "duration": 10,
    "start_time": "2022-12-11T19:34:47.158Z"
   },
   {
    "duration": 16,
    "start_time": "2022-12-11T19:34:47.169Z"
   },
   {
    "duration": 10,
    "start_time": "2022-12-11T19:34:47.187Z"
   },
   {
    "duration": 12,
    "start_time": "2022-12-11T19:34:47.198Z"
   },
   {
    "duration": 8,
    "start_time": "2022-12-11T19:34:47.211Z"
   },
   {
    "duration": 42,
    "start_time": "2022-12-11T19:34:47.220Z"
   },
   {
    "duration": 1979,
    "start_time": "2022-12-11T19:34:47.264Z"
   },
   {
    "duration": 5,
    "start_time": "2022-12-11T19:34:49.245Z"
   },
   {
    "duration": 8,
    "start_time": "2022-12-11T19:34:49.253Z"
   },
   {
    "duration": 35,
    "start_time": "2022-12-11T19:34:49.264Z"
   },
   {
    "duration": 4,
    "start_time": "2022-12-11T19:34:49.301Z"
   },
   {
    "duration": 2775,
    "start_time": "2022-12-11T19:34:49.307Z"
   },
   {
    "duration": 10,
    "start_time": "2022-12-11T19:34:52.084Z"
   },
   {
    "duration": 7,
    "start_time": "2022-12-11T19:34:52.096Z"
   },
   {
    "duration": 2048,
    "start_time": "2022-12-11T19:34:52.105Z"
   },
   {
    "duration": 2295,
    "start_time": "2022-12-11T19:34:54.155Z"
   },
   {
    "duration": 6,
    "start_time": "2022-12-11T19:34:56.452Z"
   },
   {
    "duration": 15,
    "start_time": "2022-12-11T19:34:56.459Z"
   },
   {
    "duration": 125,
    "start_time": "2022-12-11T19:34:56.477Z"
   },
   {
    "duration": 0,
    "start_time": "2022-12-11T19:34:56.604Z"
   },
   {
    "duration": 12,
    "start_time": "2022-12-11T19:35:18.492Z"
   },
   {
    "duration": 4,
    "start_time": "2022-12-11T19:35:19.225Z"
   },
   {
    "duration": 21,
    "start_time": "2022-12-11T19:35:29.333Z"
   },
   {
    "duration": 19,
    "start_time": "2022-12-11T19:35:39.574Z"
   },
   {
    "duration": 11,
    "start_time": "2022-12-11T19:35:55.033Z"
   },
   {
    "duration": 3,
    "start_time": "2022-12-11T19:35:56.423Z"
   },
   {
    "duration": 12,
    "start_time": "2022-12-11T19:36:28.393Z"
   },
   {
    "duration": 4,
    "start_time": "2022-12-11T19:36:29.403Z"
   },
   {
    "duration": 12,
    "start_time": "2022-12-11T19:36:41.642Z"
   },
   {
    "duration": 4,
    "start_time": "2022-12-11T19:36:42.243Z"
   },
   {
    "duration": 13,
    "start_time": "2022-12-11T19:36:47.793Z"
   },
   {
    "duration": 3,
    "start_time": "2022-12-11T19:36:48.233Z"
   },
   {
    "duration": 17,
    "start_time": "2022-12-11T19:36:53.606Z"
   },
   {
    "duration": 6,
    "start_time": "2022-12-11T19:36:53.983Z"
   },
   {
    "duration": 12,
    "start_time": "2022-12-11T19:37:04.253Z"
   },
   {
    "duration": 4,
    "start_time": "2022-12-11T19:37:04.733Z"
   },
   {
    "duration": 1353,
    "start_time": "2022-12-11T19:37:13.685Z"
   },
   {
    "duration": 42,
    "start_time": "2022-12-11T19:37:15.040Z"
   },
   {
    "duration": 5,
    "start_time": "2022-12-11T19:37:15.084Z"
   },
   {
    "duration": 111,
    "start_time": "2022-12-11T19:37:15.091Z"
   },
   {
    "duration": 5,
    "start_time": "2022-12-11T19:37:15.204Z"
   },
   {
    "duration": 595,
    "start_time": "2022-12-11T19:37:15.211Z"
   },
   {
    "duration": 10,
    "start_time": "2022-12-11T19:37:15.808Z"
   },
   {
    "duration": 17,
    "start_time": "2022-12-11T19:37:15.820Z"
   },
   {
    "duration": 13,
    "start_time": "2022-12-11T19:37:15.839Z"
   },
   {
    "duration": 23,
    "start_time": "2022-12-11T19:37:15.853Z"
   },
   {
    "duration": 17,
    "start_time": "2022-12-11T19:37:15.878Z"
   },
   {
    "duration": 19,
    "start_time": "2022-12-11T19:37:15.897Z"
   },
   {
    "duration": 11,
    "start_time": "2022-12-11T19:37:15.918Z"
   },
   {
    "duration": 15,
    "start_time": "2022-12-11T19:37:15.932Z"
   },
   {
    "duration": 31,
    "start_time": "2022-12-11T19:37:15.949Z"
   },
   {
    "duration": 2125,
    "start_time": "2022-12-11T19:37:15.981Z"
   },
   {
    "duration": 5,
    "start_time": "2022-12-11T19:37:18.107Z"
   },
   {
    "duration": 57,
    "start_time": "2022-12-11T19:37:18.114Z"
   },
   {
    "duration": 66,
    "start_time": "2022-12-11T19:37:18.173Z"
   },
   {
    "duration": 32,
    "start_time": "2022-12-11T19:37:18.241Z"
   },
   {
    "duration": 2783,
    "start_time": "2022-12-11T19:37:18.276Z"
   },
   {
    "duration": 10,
    "start_time": "2022-12-11T19:37:21.061Z"
   },
   {
    "duration": 40,
    "start_time": "2022-12-11T19:37:21.073Z"
   },
   {
    "duration": 2039,
    "start_time": "2022-12-11T19:37:21.115Z"
   },
   {
    "duration": 2158,
    "start_time": "2022-12-11T19:37:23.156Z"
   },
   {
    "duration": 19,
    "start_time": "2022-12-11T19:37:25.316Z"
   },
   {
    "duration": 4,
    "start_time": "2022-12-11T19:37:25.338Z"
   },
   {
    "duration": 146,
    "start_time": "2022-12-11T19:37:25.344Z"
   },
   {
    "duration": 0,
    "start_time": "2022-12-11T19:37:25.492Z"
   },
   {
    "duration": 5,
    "start_time": "2022-12-11T19:37:43.513Z"
   },
   {
    "duration": 1504,
    "start_time": "2022-12-11T19:37:59.517Z"
   },
   {
    "duration": 44,
    "start_time": "2022-12-11T19:38:01.023Z"
   },
   {
    "duration": 5,
    "start_time": "2022-12-11T19:38:01.069Z"
   },
   {
    "duration": 132,
    "start_time": "2022-12-11T19:38:01.076Z"
   },
   {
    "duration": 6,
    "start_time": "2022-12-11T19:38:01.210Z"
   },
   {
    "duration": 576,
    "start_time": "2022-12-11T19:38:01.234Z"
   },
   {
    "duration": 10,
    "start_time": "2022-12-11T19:38:01.812Z"
   },
   {
    "duration": 15,
    "start_time": "2022-12-11T19:38:01.824Z"
   },
   {
    "duration": 15,
    "start_time": "2022-12-11T19:38:01.840Z"
   },
   {
    "duration": 26,
    "start_time": "2022-12-11T19:38:01.857Z"
   },
   {
    "duration": 21,
    "start_time": "2022-12-11T19:38:01.884Z"
   },
   {
    "duration": 31,
    "start_time": "2022-12-11T19:38:01.907Z"
   },
   {
    "duration": 21,
    "start_time": "2022-12-11T19:38:01.940Z"
   },
   {
    "duration": 21,
    "start_time": "2022-12-11T19:38:01.965Z"
   },
   {
    "duration": 56,
    "start_time": "2022-12-11T19:38:01.988Z"
   },
   {
    "duration": 2068,
    "start_time": "2022-12-11T19:38:02.046Z"
   },
   {
    "duration": 5,
    "start_time": "2022-12-11T19:38:04.117Z"
   },
   {
    "duration": 4,
    "start_time": "2022-12-11T19:38:04.135Z"
   },
   {
    "duration": 24,
    "start_time": "2022-12-11T19:38:04.140Z"
   },
   {
    "duration": 9,
    "start_time": "2022-12-11T19:38:04.166Z"
   },
   {
    "duration": 2765,
    "start_time": "2022-12-11T19:38:04.177Z"
   },
   {
    "duration": 13,
    "start_time": "2022-12-11T19:38:06.944Z"
   },
   {
    "duration": 8,
    "start_time": "2022-12-11T19:38:06.959Z"
   },
   {
    "duration": 12,
    "start_time": "2022-12-11T19:38:06.969Z"
   },
   {
    "duration": 1883,
    "start_time": "2022-12-11T19:38:06.983Z"
   },
   {
    "duration": 2330,
    "start_time": "2022-12-11T19:38:08.868Z"
   },
   {
    "duration": 6,
    "start_time": "2022-12-11T19:38:11.200Z"
   },
   {
    "duration": 36,
    "start_time": "2022-12-11T19:38:11.208Z"
   },
   {
    "duration": 143,
    "start_time": "2022-12-11T19:38:11.246Z"
   },
   {
    "duration": 0,
    "start_time": "2022-12-11T19:38:11.391Z"
   },
   {
    "duration": 1412,
    "start_time": "2022-12-11T19:38:23.934Z"
   },
   {
    "duration": 43,
    "start_time": "2022-12-11T19:38:25.348Z"
   },
   {
    "duration": 5,
    "start_time": "2022-12-11T19:38:25.393Z"
   },
   {
    "duration": 98,
    "start_time": "2022-12-11T19:38:25.400Z"
   },
   {
    "duration": 5,
    "start_time": "2022-12-11T19:38:25.500Z"
   },
   {
    "duration": 600,
    "start_time": "2022-12-11T19:38:25.507Z"
   },
   {
    "duration": 10,
    "start_time": "2022-12-11T19:38:26.109Z"
   },
   {
    "duration": 16,
    "start_time": "2022-12-11T19:38:26.122Z"
   },
   {
    "duration": 5,
    "start_time": "2022-12-11T19:38:26.140Z"
   },
   {
    "duration": 5,
    "start_time": "2022-12-11T19:38:26.148Z"
   },
   {
    "duration": 15,
    "start_time": "2022-12-11T19:38:26.154Z"
   },
   {
    "duration": 11,
    "start_time": "2022-12-11T19:38:26.171Z"
   },
   {
    "duration": 16,
    "start_time": "2022-12-11T19:38:26.183Z"
   },
   {
    "duration": 9,
    "start_time": "2022-12-11T19:38:26.200Z"
   },
   {
    "duration": 44,
    "start_time": "2022-12-11T19:38:26.211Z"
   },
   {
    "duration": 2116,
    "start_time": "2022-12-11T19:38:26.257Z"
   },
   {
    "duration": 4,
    "start_time": "2022-12-11T19:38:28.375Z"
   },
   {
    "duration": 22,
    "start_time": "2022-12-11T19:38:28.381Z"
   },
   {
    "duration": 24,
    "start_time": "2022-12-11T19:38:28.405Z"
   },
   {
    "duration": 4,
    "start_time": "2022-12-11T19:38:28.431Z"
   },
   {
    "duration": 2615,
    "start_time": "2022-12-11T19:38:28.436Z"
   },
   {
    "duration": 10,
    "start_time": "2022-12-11T19:38:31.053Z"
   },
   {
    "duration": 47,
    "start_time": "2022-12-11T19:38:31.065Z"
   },
   {
    "duration": 45,
    "start_time": "2022-12-11T19:38:31.113Z"
   },
   {
    "duration": 1658,
    "start_time": "2022-12-11T19:38:31.160Z"
   },
   {
    "duration": 2298,
    "start_time": "2022-12-11T19:38:32.820Z"
   },
   {
    "duration": 16,
    "start_time": "2022-12-11T19:38:35.120Z"
   },
   {
    "duration": 7,
    "start_time": "2022-12-11T19:38:35.139Z"
   },
   {
    "duration": 123,
    "start_time": "2022-12-11T19:38:35.147Z"
   },
   {
    "duration": 0,
    "start_time": "2022-12-11T19:38:35.272Z"
   },
   {
    "duration": 1366,
    "start_time": "2022-12-11T19:38:40.884Z"
   },
   {
    "duration": 44,
    "start_time": "2022-12-11T19:38:42.252Z"
   },
   {
    "duration": 6,
    "start_time": "2022-12-11T19:38:42.297Z"
   },
   {
    "duration": 151,
    "start_time": "2022-12-11T19:38:42.306Z"
   },
   {
    "duration": 6,
    "start_time": "2022-12-11T19:38:42.459Z"
   },
   {
    "duration": 626,
    "start_time": "2022-12-11T19:38:42.467Z"
   },
   {
    "duration": 9,
    "start_time": "2022-12-11T19:38:43.095Z"
   },
   {
    "duration": 13,
    "start_time": "2022-12-11T19:38:43.105Z"
   },
   {
    "duration": 11,
    "start_time": "2022-12-11T19:38:43.119Z"
   },
   {
    "duration": 10,
    "start_time": "2022-12-11T19:38:43.136Z"
   },
   {
    "duration": 15,
    "start_time": "2022-12-11T19:38:43.148Z"
   },
   {
    "duration": 17,
    "start_time": "2022-12-11T19:38:43.164Z"
   },
   {
    "duration": 15,
    "start_time": "2022-12-11T19:38:43.183Z"
   },
   {
    "duration": 10,
    "start_time": "2022-12-11T19:38:43.199Z"
   },
   {
    "duration": 41,
    "start_time": "2022-12-11T19:38:43.210Z"
   },
   {
    "duration": 2135,
    "start_time": "2022-12-11T19:38:43.253Z"
   },
   {
    "duration": 4,
    "start_time": "2022-12-11T19:38:45.390Z"
   },
   {
    "duration": 11,
    "start_time": "2022-12-11T19:38:45.396Z"
   },
   {
    "duration": 30,
    "start_time": "2022-12-11T19:38:45.409Z"
   },
   {
    "duration": 7,
    "start_time": "2022-12-11T19:38:45.441Z"
   },
   {
    "duration": 2659,
    "start_time": "2022-12-11T19:38:45.450Z"
   },
   {
    "duration": 9,
    "start_time": "2022-12-11T19:38:48.111Z"
   },
   {
    "duration": 13,
    "start_time": "2022-12-11T19:38:48.122Z"
   },
   {
    "duration": 10,
    "start_time": "2022-12-11T19:38:48.137Z"
   },
   {
    "duration": 1573,
    "start_time": "2022-12-11T19:38:48.149Z"
   },
   {
    "duration": 2326,
    "start_time": "2022-12-11T19:38:49.723Z"
   },
   {
    "duration": 6,
    "start_time": "2022-12-11T19:38:52.050Z"
   },
   {
    "duration": 6,
    "start_time": "2022-12-11T19:38:52.059Z"
   },
   {
    "duration": 131,
    "start_time": "2022-12-11T19:38:52.066Z"
   },
   {
    "duration": 0,
    "start_time": "2022-12-11T19:38:52.198Z"
   },
   {
    "duration": 1404,
    "start_time": "2022-12-11T19:39:04.587Z"
   },
   {
    "duration": 46,
    "start_time": "2022-12-11T19:39:05.993Z"
   },
   {
    "duration": 5,
    "start_time": "2022-12-11T19:39:06.041Z"
   },
   {
    "duration": 111,
    "start_time": "2022-12-11T19:39:06.048Z"
   },
   {
    "duration": 5,
    "start_time": "2022-12-11T19:39:06.161Z"
   },
   {
    "duration": 650,
    "start_time": "2022-12-11T19:39:06.168Z"
   },
   {
    "duration": 17,
    "start_time": "2022-12-11T19:39:06.820Z"
   },
   {
    "duration": 7,
    "start_time": "2022-12-11T19:39:06.839Z"
   },
   {
    "duration": 7,
    "start_time": "2022-12-11T19:39:06.848Z"
   },
   {
    "duration": 12,
    "start_time": "2022-12-11T19:39:06.857Z"
   },
   {
    "duration": 16,
    "start_time": "2022-12-11T19:39:06.871Z"
   },
   {
    "duration": 18,
    "start_time": "2022-12-11T19:39:06.889Z"
   },
   {
    "duration": 12,
    "start_time": "2022-12-11T19:39:06.909Z"
   },
   {
    "duration": 4,
    "start_time": "2022-12-11T19:39:06.935Z"
   },
   {
    "duration": 49,
    "start_time": "2022-12-11T19:39:06.941Z"
   },
   {
    "duration": 2092,
    "start_time": "2022-12-11T19:39:06.992Z"
   },
   {
    "duration": 4,
    "start_time": "2022-12-11T19:39:09.086Z"
   },
   {
    "duration": 12,
    "start_time": "2022-12-11T19:39:09.093Z"
   },
   {
    "duration": 20,
    "start_time": "2022-12-11T19:39:09.107Z"
   },
   {
    "duration": 9,
    "start_time": "2022-12-11T19:39:09.129Z"
   },
   {
    "duration": 2705,
    "start_time": "2022-12-11T19:39:09.140Z"
   },
   {
    "duration": 10,
    "start_time": "2022-12-11T19:39:11.847Z"
   },
   {
    "duration": 3,
    "start_time": "2022-12-11T19:39:11.859Z"
   },
   {
    "duration": 1484,
    "start_time": "2022-12-11T19:39:11.864Z"
   },
   {
    "duration": 2240,
    "start_time": "2022-12-11T19:39:13.350Z"
   },
   {
    "duration": 6,
    "start_time": "2022-12-11T19:39:15.592Z"
   },
   {
    "duration": 17,
    "start_time": "2022-12-11T19:39:15.599Z"
   },
   {
    "duration": 140,
    "start_time": "2022-12-11T19:39:15.618Z"
   },
   {
    "duration": 0,
    "start_time": "2022-12-11T19:39:15.760Z"
   },
   {
    "duration": 1521,
    "start_time": "2022-12-11T19:39:47.974Z"
   },
   {
    "duration": 49,
    "start_time": "2022-12-11T19:39:49.497Z"
   },
   {
    "duration": 6,
    "start_time": "2022-12-11T19:39:49.548Z"
   },
   {
    "duration": 136,
    "start_time": "2022-12-11T19:39:49.556Z"
   },
   {
    "duration": 6,
    "start_time": "2022-12-11T19:39:49.693Z"
   },
   {
    "duration": 663,
    "start_time": "2022-12-11T19:39:49.701Z"
   },
   {
    "duration": 11,
    "start_time": "2022-12-11T19:39:50.367Z"
   },
   {
    "duration": 15,
    "start_time": "2022-12-11T19:39:50.380Z"
   },
   {
    "duration": 14,
    "start_time": "2022-12-11T19:39:50.397Z"
   },
   {
    "duration": 12,
    "start_time": "2022-12-11T19:39:50.414Z"
   },
   {
    "duration": 18,
    "start_time": "2022-12-11T19:39:50.427Z"
   },
   {
    "duration": 27,
    "start_time": "2022-12-11T19:39:50.447Z"
   },
   {
    "duration": 14,
    "start_time": "2022-12-11T19:39:50.476Z"
   },
   {
    "duration": 10,
    "start_time": "2022-12-11T19:39:50.492Z"
   },
   {
    "duration": 31,
    "start_time": "2022-12-11T19:39:50.504Z"
   },
   {
    "duration": 166556,
    "start_time": "2022-12-11T19:39:50.537Z"
   },
   {
    "duration": 4,
    "start_time": "2022-12-11T19:42:37.095Z"
   },
   {
    "duration": 23,
    "start_time": "2022-12-11T19:42:37.100Z"
   },
   {
    "duration": 27,
    "start_time": "2022-12-11T19:42:37.125Z"
   },
   {
    "duration": 6,
    "start_time": "2022-12-11T19:42:37.153Z"
   },
   {
    "duration": 238649,
    "start_time": "2022-12-11T19:42:37.160Z"
   },
   {
    "duration": 24,
    "start_time": "2022-12-11T19:46:35.811Z"
   },
   {
    "duration": 4,
    "start_time": "2022-12-11T19:46:35.837Z"
   },
   {
    "duration": 104175,
    "start_time": "2022-12-11T19:46:35.843Z"
   },
   {
    "duration": 171128,
    "start_time": "2022-12-11T19:48:20.020Z"
   },
   {
    "duration": 5,
    "start_time": "2022-12-11T19:51:11.150Z"
   },
   {
    "duration": 33,
    "start_time": "2022-12-11T19:51:11.157Z"
   },
   {
    "duration": 144,
    "start_time": "2022-12-11T19:51:11.193Z"
   },
   {
    "duration": 0,
    "start_time": "2022-12-11T19:51:11.338Z"
   },
   {
    "duration": 6,
    "start_time": "2022-12-11T19:58:02.124Z"
   },
   {
    "duration": 4,
    "start_time": "2022-12-11T19:58:03.134Z"
   },
   {
    "duration": 4,
    "start_time": "2022-12-11T19:58:13.844Z"
   },
   {
    "duration": 6,
    "start_time": "2022-12-11T20:00:10.324Z"
   },
   {
    "duration": 6,
    "start_time": "2022-12-11T20:00:40.274Z"
   },
   {
    "duration": 1015,
    "start_time": "2022-12-11T20:00:40.984Z"
   },
   {
    "duration": 1013,
    "start_time": "2022-12-11T20:00:58.348Z"
   },
   {
    "duration": 1077,
    "start_time": "2022-12-11T20:01:36.834Z"
   },
   {
    "duration": 4,
    "start_time": "2022-12-11T20:03:11.548Z"
   },
   {
    "duration": 1538,
    "start_time": "2022-12-12T19:42:35.991Z"
   },
   {
    "duration": 87,
    "start_time": "2022-12-12T19:42:37.531Z"
   },
   {
    "duration": 5,
    "start_time": "2022-12-12T19:42:37.619Z"
   },
   {
    "duration": 89,
    "start_time": "2022-12-12T19:42:37.626Z"
   },
   {
    "duration": 4,
    "start_time": "2022-12-12T19:42:37.717Z"
   },
   {
    "duration": 556,
    "start_time": "2022-12-12T19:42:37.723Z"
   },
   {
    "duration": 10,
    "start_time": "2022-12-12T19:42:38.281Z"
   },
   {
    "duration": 14,
    "start_time": "2022-12-12T19:42:38.292Z"
   },
   {
    "duration": 12,
    "start_time": "2022-12-12T19:42:38.308Z"
   },
   {
    "duration": 288,
    "start_time": "2022-12-12T19:42:38.323Z"
   },
   {
    "duration": 0,
    "start_time": "2022-12-12T19:42:38.613Z"
   },
   {
    "duration": 0,
    "start_time": "2022-12-12T19:42:38.614Z"
   },
   {
    "duration": 0,
    "start_time": "2022-12-12T19:42:38.615Z"
   },
   {
    "duration": 0,
    "start_time": "2022-12-12T19:42:38.616Z"
   },
   {
    "duration": 0,
    "start_time": "2022-12-12T19:42:38.618Z"
   },
   {
    "duration": 0,
    "start_time": "2022-12-12T19:42:38.619Z"
   },
   {
    "duration": 0,
    "start_time": "2022-12-12T19:42:38.620Z"
   },
   {
    "duration": 0,
    "start_time": "2022-12-12T19:42:38.621Z"
   },
   {
    "duration": 0,
    "start_time": "2022-12-12T19:42:38.622Z"
   },
   {
    "duration": 0,
    "start_time": "2022-12-12T19:42:38.623Z"
   },
   {
    "duration": 0,
    "start_time": "2022-12-12T19:42:38.624Z"
   },
   {
    "duration": 0,
    "start_time": "2022-12-12T19:42:38.625Z"
   },
   {
    "duration": 0,
    "start_time": "2022-12-12T19:42:38.626Z"
   },
   {
    "duration": 0,
    "start_time": "2022-12-12T19:42:38.627Z"
   },
   {
    "duration": 0,
    "start_time": "2022-12-12T19:42:38.655Z"
   },
   {
    "duration": 0,
    "start_time": "2022-12-12T19:42:38.656Z"
   },
   {
    "duration": 0,
    "start_time": "2022-12-12T19:42:38.658Z"
   },
   {
    "duration": 0,
    "start_time": "2022-12-12T19:42:38.659Z"
   },
   {
    "duration": 1335,
    "start_time": "2022-12-12T19:43:19.213Z"
   },
   {
    "duration": 41,
    "start_time": "2022-12-12T19:43:20.550Z"
   },
   {
    "duration": 5,
    "start_time": "2022-12-12T19:43:20.594Z"
   },
   {
    "duration": 101,
    "start_time": "2022-12-12T19:43:20.601Z"
   },
   {
    "duration": 5,
    "start_time": "2022-12-12T19:43:20.705Z"
   },
   {
    "duration": 614,
    "start_time": "2022-12-12T19:43:20.712Z"
   },
   {
    "duration": 10,
    "start_time": "2022-12-12T19:43:21.328Z"
   },
   {
    "duration": 16,
    "start_time": "2022-12-12T19:43:21.340Z"
   },
   {
    "duration": 5,
    "start_time": "2022-12-12T19:43:21.358Z"
   },
   {
    "duration": 797,
    "start_time": "2022-12-12T19:43:21.365Z"
   },
   {
    "duration": 3,
    "start_time": "2022-12-12T19:43:22.163Z"
   },
   {
    "duration": 102,
    "start_time": "2022-12-12T19:43:22.167Z"
   },
   {
    "duration": 13,
    "start_time": "2022-12-12T19:43:22.271Z"
   },
   {
    "duration": 13,
    "start_time": "2022-12-12T19:43:22.287Z"
   },
   {
    "duration": 5,
    "start_time": "2022-12-12T19:43:22.301Z"
   },
   {
    "duration": 30,
    "start_time": "2022-12-12T19:43:22.307Z"
   },
   {
    "duration": 156626,
    "start_time": "2022-12-12T19:43:22.340Z"
   },
   {
    "duration": 4,
    "start_time": "2022-12-12T19:45:58.969Z"
   },
   {
    "duration": 9,
    "start_time": "2022-12-12T19:45:58.974Z"
   },
   {
    "duration": 14,
    "start_time": "2022-12-12T19:45:58.985Z"
   },
   {
    "duration": 3,
    "start_time": "2022-12-12T19:45:59.001Z"
   },
   {
    "duration": 210980,
    "start_time": "2022-12-12T19:45:59.005Z"
   },
   {
    "duration": 10,
    "start_time": "2022-12-12T19:49:29.986Z"
   },
   {
    "duration": 2,
    "start_time": "2022-12-12T19:49:29.998Z"
   },
   {
    "duration": 1445,
    "start_time": "2022-12-12T19:50:23.183Z"
   },
   {
    "duration": 47,
    "start_time": "2022-12-12T19:50:24.631Z"
   },
   {
    "duration": 6,
    "start_time": "2022-12-12T19:50:24.679Z"
   },
   {
    "duration": 136,
    "start_time": "2022-12-12T19:50:24.687Z"
   },
   {
    "duration": 7,
    "start_time": "2022-12-12T19:50:24.826Z"
   },
   {
    "duration": 625,
    "start_time": "2022-12-12T19:50:24.855Z"
   },
   {
    "duration": 9,
    "start_time": "2022-12-12T19:50:25.482Z"
   },
   {
    "duration": 9,
    "start_time": "2022-12-12T19:50:25.493Z"
   },
   {
    "duration": 4,
    "start_time": "2022-12-12T19:50:25.504Z"
   },
   {
    "duration": 8,
    "start_time": "2022-12-12T19:50:25.510Z"
   },
   {
    "duration": 9,
    "start_time": "2022-12-12T19:50:25.519Z"
   },
   {
    "duration": 14,
    "start_time": "2022-12-12T19:50:25.530Z"
   },
   {
    "duration": 4,
    "start_time": "2022-12-12T19:50:25.555Z"
   },
   {
    "duration": 9,
    "start_time": "2022-12-12T19:50:25.562Z"
   },
   {
    "duration": 5,
    "start_time": "2022-12-12T19:50:25.572Z"
   },
   {
    "duration": 28,
    "start_time": "2022-12-12T19:50:25.578Z"
   },
   {
    "duration": 162816,
    "start_time": "2022-12-12T19:50:25.607Z"
   },
   {
    "duration": 4,
    "start_time": "2022-12-12T19:53:08.425Z"
   },
   {
    "duration": 9,
    "start_time": "2022-12-12T19:53:08.431Z"
   },
   {
    "duration": 24,
    "start_time": "2022-12-12T19:53:08.441Z"
   },
   {
    "duration": 4,
    "start_time": "2022-12-12T19:53:08.467Z"
   },
   {
    "duration": 236511,
    "start_time": "2022-12-12T19:53:08.473Z"
   },
   {
    "duration": 10,
    "start_time": "2022-12-12T19:57:04.986Z"
   },
   {
    "duration": 13,
    "start_time": "2022-12-12T19:57:04.998Z"
   },
   {
    "duration": 104042,
    "start_time": "2022-12-12T19:57:05.012Z"
   },
   {
    "duration": 7,
    "start_time": "2022-12-12T19:58:49.056Z"
   },
   {
    "duration": 4,
    "start_time": "2022-12-12T19:58:49.065Z"
   },
   {
    "duration": 1054,
    "start_time": "2022-12-12T19:58:49.071Z"
   },
   {
    "duration": 10,
    "start_time": "2022-12-12T20:11:58.722Z"
   },
   {
    "duration": 6,
    "start_time": "2022-12-12T20:38:55.781Z"
   },
   {
    "duration": 4,
    "start_time": "2022-12-12T20:38:56.551Z"
   },
   {
    "duration": 915,
    "start_time": "2022-12-12T20:42:51.351Z"
   },
   {
    "duration": 17,
    "start_time": "2022-12-12T21:19:09.574Z"
   },
   {
    "duration": 16,
    "start_time": "2022-12-12T21:24:57.163Z"
   },
   {
    "duration": 974,
    "start_time": "2022-12-12T21:27:22.725Z"
   },
   {
    "duration": 1497,
    "start_time": "2022-12-12T21:49:54.255Z"
   },
   {
    "duration": 40,
    "start_time": "2022-12-12T21:49:55.755Z"
   },
   {
    "duration": 5,
    "start_time": "2022-12-12T21:49:55.797Z"
   },
   {
    "duration": 99,
    "start_time": "2022-12-12T21:49:55.803Z"
   },
   {
    "duration": 5,
    "start_time": "2022-12-12T21:49:55.904Z"
   },
   {
    "duration": 584,
    "start_time": "2022-12-12T21:49:55.910Z"
   },
   {
    "duration": 10,
    "start_time": "2022-12-12T21:49:56.496Z"
   },
   {
    "duration": 9,
    "start_time": "2022-12-12T21:49:56.508Z"
   },
   {
    "duration": 5,
    "start_time": "2022-12-12T21:49:56.519Z"
   },
   {
    "duration": 31,
    "start_time": "2022-12-12T21:49:56.525Z"
   },
   {
    "duration": 3,
    "start_time": "2022-12-12T21:49:56.558Z"
   },
   {
    "duration": 17,
    "start_time": "2022-12-12T21:49:56.563Z"
   },
   {
    "duration": 9,
    "start_time": "2022-12-12T21:49:56.582Z"
   },
   {
    "duration": 9,
    "start_time": "2022-12-12T21:49:56.594Z"
   },
   {
    "duration": 3,
    "start_time": "2022-12-12T21:49:56.605Z"
   },
   {
    "duration": 55,
    "start_time": "2022-12-12T21:49:56.610Z"
   },
   {
    "duration": 1502,
    "start_time": "2022-12-12T21:49:56.666Z"
   },
   {
    "duration": 0,
    "start_time": "2022-12-12T21:49:58.170Z"
   },
   {
    "duration": 0,
    "start_time": "2022-12-12T21:49:58.171Z"
   },
   {
    "duration": 0,
    "start_time": "2022-12-12T21:49:58.172Z"
   },
   {
    "duration": 0,
    "start_time": "2022-12-12T21:49:58.173Z"
   },
   {
    "duration": 0,
    "start_time": "2022-12-12T21:49:58.174Z"
   },
   {
    "duration": 0,
    "start_time": "2022-12-12T21:49:58.175Z"
   },
   {
    "duration": 0,
    "start_time": "2022-12-12T21:49:58.177Z"
   },
   {
    "duration": 0,
    "start_time": "2022-12-12T21:49:58.178Z"
   },
   {
    "duration": 0,
    "start_time": "2022-12-12T21:49:58.180Z"
   },
   {
    "duration": 0,
    "start_time": "2022-12-12T21:49:58.181Z"
   },
   {
    "duration": 0,
    "start_time": "2022-12-12T21:49:58.182Z"
   },
   {
    "duration": 1487,
    "start_time": "2022-12-12T21:52:30.595Z"
   },
   {
    "duration": 44,
    "start_time": "2022-12-12T21:52:32.084Z"
   },
   {
    "duration": 5,
    "start_time": "2022-12-12T21:52:32.130Z"
   },
   {
    "duration": 98,
    "start_time": "2022-12-12T21:52:32.136Z"
   },
   {
    "duration": 22,
    "start_time": "2022-12-12T21:52:32.236Z"
   },
   {
    "duration": 560,
    "start_time": "2022-12-12T21:52:32.260Z"
   },
   {
    "duration": 11,
    "start_time": "2022-12-12T21:52:32.822Z"
   },
   {
    "duration": 12,
    "start_time": "2022-12-12T21:52:32.835Z"
   },
   {
    "duration": 6,
    "start_time": "2022-12-12T21:52:32.855Z"
   },
   {
    "duration": 17,
    "start_time": "2022-12-12T21:52:32.863Z"
   },
   {
    "duration": 16,
    "start_time": "2022-12-12T21:52:32.882Z"
   },
   {
    "duration": 16,
    "start_time": "2022-12-12T21:52:32.900Z"
   },
   {
    "duration": 12,
    "start_time": "2022-12-12T21:52:32.917Z"
   },
   {
    "duration": 15,
    "start_time": "2022-12-12T21:52:32.932Z"
   },
   {
    "duration": 5,
    "start_time": "2022-12-12T21:52:32.948Z"
   },
   {
    "duration": 37,
    "start_time": "2022-12-12T21:52:32.954Z"
   },
   {
    "duration": 1383,
    "start_time": "2022-12-12T22:07:30.887Z"
   },
   {
    "duration": 41,
    "start_time": "2022-12-12T22:07:32.272Z"
   },
   {
    "duration": 4,
    "start_time": "2022-12-12T22:07:32.315Z"
   },
   {
    "duration": 94,
    "start_time": "2022-12-12T22:07:32.320Z"
   },
   {
    "duration": 5,
    "start_time": "2022-12-12T22:07:32.416Z"
   },
   {
    "duration": 583,
    "start_time": "2022-12-12T22:07:32.422Z"
   },
   {
    "duration": 10,
    "start_time": "2022-12-12T22:07:33.007Z"
   },
   {
    "duration": 18,
    "start_time": "2022-12-12T22:07:33.018Z"
   },
   {
    "duration": 6,
    "start_time": "2022-12-12T22:07:33.038Z"
   },
   {
    "duration": 17,
    "start_time": "2022-12-12T22:07:33.045Z"
   },
   {
    "duration": 3,
    "start_time": "2022-12-12T22:07:33.063Z"
   },
   {
    "duration": 16,
    "start_time": "2022-12-12T22:07:33.067Z"
   },
   {
    "duration": 12,
    "start_time": "2022-12-12T22:07:33.085Z"
   },
   {
    "duration": 23,
    "start_time": "2022-12-12T22:07:33.100Z"
   },
   {
    "duration": 5,
    "start_time": "2022-12-12T22:07:33.125Z"
   },
   {
    "duration": 39,
    "start_time": "2022-12-12T22:07:33.131Z"
   },
   {
    "duration": 161201,
    "start_time": "2022-12-12T22:07:33.171Z"
   },
   {
    "duration": 4,
    "start_time": "2022-12-12T22:10:14.374Z"
   },
   {
    "duration": 23,
    "start_time": "2022-12-12T22:10:14.379Z"
   },
   {
    "duration": 39,
    "start_time": "2022-12-12T22:10:14.404Z"
   },
   {
    "duration": 15,
    "start_time": "2022-12-12T22:10:14.445Z"
   },
   {
    "duration": 1390,
    "start_time": "2022-12-12T22:12:38.585Z"
   },
   {
    "duration": 42,
    "start_time": "2022-12-12T22:12:39.977Z"
   },
   {
    "duration": 5,
    "start_time": "2022-12-12T22:12:40.055Z"
   },
   {
    "duration": 99,
    "start_time": "2022-12-12T22:12:40.335Z"
   },
   {
    "duration": 5,
    "start_time": "2022-12-12T22:12:42.275Z"
   },
   {
    "duration": 548,
    "start_time": "2022-12-12T22:12:42.995Z"
   },
   {
    "duration": 15,
    "start_time": "2022-12-12T22:12:43.705Z"
   },
   {
    "duration": 7,
    "start_time": "2022-12-12T22:12:44.325Z"
   },
   {
    "duration": 5,
    "start_time": "2022-12-12T22:12:45.055Z"
   },
   {
    "duration": 12,
    "start_time": "2022-12-12T22:12:45.505Z"
   },
   {
    "duration": 4,
    "start_time": "2022-12-12T22:12:46.934Z"
   },
   {
    "duration": 2,
    "start_time": "2022-12-12T22:12:47.295Z"
   },
   {
    "duration": 3,
    "start_time": "2022-12-12T22:12:48.075Z"
   },
   {
    "duration": 4,
    "start_time": "2022-12-12T22:12:54.075Z"
   },
   {
    "duration": 4,
    "start_time": "2022-12-12T22:13:46.625Z"
   },
   {
    "duration": 5,
    "start_time": "2022-12-12T22:13:55.024Z"
   },
   {
    "duration": 4,
    "start_time": "2022-12-12T22:13:56.815Z"
   },
   {
    "duration": 1482,
    "start_time": "2022-12-12T22:15:47.926Z"
   },
   {
    "duration": 42,
    "start_time": "2022-12-12T22:15:49.410Z"
   },
   {
    "duration": 5,
    "start_time": "2022-12-12T22:15:49.453Z"
   },
   {
    "duration": 116,
    "start_time": "2022-12-12T22:15:49.459Z"
   },
   {
    "duration": 5,
    "start_time": "2022-12-12T22:15:49.578Z"
   },
   {
    "duration": 611,
    "start_time": "2022-12-12T22:15:49.584Z"
   },
   {
    "duration": 10,
    "start_time": "2022-12-12T22:15:50.196Z"
   },
   {
    "duration": 8,
    "start_time": "2022-12-12T22:15:50.208Z"
   },
   {
    "duration": 5,
    "start_time": "2022-12-12T22:15:50.218Z"
   },
   {
    "duration": 32,
    "start_time": "2022-12-12T22:15:50.224Z"
   },
   {
    "duration": 2,
    "start_time": "2022-12-12T22:15:50.258Z"
   },
   {
    "duration": 9,
    "start_time": "2022-12-12T22:15:50.262Z"
   },
   {
    "duration": 6,
    "start_time": "2022-12-12T22:15:50.272Z"
   },
   {
    "duration": 17,
    "start_time": "2022-12-12T22:15:50.281Z"
   },
   {
    "duration": 11,
    "start_time": "2022-12-12T22:15:50.300Z"
   },
   {
    "duration": 11,
    "start_time": "2022-12-12T22:15:50.312Z"
   },
   {
    "duration": 30,
    "start_time": "2022-12-12T22:15:50.325Z"
   },
   {
    "duration": 33,
    "start_time": "2022-12-12T22:15:50.357Z"
   },
   {
    "duration": 174034,
    "start_time": "2022-12-12T22:15:50.392Z"
   },
   {
    "duration": 5,
    "start_time": "2022-12-12T22:18:44.427Z"
   },
   {
    "duration": 23,
    "start_time": "2022-12-12T22:18:44.434Z"
   },
   {
    "duration": 45,
    "start_time": "2022-12-12T22:18:44.459Z"
   },
   {
    "duration": 4,
    "start_time": "2022-12-12T22:18:44.506Z"
   },
   {
    "duration": 1593,
    "start_time": "2022-12-12T22:19:14.156Z"
   },
   {
    "duration": 44,
    "start_time": "2022-12-12T22:19:15.751Z"
   },
   {
    "duration": 6,
    "start_time": "2022-12-12T22:19:15.797Z"
   },
   {
    "duration": 105,
    "start_time": "2022-12-12T22:19:15.805Z"
   },
   {
    "duration": 5,
    "start_time": "2022-12-12T22:19:15.912Z"
   },
   {
    "duration": 649,
    "start_time": "2022-12-12T22:19:15.919Z"
   },
   {
    "duration": 10,
    "start_time": "2022-12-12T22:19:16.570Z"
   },
   {
    "duration": 14,
    "start_time": "2022-12-12T22:19:16.582Z"
   },
   {
    "duration": 9,
    "start_time": "2022-12-12T22:19:16.598Z"
   },
   {
    "duration": 16,
    "start_time": "2022-12-12T22:19:16.610Z"
   },
   {
    "duration": 3,
    "start_time": "2022-12-12T22:19:16.628Z"
   },
   {
    "duration": 27,
    "start_time": "2022-12-12T22:19:16.633Z"
   },
   {
    "duration": 8,
    "start_time": "2022-12-12T22:19:16.662Z"
   },
   {
    "duration": 18,
    "start_time": "2022-12-12T22:19:16.672Z"
   },
   {
    "duration": 13,
    "start_time": "2022-12-12T22:19:16.692Z"
   },
   {
    "duration": 16,
    "start_time": "2022-12-12T22:19:16.707Z"
   },
   {
    "duration": 4,
    "start_time": "2022-12-12T22:19:16.725Z"
   },
   {
    "duration": 31,
    "start_time": "2022-12-12T22:19:16.756Z"
   },
   {
    "duration": 178981,
    "start_time": "2022-12-12T22:19:16.788Z"
   },
   {
    "duration": 5,
    "start_time": "2022-12-12T22:22:15.771Z"
   },
   {
    "duration": 6,
    "start_time": "2022-12-12T22:22:15.778Z"
   },
   {
    "duration": 14,
    "start_time": "2022-12-12T22:22:15.785Z"
   },
   {
    "duration": 3,
    "start_time": "2022-12-12T22:22:15.801Z"
   },
   {
    "duration": 249340,
    "start_time": "2022-12-12T22:22:15.806Z"
   },
   {
    "duration": 14,
    "start_time": "2022-12-12T22:26:25.148Z"
   },
   {
    "duration": 10,
    "start_time": "2022-12-12T22:26:25.164Z"
   },
   {
    "duration": 101918,
    "start_time": "2022-12-12T22:26:25.176Z"
   },
   {
    "duration": 6,
    "start_time": "2022-12-12T22:28:07.098Z"
   },
   {
    "duration": 8,
    "start_time": "2022-12-12T22:28:07.105Z"
   },
   {
    "duration": 1026,
    "start_time": "2022-12-12T22:28:07.114Z"
   },
   {
    "duration": 1440,
    "start_time": "2022-12-12T22:46:27.638Z"
   },
   {
    "duration": 41,
    "start_time": "2022-12-12T22:46:29.080Z"
   },
   {
    "duration": 5,
    "start_time": "2022-12-12T22:46:29.123Z"
   },
   {
    "duration": 137,
    "start_time": "2022-12-12T22:46:29.130Z"
   },
   {
    "duration": 4,
    "start_time": "2022-12-12T22:46:29.269Z"
   },
   {
    "duration": 575,
    "start_time": "2022-12-12T22:46:29.275Z"
   },
   {
    "duration": 21,
    "start_time": "2022-12-12T22:46:29.851Z"
   },
   {
    "duration": 11,
    "start_time": "2022-12-12T22:46:29.874Z"
   },
   {
    "duration": 6,
    "start_time": "2022-12-12T22:46:29.887Z"
   },
   {
    "duration": 12,
    "start_time": "2022-12-12T22:46:29.895Z"
   },
   {
    "duration": 2,
    "start_time": "2022-12-12T22:46:29.909Z"
   },
   {
    "duration": 8,
    "start_time": "2022-12-12T22:46:29.913Z"
   },
   {
    "duration": 7,
    "start_time": "2022-12-12T22:46:29.923Z"
   },
   {
    "duration": 31,
    "start_time": "2022-12-12T22:46:29.932Z"
   },
   {
    "duration": 9,
    "start_time": "2022-12-12T22:46:29.965Z"
   },
   {
    "duration": 13,
    "start_time": "2022-12-12T22:46:29.976Z"
   },
   {
    "duration": 3,
    "start_time": "2022-12-12T22:46:29.991Z"
   },
   {
    "duration": 31,
    "start_time": "2022-12-12T22:46:29.996Z"
   },
   {
    "duration": 161988,
    "start_time": "2022-12-12T22:46:30.029Z"
   },
   {
    "duration": 4,
    "start_time": "2022-12-12T22:49:12.019Z"
   },
   {
    "duration": 9,
    "start_time": "2022-12-12T22:49:12.024Z"
   },
   {
    "duration": 27,
    "start_time": "2022-12-12T22:49:12.034Z"
   },
   {
    "duration": 4,
    "start_time": "2022-12-12T22:49:12.062Z"
   },
   {
    "duration": 227780,
    "start_time": "2022-12-12T22:49:12.068Z"
   },
   {
    "duration": 9,
    "start_time": "2022-12-12T22:52:59.855Z"
   },
   {
    "duration": 15,
    "start_time": "2022-12-12T22:52:59.866Z"
   },
   {
    "duration": 99649,
    "start_time": "2022-12-12T22:52:59.883Z"
   },
   {
    "duration": 5,
    "start_time": "2022-12-12T22:54:39.536Z"
   },
   {
    "duration": 15,
    "start_time": "2022-12-12T22:54:39.556Z"
   },
   {
    "duration": 975,
    "start_time": "2022-12-12T22:54:39.573Z"
   },
   {
    "duration": 52,
    "start_time": "2022-12-12T23:02:12.120Z"
   },
   {
    "duration": 3,
    "start_time": "2022-12-12T23:02:18.030Z"
   },
   {
    "duration": 4,
    "start_time": "2022-12-12T23:02:54.329Z"
   },
   {
    "duration": 4,
    "start_time": "2022-12-12T23:03:15.491Z"
   },
   {
    "duration": 68,
    "start_time": "2022-12-12T23:03:42.310Z"
   },
   {
    "duration": 4,
    "start_time": "2022-12-12T23:03:46.760Z"
   },
   {
    "duration": 4,
    "start_time": "2022-12-12T23:13:21.171Z"
   },
   {
    "duration": 4,
    "start_time": "2022-12-12T23:13:21.631Z"
   },
   {
    "duration": 11,
    "start_time": "2022-12-12T23:15:17.923Z"
   },
   {
    "duration": 4,
    "start_time": "2022-12-12T23:15:27.107Z"
   },
   {
    "duration": 10,
    "start_time": "2022-12-12T23:16:39.881Z"
   },
   {
    "duration": 4,
    "start_time": "2022-12-12T23:16:40.541Z"
   },
   {
    "duration": 1489,
    "start_time": "2022-12-13T04:02:02.284Z"
   },
   {
    "duration": 89,
    "start_time": "2022-12-13T04:02:03.775Z"
   },
   {
    "duration": 4,
    "start_time": "2022-12-13T04:02:03.865Z"
   },
   {
    "duration": 86,
    "start_time": "2022-12-13T04:02:03.871Z"
   },
   {
    "duration": 4,
    "start_time": "2022-12-13T04:02:03.959Z"
   },
   {
    "duration": 517,
    "start_time": "2022-12-13T04:02:03.965Z"
   },
   {
    "duration": 9,
    "start_time": "2022-12-13T04:02:04.484Z"
   },
   {
    "duration": 8,
    "start_time": "2022-12-13T04:02:04.495Z"
   },
   {
    "duration": 17,
    "start_time": "2022-12-13T04:02:04.504Z"
   },
   {
    "duration": 9,
    "start_time": "2022-12-13T04:02:04.523Z"
   },
   {
    "duration": 3,
    "start_time": "2022-12-13T04:02:04.534Z"
   },
   {
    "duration": 15,
    "start_time": "2022-12-13T04:02:04.539Z"
   },
   {
    "duration": 12,
    "start_time": "2022-12-13T04:02:04.556Z"
   },
   {
    "duration": 14,
    "start_time": "2022-12-13T04:02:04.571Z"
   },
   {
    "duration": 6,
    "start_time": "2022-12-13T04:02:04.587Z"
   },
   {
    "duration": 44,
    "start_time": "2022-12-13T04:02:04.594Z"
   },
   {
    "duration": 1619,
    "start_time": "2022-12-13T04:02:04.640Z"
   },
   {
    "duration": 4,
    "start_time": "2022-12-13T04:02:06.261Z"
   },
   {
    "duration": 9,
    "start_time": "2022-12-13T04:02:06.266Z"
   },
   {
    "duration": 22,
    "start_time": "2022-12-13T04:02:06.276Z"
   },
   {
    "duration": 42,
    "start_time": "2022-12-13T04:02:06.299Z"
   },
   {
    "duration": 1970,
    "start_time": "2022-12-13T04:02:06.343Z"
   },
   {
    "duration": 13,
    "start_time": "2022-12-13T04:02:08.314Z"
   },
   {
    "duration": 16,
    "start_time": "2022-12-13T04:02:08.328Z"
   },
   {
    "duration": 1179,
    "start_time": "2022-12-13T04:02:08.346Z"
   },
   {
    "duration": 6,
    "start_time": "2022-12-13T04:02:09.526Z"
   },
   {
    "duration": 5,
    "start_time": "2022-12-13T04:02:09.534Z"
   },
   {
    "duration": 42,
    "start_time": "2022-12-13T04:02:09.541Z"
   },
   {
    "duration": 14058,
    "start_time": "2022-12-13T04:02:09.585Z"
   },
   {
    "duration": 5,
    "start_time": "2022-12-13T04:02:23.645Z"
   },
   {
    "duration": 1482,
    "start_time": "2022-12-13T16:06:41.689Z"
   },
   {
    "duration": 91,
    "start_time": "2022-12-13T16:06:43.172Z"
   },
   {
    "duration": 5,
    "start_time": "2022-12-13T16:06:43.264Z"
   },
   {
    "duration": 87,
    "start_time": "2022-12-13T16:06:43.272Z"
   },
   {
    "duration": 4,
    "start_time": "2022-12-13T16:06:43.361Z"
   },
   {
    "duration": 543,
    "start_time": "2022-12-13T16:06:43.366Z"
   },
   {
    "duration": 9,
    "start_time": "2022-12-13T16:06:43.911Z"
   },
   {
    "duration": 15,
    "start_time": "2022-12-13T16:06:43.921Z"
   },
   {
    "duration": 16,
    "start_time": "2022-12-13T16:06:43.938Z"
   },
   {
    "duration": 11,
    "start_time": "2022-12-13T16:06:43.957Z"
   },
   {
    "duration": 3,
    "start_time": "2022-12-13T16:06:43.970Z"
   },
   {
    "duration": 27,
    "start_time": "2022-12-13T16:06:43.974Z"
   },
   {
    "duration": 8,
    "start_time": "2022-12-13T16:06:44.002Z"
   },
   {
    "duration": 9,
    "start_time": "2022-12-13T16:06:44.012Z"
   },
   {
    "duration": 4,
    "start_time": "2022-12-13T16:06:44.022Z"
   },
   {
    "duration": 25,
    "start_time": "2022-12-13T16:06:44.027Z"
   },
   {
    "duration": 150222,
    "start_time": "2022-12-13T16:06:44.054Z"
   },
   {
    "duration": 4,
    "start_time": "2022-12-13T16:09:14.278Z"
   },
   {
    "duration": 4,
    "start_time": "2022-12-13T16:09:14.297Z"
   },
   {
    "duration": 15,
    "start_time": "2022-12-13T16:09:14.303Z"
   },
   {
    "duration": 3,
    "start_time": "2022-12-13T16:09:14.320Z"
   },
   {
    "duration": 211791,
    "start_time": "2022-12-13T16:09:14.325Z"
   },
   {
    "duration": 10,
    "start_time": "2022-12-13T16:12:46.119Z"
   },
   {
    "duration": 10,
    "start_time": "2022-12-13T16:12:46.131Z"
   },
   {
    "duration": 91461,
    "start_time": "2022-12-13T16:12:46.143Z"
   },
   {
    "duration": 5,
    "start_time": "2022-12-13T16:14:17.606Z"
   },
   {
    "duration": 24,
    "start_time": "2022-12-13T16:14:17.613Z"
   },
   {
    "duration": 903,
    "start_time": "2022-12-13T16:14:17.640Z"
   },
   {
    "duration": 2,
    "start_time": "2022-12-13T16:14:18.545Z"
   },
   {
    "duration": 20,
    "start_time": "2022-12-13T16:14:18.549Z"
   },
   {
    "duration": 15,
    "start_time": "2022-12-13T16:17:28.037Z"
   },
   {
    "duration": 1411,
    "start_time": "2022-12-13T17:39:14.934Z"
   },
   {
    "duration": 46,
    "start_time": "2022-12-13T17:39:16.347Z"
   },
   {
    "duration": 4,
    "start_time": "2022-12-13T17:39:16.395Z"
   },
   {
    "duration": 11,
    "start_time": "2022-12-13T17:39:16.401Z"
   },
   {
    "duration": 110,
    "start_time": "2022-12-13T17:39:16.413Z"
   },
   {
    "duration": 4,
    "start_time": "2022-12-13T17:39:16.525Z"
   },
   {
    "duration": 592,
    "start_time": "2022-12-13T17:39:16.531Z"
   },
   {
    "duration": 9,
    "start_time": "2022-12-13T17:39:17.125Z"
   },
   {
    "duration": 20,
    "start_time": "2022-12-13T17:39:17.136Z"
   },
   {
    "duration": 7,
    "start_time": "2022-12-13T17:39:17.158Z"
   },
   {
    "duration": 8,
    "start_time": "2022-12-13T17:39:17.167Z"
   },
   {
    "duration": 21,
    "start_time": "2022-12-13T17:39:17.176Z"
   },
   {
    "duration": 3,
    "start_time": "2022-12-13T17:39:17.198Z"
   },
   {
    "duration": 20,
    "start_time": "2022-12-13T17:39:17.202Z"
   },
   {
    "duration": 14,
    "start_time": "2022-12-13T17:39:17.224Z"
   },
   {
    "duration": 11,
    "start_time": "2022-12-13T17:39:17.240Z"
   },
   {
    "duration": 4,
    "start_time": "2022-12-13T17:39:17.253Z"
   },
   {
    "duration": 43,
    "start_time": "2022-12-13T17:39:17.258Z"
   },
   {
    "duration": 152004,
    "start_time": "2022-12-13T17:39:17.302Z"
   },
   {
    "duration": 5,
    "start_time": "2022-12-13T17:41:49.307Z"
   },
   {
    "duration": 6,
    "start_time": "2022-12-13T17:41:49.313Z"
   },
   {
    "duration": 15,
    "start_time": "2022-12-13T17:41:49.320Z"
   },
   {
    "duration": 2,
    "start_time": "2022-12-13T17:41:49.337Z"
   },
   {
    "duration": 204326,
    "start_time": "2022-12-13T17:41:49.341Z"
   },
   {
    "duration": 9,
    "start_time": "2022-12-13T17:45:13.668Z"
   },
   {
    "duration": 19,
    "start_time": "2022-12-13T17:45:13.678Z"
   },
   {
    "duration": 90588,
    "start_time": "2022-12-13T17:45:13.699Z"
   },
   {
    "duration": 5,
    "start_time": "2022-12-13T17:46:44.296Z"
   },
   {
    "duration": 28,
    "start_time": "2022-12-13T17:46:44.303Z"
   },
   {
    "duration": 928,
    "start_time": "2022-12-13T17:46:44.333Z"
   },
   {
    "duration": 2,
    "start_time": "2022-12-13T17:46:45.263Z"
   },
   {
    "duration": 17,
    "start_time": "2022-12-13T17:46:45.266Z"
   },
   {
    "duration": 1574,
    "start_time": "2022-12-14T00:13:09.801Z"
   },
   {
    "duration": 94,
    "start_time": "2022-12-14T00:13:11.377Z"
   },
   {
    "duration": 4,
    "start_time": "2022-12-14T00:13:11.473Z"
   },
   {
    "duration": 88,
    "start_time": "2022-12-14T00:13:11.479Z"
   },
   {
    "duration": 5,
    "start_time": "2022-12-14T00:13:13.141Z"
   },
   {
    "duration": 536,
    "start_time": "2022-12-14T00:13:13.782Z"
   },
   {
    "duration": 10,
    "start_time": "2022-12-14T00:13:14.661Z"
   },
   {
    "duration": 11,
    "start_time": "2022-12-14T00:13:14.882Z"
   },
   {
    "duration": 112,
    "start_time": "2022-12-14T00:13:17.482Z"
   },
   {
    "duration": 5,
    "start_time": "2022-12-14T00:14:52.831Z"
   },
   {
    "duration": 7,
    "start_time": "2022-12-14T00:15:09.632Z"
   },
   {
    "duration": 1387,
    "start_time": "2022-12-14T00:16:48.902Z"
   },
   {
    "duration": 42,
    "start_time": "2022-12-14T00:16:50.291Z"
   },
   {
    "duration": 6,
    "start_time": "2022-12-14T00:16:50.334Z"
   },
   {
    "duration": 123,
    "start_time": "2022-12-14T00:16:50.342Z"
   },
   {
    "duration": 4,
    "start_time": "2022-12-14T00:16:51.703Z"
   },
   {
    "duration": 559,
    "start_time": "2022-12-14T00:16:52.283Z"
   },
   {
    "duration": 11,
    "start_time": "2022-12-14T00:16:53.932Z"
   },
   {
    "duration": 209,
    "start_time": "2022-12-14T00:16:54.803Z"
   },
   {
    "duration": 9,
    "start_time": "2022-12-14T00:16:55.783Z"
   },
   {
    "duration": 13,
    "start_time": "2022-12-14T00:16:57.252Z"
   },
   {
    "duration": 2,
    "start_time": "2022-12-14T00:16:59.223Z"
   },
   {
    "duration": 1384,
    "start_time": "2022-12-14T00:22:45.442Z"
   },
   {
    "duration": 43,
    "start_time": "2022-12-14T00:22:46.828Z"
   },
   {
    "duration": 5,
    "start_time": "2022-12-14T00:22:46.873Z"
   },
   {
    "duration": 86,
    "start_time": "2022-12-14T00:22:46.983Z"
   },
   {
    "duration": 5,
    "start_time": "2022-12-14T00:22:48.433Z"
   },
   {
    "duration": 535,
    "start_time": "2022-12-14T00:22:49.263Z"
   },
   {
    "duration": 28,
    "start_time": "2022-12-14T00:22:51.572Z"
   },
   {
    "duration": 1351,
    "start_time": "2022-12-14T00:24:01.832Z"
   },
   {
    "duration": 45,
    "start_time": "2022-12-14T00:24:03.186Z"
   },
   {
    "duration": 6,
    "start_time": "2022-12-14T00:24:03.233Z"
   },
   {
    "duration": 114,
    "start_time": "2022-12-14T00:24:03.241Z"
   },
   {
    "duration": 5,
    "start_time": "2022-12-14T00:24:04.332Z"
   },
   {
    "duration": 531,
    "start_time": "2022-12-14T00:24:05.013Z"
   },
   {
    "duration": 108,
    "start_time": "2022-12-14T00:24:09.152Z"
   },
   {
    "duration": 12,
    "start_time": "2022-12-14T00:24:50.222Z"
   },
   {
    "duration": 12,
    "start_time": "2022-12-14T00:24:54.882Z"
   },
   {
    "duration": 349,
    "start_time": "2022-12-14T00:27:15.593Z"
   },
   {
    "duration": 28,
    "start_time": "2022-12-14T00:27:29.183Z"
   },
   {
    "duration": 26,
    "start_time": "2022-12-14T00:30:29.342Z"
   },
   {
    "duration": 4,
    "start_time": "2022-12-14T00:45:49.263Z"
   },
   {
    "duration": 40,
    "start_time": "2022-12-14T00:45:49.662Z"
   },
   {
    "duration": 4,
    "start_time": "2022-12-14T00:45:50.312Z"
   },
   {
    "duration": 94,
    "start_time": "2022-12-14T00:45:50.523Z"
   },
   {
    "duration": 6,
    "start_time": "2022-12-14T00:45:52.122Z"
   },
   {
    "duration": 522,
    "start_time": "2022-12-14T00:45:52.863Z"
   },
   {
    "duration": 5,
    "start_time": "2022-12-14T00:45:54.982Z"
   },
   {
    "duration": 13,
    "start_time": "2022-12-14T00:45:56.262Z"
   },
   {
    "duration": 3,
    "start_time": "2022-12-14T00:45:58.062Z"
   },
   {
    "duration": 15,
    "start_time": "2022-12-14T00:46:11.112Z"
   },
   {
    "duration": 4,
    "start_time": "2022-12-14T00:46:13.062Z"
   },
   {
    "duration": 12,
    "start_time": "2022-12-14T00:46:15.742Z"
   },
   {
    "duration": 4,
    "start_time": "2022-12-14T00:46:18.082Z"
   },
   {
    "duration": 25,
    "start_time": "2022-12-14T00:46:20.272Z"
   },
   {
    "duration": 2,
    "start_time": "2022-12-14T00:46:21.383Z"
   },
   {
    "duration": 16,
    "start_time": "2022-12-14T00:46:21.782Z"
   },
   {
    "duration": 18,
    "start_time": "2022-12-14T00:46:43.932Z"
   },
   {
    "duration": 1426,
    "start_time": "2022-12-14T00:48:10.492Z"
   },
   {
    "duration": 41,
    "start_time": "2022-12-14T00:48:11.921Z"
   },
   {
    "duration": 5,
    "start_time": "2022-12-14T00:48:11.964Z"
   },
   {
    "duration": 93,
    "start_time": "2022-12-14T00:48:11.971Z"
   },
   {
    "duration": 4,
    "start_time": "2022-12-14T00:48:12.963Z"
   },
   {
    "duration": 546,
    "start_time": "2022-12-14T00:48:13.582Z"
   },
   {
    "duration": 4,
    "start_time": "2022-12-14T00:48:15.652Z"
   },
   {
    "duration": 1406,
    "start_time": "2022-12-14T00:48:46.392Z"
   },
   {
    "duration": 41,
    "start_time": "2022-12-14T00:48:47.800Z"
   },
   {
    "duration": 4,
    "start_time": "2022-12-14T00:48:47.843Z"
   },
   {
    "duration": 92,
    "start_time": "2022-12-14T00:48:47.849Z"
   },
   {
    "duration": 4,
    "start_time": "2022-12-14T00:48:48.583Z"
   },
   {
    "duration": 515,
    "start_time": "2022-12-14T00:48:49.162Z"
   },
   {
    "duration": 14,
    "start_time": "2022-12-14T00:48:50.702Z"
   },
   {
    "duration": 2,
    "start_time": "2022-12-14T00:48:51.873Z"
   },
   {
    "duration": 14,
    "start_time": "2022-12-14T00:48:52.293Z"
   },
   {
    "duration": 4,
    "start_time": "2022-12-14T00:48:54.873Z"
   },
   {
    "duration": 10,
    "start_time": "2022-12-14T00:48:55.353Z"
   },
   {
    "duration": 3,
    "start_time": "2022-12-14T00:48:56.493Z"
   },
   {
    "duration": 28,
    "start_time": "2022-12-14T00:48:57.403Z"
   },
   {
    "duration": 19,
    "start_time": "2022-12-14T00:49:04.653Z"
   },
   {
    "duration": 2,
    "start_time": "2022-12-14T00:49:11.204Z"
   },
   {
    "duration": 12,
    "start_time": "2022-12-14T00:49:11.823Z"
   },
   {
    "duration": 3,
    "start_time": "2022-12-14T00:51:33.523Z"
   },
   {
    "duration": 22,
    "start_time": "2022-12-14T00:51:34.093Z"
   },
   {
    "duration": 13,
    "start_time": "2022-12-14T00:51:54.493Z"
   },
   {
    "duration": 12,
    "start_time": "2022-12-14T00:52:30.273Z"
   },
   {
    "duration": 21,
    "start_time": "2022-12-14T00:52:51.733Z"
   },
   {
    "duration": 36,
    "start_time": "2022-12-14T00:53:02.913Z"
   },
   {
    "duration": 23,
    "start_time": "2022-12-14T00:53:32.633Z"
   },
   {
    "duration": 3,
    "start_time": "2022-12-14T00:57:27.393Z"
   },
   {
    "duration": 9,
    "start_time": "2022-12-14T00:57:27.772Z"
   },
   {
    "duration": 14,
    "start_time": "2022-12-14T00:57:37.303Z"
   },
   {
    "duration": 1347,
    "start_time": "2022-12-14T00:58:09.342Z"
   },
   {
    "duration": 42,
    "start_time": "2022-12-14T00:58:10.692Z"
   },
   {
    "duration": 5,
    "start_time": "2022-12-14T00:58:10.736Z"
   },
   {
    "duration": 102,
    "start_time": "2022-12-14T00:58:10.742Z"
   },
   {
    "duration": 5,
    "start_time": "2022-12-14T00:58:12.062Z"
   },
   {
    "duration": 567,
    "start_time": "2022-12-14T00:58:12.732Z"
   },
   {
    "duration": 11,
    "start_time": "2022-12-14T00:58:14.572Z"
   },
   {
    "duration": 2,
    "start_time": "2022-12-14T00:58:15.722Z"
   },
   {
    "duration": 15,
    "start_time": "2022-12-14T00:58:16.163Z"
   },
   {
    "duration": 4,
    "start_time": "2022-12-14T00:58:19.032Z"
   },
   {
    "duration": 11,
    "start_time": "2022-12-14T00:58:19.443Z"
   },
   {
    "duration": 4,
    "start_time": "2022-12-14T00:58:20.063Z"
   },
   {
    "duration": 30,
    "start_time": "2022-12-14T00:58:20.943Z"
   },
   {
    "duration": 20,
    "start_time": "2022-12-14T00:58:24.363Z"
   },
   {
    "duration": 3,
    "start_time": "2022-12-14T00:58:24.962Z"
   },
   {
    "duration": 12,
    "start_time": "2022-12-14T00:58:26.233Z"
   },
   {
    "duration": 14,
    "start_time": "2022-12-14T00:58:26.772Z"
   },
   {
    "duration": 25,
    "start_time": "2022-12-14T00:59:29.522Z"
   },
   {
    "duration": 4,
    "start_time": "2022-12-14T01:00:10.410Z"
   },
   {
    "duration": 123,
    "start_time": "2022-12-14T01:00:10.902Z"
   },
   {
    "duration": 4,
    "start_time": "2022-12-14T01:00:22.903Z"
   },
   {
    "duration": 40,
    "start_time": "2022-12-14T01:00:23.443Z"
   },
   {
    "duration": 5,
    "start_time": "2022-12-14T01:00:24.072Z"
   },
   {
    "duration": 80,
    "start_time": "2022-12-14T01:00:24.272Z"
   },
   {
    "duration": 4,
    "start_time": "2022-12-14T01:00:25.453Z"
   },
   {
    "duration": 552,
    "start_time": "2022-12-14T01:00:26.089Z"
   },
   {
    "duration": 12,
    "start_time": "2022-12-14T01:00:27.942Z"
   },
   {
    "duration": 2,
    "start_time": "2022-12-14T01:00:29.203Z"
   },
   {
    "duration": 15,
    "start_time": "2022-12-14T01:00:29.614Z"
   },
   {
    "duration": 4,
    "start_time": "2022-12-14T01:00:31.733Z"
   },
   {
    "duration": 8,
    "start_time": "2022-12-14T01:00:32.263Z"
   },
   {
    "duration": 3,
    "start_time": "2022-12-14T01:00:33.463Z"
   },
   {
    "duration": 25,
    "start_time": "2022-12-14T01:00:34.323Z"
   },
   {
    "duration": 19,
    "start_time": "2022-12-14T01:00:37.173Z"
   },
   {
    "duration": 3,
    "start_time": "2022-12-14T01:00:37.663Z"
   },
   {
    "duration": 16,
    "start_time": "2022-12-14T01:00:38.463Z"
   },
   {
    "duration": 4,
    "start_time": "2022-12-14T01:01:01.733Z"
   },
   {
    "duration": 40,
    "start_time": "2022-12-14T01:01:02.282Z"
   },
   {
    "duration": 4,
    "start_time": "2022-12-14T01:01:03.413Z"
   },
   {
    "duration": 76,
    "start_time": "2022-12-14T01:01:03.643Z"
   },
   {
    "duration": 5,
    "start_time": "2022-12-14T01:01:04.782Z"
   },
   {
    "duration": 520,
    "start_time": "2022-12-14T01:01:05.393Z"
   },
   {
    "duration": 12,
    "start_time": "2022-12-14T01:01:06.972Z"
   },
   {
    "duration": 3,
    "start_time": "2022-12-14T01:01:08.092Z"
   },
   {
    "duration": 15,
    "start_time": "2022-12-14T01:01:08.543Z"
   },
   {
    "duration": 4,
    "start_time": "2022-12-14T01:01:10.312Z"
   },
   {
    "duration": 9,
    "start_time": "2022-12-14T01:01:10.892Z"
   },
   {
    "duration": 3,
    "start_time": "2022-12-14T01:01:11.743Z"
   },
   {
    "duration": 27,
    "start_time": "2022-12-14T01:01:12.622Z"
   },
   {
    "duration": 19,
    "start_time": "2022-12-14T01:01:15.953Z"
   },
   {
    "duration": 3,
    "start_time": "2022-12-14T01:01:16.162Z"
   },
   {
    "duration": 22,
    "start_time": "2022-12-14T01:01:16.483Z"
   },
   {
    "duration": 3,
    "start_time": "2022-12-14T01:02:43.643Z"
   },
   {
    "duration": 10,
    "start_time": "2022-12-14T01:02:44.163Z"
   },
   {
    "duration": 17,
    "start_time": "2022-12-14T01:02:49.212Z"
   },
   {
    "duration": 4,
    "start_time": "2022-12-14T01:03:11.163Z"
   },
   {
    "duration": 18,
    "start_time": "2022-12-14T01:03:11.862Z"
   },
   {
    "duration": 15,
    "start_time": "2022-12-14T01:03:12.263Z"
   },
   {
    "duration": 6,
    "start_time": "2022-12-14T01:03:29.912Z"
   },
   {
    "duration": 39,
    "start_time": "2022-12-14T01:03:30.353Z"
   },
   {
    "duration": 4,
    "start_time": "2022-12-14T01:03:30.993Z"
   },
   {
    "duration": 77,
    "start_time": "2022-12-14T01:03:31.203Z"
   },
   {
    "duration": 6,
    "start_time": "2022-12-14T01:03:32.462Z"
   },
   {
    "duration": 520,
    "start_time": "2022-12-14T01:03:33.102Z"
   },
   {
    "duration": 11,
    "start_time": "2022-12-14T01:03:34.602Z"
   },
   {
    "duration": 2,
    "start_time": "2022-12-14T01:03:35.673Z"
   },
   {
    "duration": 16,
    "start_time": "2022-12-14T01:03:36.056Z"
   },
   {
    "duration": 4,
    "start_time": "2022-12-14T01:03:37.552Z"
   },
   {
    "duration": 10,
    "start_time": "2022-12-14T01:03:38.003Z"
   },
   {
    "duration": 4,
    "start_time": "2022-12-14T01:03:38.912Z"
   },
   {
    "duration": 26,
    "start_time": "2022-12-14T01:03:39.921Z"
   },
   {
    "duration": 20,
    "start_time": "2022-12-14T01:03:41.132Z"
   },
   {
    "duration": 3,
    "start_time": "2022-12-14T01:03:41.366Z"
   },
   {
    "duration": 9,
    "start_time": "2022-12-14T01:03:41.602Z"
   },
   {
    "duration": 13,
    "start_time": "2022-12-14T01:03:41.913Z"
   },
   {
    "duration": 3,
    "start_time": "2022-12-14T01:06:20.683Z"
   },
   {
    "duration": 40,
    "start_time": "2022-12-14T01:06:21.052Z"
   },
   {
    "duration": 4,
    "start_time": "2022-12-14T01:06:21.643Z"
   },
   {
    "duration": 85,
    "start_time": "2022-12-14T01:06:21.832Z"
   },
   {
    "duration": 4,
    "start_time": "2022-12-14T01:06:23.042Z"
   },
   {
    "duration": 510,
    "start_time": "2022-12-14T01:06:23.632Z"
   },
   {
    "duration": 12,
    "start_time": "2022-12-14T01:06:25.184Z"
   },
   {
    "duration": 3,
    "start_time": "2022-12-14T01:06:26.253Z"
   },
   {
    "duration": 16,
    "start_time": "2022-12-14T01:06:26.738Z"
   },
   {
    "duration": 4,
    "start_time": "2022-12-14T01:06:29.123Z"
   },
   {
    "duration": 10,
    "start_time": "2022-12-14T01:06:29.653Z"
   },
   {
    "duration": 3,
    "start_time": "2022-12-14T01:06:30.713Z"
   },
   {
    "duration": 2,
    "start_time": "2022-12-14T01:06:31.823Z"
   },
   {
    "duration": 19,
    "start_time": "2022-12-14T01:06:34.483Z"
   },
   {
    "duration": 4,
    "start_time": "2022-12-14T01:06:35.472Z"
   },
   {
    "duration": 18,
    "start_time": "2022-12-14T01:06:36.082Z"
   },
   {
    "duration": 15,
    "start_time": "2022-12-14T01:06:36.462Z"
   },
   {
    "duration": 4,
    "start_time": "2022-12-14T01:07:04.783Z"
   },
   {
    "duration": 28,
    "start_time": "2022-12-14T01:07:05.202Z"
   },
   {
    "duration": 4,
    "start_time": "2022-12-14T01:07:19.213Z"
   },
   {
    "duration": 41,
    "start_time": "2022-12-14T01:07:19.602Z"
   },
   {
    "duration": 5,
    "start_time": "2022-12-14T01:07:20.213Z"
   },
   {
    "duration": 92,
    "start_time": "2022-12-14T01:07:20.432Z"
   },
   {
    "duration": 4,
    "start_time": "2022-12-14T01:07:21.623Z"
   },
   {
    "duration": 528,
    "start_time": "2022-12-14T01:07:22.203Z"
   },
   {
    "duration": 11,
    "start_time": "2022-12-14T01:07:23.602Z"
   },
   {
    "duration": 2,
    "start_time": "2022-12-14T01:07:24.663Z"
   },
   {
    "duration": 16,
    "start_time": "2022-12-14T01:07:25.063Z"
   },
   {
    "duration": 4,
    "start_time": "2022-12-14T01:07:26.602Z"
   },
   {
    "duration": 8,
    "start_time": "2022-12-14T01:07:27.033Z"
   },
   {
    "duration": 3,
    "start_time": "2022-12-14T01:07:28.723Z"
   },
   {
    "duration": 24,
    "start_time": "2022-12-14T01:07:29.583Z"
   },
   {
    "duration": 20,
    "start_time": "2022-12-14T01:07:31.792Z"
   },
   {
    "duration": 4,
    "start_time": "2022-12-14T01:07:32.163Z"
   },
   {
    "duration": 22,
    "start_time": "2022-12-14T01:07:32.753Z"
   },
   {
    "duration": 12,
    "start_time": "2022-12-14T01:07:34.162Z"
   },
   {
    "duration": 1355,
    "start_time": "2022-12-14T01:07:58.533Z"
   },
   {
    "duration": 42,
    "start_time": "2022-12-14T01:07:59.889Z"
   },
   {
    "duration": 5,
    "start_time": "2022-12-14T01:07:59.932Z"
   },
   {
    "duration": 104,
    "start_time": "2022-12-14T01:07:59.938Z"
   },
   {
    "duration": 4,
    "start_time": "2022-12-14T01:08:01.043Z"
   },
   {
    "duration": 537,
    "start_time": "2022-12-14T01:08:01.672Z"
   },
   {
    "duration": 12,
    "start_time": "2022-12-14T01:08:03.172Z"
   },
   {
    "duration": 2,
    "start_time": "2022-12-14T01:08:04.252Z"
   },
   {
    "duration": 15,
    "start_time": "2022-12-14T01:08:04.729Z"
   },
   {
    "duration": 3,
    "start_time": "2022-12-14T01:08:09.183Z"
   },
   {
    "duration": 10,
    "start_time": "2022-12-14T01:08:09.592Z"
   },
   {
    "duration": 3,
    "start_time": "2022-12-14T01:08:10.523Z"
   },
   {
    "duration": 28,
    "start_time": "2022-12-14T01:08:11.382Z"
   },
   {
    "duration": 21,
    "start_time": "2022-12-14T01:08:13.402Z"
   },
   {
    "duration": 3,
    "start_time": "2022-12-14T01:08:13.743Z"
   },
   {
    "duration": 114,
    "start_time": "2022-12-14T01:08:14.333Z"
   },
   {
    "duration": 3,
    "start_time": "2022-12-14T01:08:37.753Z"
   },
   {
    "duration": 10,
    "start_time": "2022-12-14T01:08:38.293Z"
   },
   {
    "duration": 14,
    "start_time": "2022-12-14T01:08:40.963Z"
   },
   {
    "duration": 3,
    "start_time": "2022-12-14T01:08:54.503Z"
   },
   {
    "duration": 11,
    "start_time": "2022-12-14T01:08:55.022Z"
   },
   {
    "duration": 14,
    "start_time": "2022-12-14T01:08:55.393Z"
   },
   {
    "duration": 1394,
    "start_time": "2022-12-14T01:10:35.714Z"
   },
   {
    "duration": 44,
    "start_time": "2022-12-14T01:10:37.110Z"
   },
   {
    "duration": 6,
    "start_time": "2022-12-14T01:10:37.155Z"
   },
   {
    "duration": 117,
    "start_time": "2022-12-14T01:10:37.163Z"
   },
   {
    "duration": 5,
    "start_time": "2022-12-14T01:10:38.373Z"
   },
   {
    "duration": 526,
    "start_time": "2022-12-14T01:10:39.083Z"
   },
   {
    "duration": 11,
    "start_time": "2022-12-14T01:10:40.963Z"
   },
   {
    "duration": 2,
    "start_time": "2022-12-14T01:10:42.243Z"
   },
   {
    "duration": 28,
    "start_time": "2022-12-14T01:10:42.734Z"
   },
   {
    "duration": 4,
    "start_time": "2022-12-14T01:10:44.853Z"
   },
   {
    "duration": 11,
    "start_time": "2022-12-14T01:10:45.343Z"
   },
   {
    "duration": 3,
    "start_time": "2022-12-14T01:10:47.073Z"
   },
   {
    "duration": 2,
    "start_time": "2022-12-14T01:10:48.193Z"
   },
   {
    "duration": 3,
    "start_time": "2022-12-14T01:10:50.394Z"
   },
   {
    "duration": 18,
    "start_time": "2022-12-14T01:10:50.773Z"
   },
   {
    "duration": 14,
    "start_time": "2022-12-14T01:10:52.173Z"
   },
   {
    "duration": 4,
    "start_time": "2022-12-14T01:11:53.013Z"
   },
   {
    "duration": 51,
    "start_time": "2022-12-14T01:11:53.783Z"
   },
   {
    "duration": 16,
    "start_time": "2022-12-14T01:12:19.323Z"
   },
   {
    "duration": 4,
    "start_time": "2022-12-14T01:12:53.973Z"
   },
   {
    "duration": 75,
    "start_time": "2022-12-14T01:12:54.432Z"
   },
   {
    "duration": 4,
    "start_time": "2022-12-14T01:13:11.333Z"
   },
   {
    "duration": 178,
    "start_time": "2022-12-14T01:13:11.873Z"
   },
   {
    "duration": 4,
    "start_time": "2022-12-14T01:13:38.563Z"
   },
   {
    "duration": 70,
    "start_time": "2022-12-14T01:13:39.143Z"
   },
   {
    "duration": 1389,
    "start_time": "2022-12-14T01:13:58.093Z"
   },
   {
    "duration": 41,
    "start_time": "2022-12-14T01:13:59.484Z"
   },
   {
    "duration": 5,
    "start_time": "2022-12-14T01:13:59.527Z"
   },
   {
    "duration": 103,
    "start_time": "2022-12-14T01:13:59.534Z"
   },
   {
    "duration": 4,
    "start_time": "2022-12-14T01:14:00.545Z"
   },
   {
    "duration": 521,
    "start_time": "2022-12-14T01:14:01.123Z"
   },
   {
    "duration": 12,
    "start_time": "2022-12-14T01:14:02.743Z"
   },
   {
    "duration": 3,
    "start_time": "2022-12-14T01:14:03.773Z"
   },
   {
    "duration": 16,
    "start_time": "2022-12-14T01:14:04.283Z"
   },
   {
    "duration": 4,
    "start_time": "2022-12-14T01:14:05.923Z"
   },
   {
    "duration": 10,
    "start_time": "2022-12-14T01:14:06.383Z"
   },
   {
    "duration": 3,
    "start_time": "2022-12-14T01:14:07.004Z"
   },
   {
    "duration": 2,
    "start_time": "2022-12-14T01:14:07.843Z"
   },
   {
    "duration": 5,
    "start_time": "2022-12-14T01:14:09.763Z"
   },
   {
    "duration": 53,
    "start_time": "2022-12-14T01:14:10.453Z"
   },
   {
    "duration": 1461,
    "start_time": "2022-12-14T01:14:34.153Z"
   },
   {
    "duration": 43,
    "start_time": "2022-12-14T01:14:35.616Z"
   },
   {
    "duration": 5,
    "start_time": "2022-12-14T01:14:35.660Z"
   },
   {
    "duration": 114,
    "start_time": "2022-12-14T01:14:35.666Z"
   },
   {
    "duration": 5,
    "start_time": "2022-12-14T01:14:36.552Z"
   },
   {
    "duration": 556,
    "start_time": "2022-12-14T01:14:37.182Z"
   },
   {
    "duration": 14,
    "start_time": "2022-12-14T01:14:38.622Z"
   },
   {
    "duration": 2,
    "start_time": "2022-12-14T01:14:39.752Z"
   },
   {
    "duration": 17,
    "start_time": "2022-12-14T01:14:40.072Z"
   },
   {
    "duration": 4,
    "start_time": "2022-12-14T01:14:41.622Z"
   },
   {
    "duration": 10,
    "start_time": "2022-12-14T01:14:42.062Z"
   },
   {
    "duration": 3,
    "start_time": "2022-12-14T01:14:42.703Z"
   },
   {
    "duration": 2,
    "start_time": "2022-12-14T01:14:43.552Z"
   },
   {
    "duration": 4,
    "start_time": "2022-12-14T01:14:44.932Z"
   },
   {
    "duration": 59,
    "start_time": "2022-12-14T01:14:45.162Z"
   },
   {
    "duration": 14,
    "start_time": "2022-12-14T01:14:45.382Z"
   },
   {
    "duration": 4,
    "start_time": "2022-12-14T01:15:06.952Z"
   },
   {
    "duration": 41,
    "start_time": "2022-12-14T01:15:07.372Z"
   },
   {
    "duration": 5,
    "start_time": "2022-12-14T01:15:07.887Z"
   },
   {
    "duration": 88,
    "start_time": "2022-12-14T01:15:08.092Z"
   },
   {
    "duration": 4,
    "start_time": "2022-12-14T01:15:09.292Z"
   },
   {
    "duration": 514,
    "start_time": "2022-12-14T01:15:09.932Z"
   },
   {
    "duration": 11,
    "start_time": "2022-12-14T01:15:11.382Z"
   },
   {
    "duration": 1399,
    "start_time": "2022-12-14T01:15:22.802Z"
   },
   {
    "duration": 43,
    "start_time": "2022-12-14T01:15:24.203Z"
   },
   {
    "duration": 5,
    "start_time": "2022-12-14T01:15:24.247Z"
   },
   {
    "duration": 93,
    "start_time": "2022-12-14T01:15:24.254Z"
   },
   {
    "duration": 5,
    "start_time": "2022-12-14T01:15:25.232Z"
   },
   {
    "duration": 561,
    "start_time": "2022-12-14T01:15:25.822Z"
   },
   {
    "duration": 13,
    "start_time": "2022-12-14T01:15:27.312Z"
   },
   {
    "duration": 3,
    "start_time": "2022-12-14T01:15:28.453Z"
   },
   {
    "duration": 16,
    "start_time": "2022-12-14T01:15:28.833Z"
   },
   {
    "duration": 4,
    "start_time": "2022-12-14T01:15:30.923Z"
   },
   {
    "duration": 10,
    "start_time": "2022-12-14T01:15:31.863Z"
   },
   {
    "duration": 4,
    "start_time": "2022-12-14T01:15:33.012Z"
   },
   {
    "duration": 2,
    "start_time": "2022-12-14T01:15:33.902Z"
   },
   {
    "duration": 4,
    "start_time": "2022-12-14T01:15:36.012Z"
   },
   {
    "duration": 18,
    "start_time": "2022-12-14T01:15:36.582Z"
   },
   {
    "duration": 15,
    "start_time": "2022-12-14T01:15:37.953Z"
   },
   {
    "duration": 1368,
    "start_time": "2022-12-14T01:16:13.694Z"
   },
   {
    "duration": 41,
    "start_time": "2022-12-14T01:16:15.064Z"
   },
   {
    "duration": 5,
    "start_time": "2022-12-14T01:16:15.107Z"
   },
   {
    "duration": 106,
    "start_time": "2022-12-14T01:16:15.113Z"
   },
   {
    "duration": 5,
    "start_time": "2022-12-14T01:16:16.202Z"
   },
   {
    "duration": 528,
    "start_time": "2022-12-14T01:16:16.852Z"
   },
   {
    "duration": 12,
    "start_time": "2022-12-14T01:16:18.342Z"
   },
   {
    "duration": 3,
    "start_time": "2022-12-14T01:16:19.442Z"
   },
   {
    "duration": 15,
    "start_time": "2022-12-14T01:16:19.943Z"
   },
   {
    "duration": 4,
    "start_time": "2022-12-14T01:16:22.232Z"
   },
   {
    "duration": 11,
    "start_time": "2022-12-14T01:16:22.722Z"
   },
   {
    "duration": 4,
    "start_time": "2022-12-14T01:16:23.801Z"
   },
   {
    "duration": 3,
    "start_time": "2022-12-14T01:16:24.672Z"
   },
   {
    "duration": 4,
    "start_time": "2022-12-14T01:16:26.502Z"
   },
   {
    "duration": 52,
    "start_time": "2022-12-14T01:16:26.882Z"
   },
   {
    "duration": 1332,
    "start_time": "2022-12-14T01:17:44.452Z"
   },
   {
    "duration": 43,
    "start_time": "2022-12-14T01:17:45.786Z"
   },
   {
    "duration": 5,
    "start_time": "2022-12-14T01:17:45.831Z"
   },
   {
    "duration": 103,
    "start_time": "2022-12-14T01:17:45.838Z"
   },
   {
    "duration": 5,
    "start_time": "2022-12-14T01:17:46.822Z"
   },
   {
    "duration": 528,
    "start_time": "2022-12-14T01:17:47.473Z"
   },
   {
    "duration": 13,
    "start_time": "2022-12-14T01:17:48.912Z"
   },
   {
    "duration": 3,
    "start_time": "2022-12-14T01:17:49.992Z"
   },
   {
    "duration": 16,
    "start_time": "2022-12-14T01:17:50.393Z"
   },
   {
    "duration": 4,
    "start_time": "2022-12-14T01:17:52.023Z"
   },
   {
    "duration": 12,
    "start_time": "2022-12-14T01:17:52.483Z"
   },
   {
    "duration": 4,
    "start_time": "2022-12-14T01:17:53.322Z"
   },
   {
    "duration": 3,
    "start_time": "2022-12-14T01:17:54.232Z"
   },
   {
    "duration": 5,
    "start_time": "2022-12-14T01:17:56.032Z"
   },
   {
    "duration": 59,
    "start_time": "2022-12-14T01:17:56.873Z"
   },
   {
    "duration": 14,
    "start_time": "2022-12-14T01:18:10.782Z"
   },
   {
    "duration": 4,
    "start_time": "2022-12-14T01:19:39.193Z"
   },
   {
    "duration": 159,
    "start_time": "2022-12-14T01:19:39.642Z"
   },
   {
    "duration": 2,
    "start_time": "2022-12-14T01:19:55.833Z"
   },
   {
    "duration": 3,
    "start_time": "2022-12-14T01:19:56.263Z"
   },
   {
    "duration": 1353,
    "start_time": "2022-12-14T01:20:16.513Z"
   },
   {
    "duration": 46,
    "start_time": "2022-12-14T01:20:17.868Z"
   },
   {
    "duration": 4,
    "start_time": "2022-12-14T01:20:17.916Z"
   },
   {
    "duration": 94,
    "start_time": "2022-12-14T01:20:17.922Z"
   },
   {
    "duration": 5,
    "start_time": "2022-12-14T01:20:19.003Z"
   },
   {
    "duration": 542,
    "start_time": "2022-12-14T01:20:19.612Z"
   },
   {
    "duration": 11,
    "start_time": "2022-12-14T01:20:21.173Z"
   },
   {
    "duration": 3,
    "start_time": "2022-12-14T01:20:22.263Z"
   },
   {
    "duration": 14,
    "start_time": "2022-12-14T01:20:22.673Z"
   },
   {
    "duration": 4,
    "start_time": "2022-12-14T01:20:25.463Z"
   },
   {
    "duration": 9,
    "start_time": "2022-12-14T01:20:26.013Z"
   },
   {
    "duration": 3,
    "start_time": "2022-12-14T01:20:27.303Z"
   },
   {
    "duration": 3,
    "start_time": "2022-12-14T01:20:28.173Z"
   },
   {
    "duration": 3,
    "start_time": "2022-12-14T01:20:30.303Z"
   },
   {
    "duration": 3,
    "start_time": "2022-12-14T01:20:30.562Z"
   },
   {
    "duration": 20,
    "start_time": "2022-12-14T01:20:31.332Z"
   },
   {
    "duration": 19,
    "start_time": "2022-12-14T01:20:36.523Z"
   },
   {
    "duration": 124,
    "start_time": "2022-12-14T01:22:09.962Z"
   },
   {
    "duration": 22,
    "start_time": "2022-12-14T01:22:46.082Z"
   },
   {
    "duration": 32,
    "start_time": "2022-12-14T01:22:56.363Z"
   },
   {
    "duration": 26,
    "start_time": "2022-12-14T01:23:20.274Z"
   },
   {
    "duration": 12,
    "start_time": "2022-12-14T01:24:30.723Z"
   },
   {
    "duration": 10,
    "start_time": "2022-12-14T01:24:39.803Z"
   },
   {
    "duration": 22,
    "start_time": "2022-12-14T01:24:44.613Z"
   },
   {
    "duration": 18,
    "start_time": "2022-12-14T01:24:56.543Z"
   },
   {
    "duration": 23,
    "start_time": "2022-12-14T01:25:11.183Z"
   },
   {
    "duration": 1396,
    "start_time": "2022-12-14T01:25:50.293Z"
   },
   {
    "duration": 40,
    "start_time": "2022-12-14T01:25:51.691Z"
   },
   {
    "duration": 4,
    "start_time": "2022-12-14T01:25:51.733Z"
   },
   {
    "duration": 103,
    "start_time": "2022-12-14T01:25:51.739Z"
   },
   {
    "duration": 5,
    "start_time": "2022-12-14T01:25:52.753Z"
   },
   {
    "duration": 535,
    "start_time": "2022-12-14T01:25:53.613Z"
   },
   {
    "duration": 12,
    "start_time": "2022-12-14T01:25:55.183Z"
   },
   {
    "duration": 3,
    "start_time": "2022-12-14T01:25:56.382Z"
   },
   {
    "duration": 17,
    "start_time": "2022-12-14T01:25:56.833Z"
   },
   {
    "duration": 4,
    "start_time": "2022-12-14T01:25:58.373Z"
   },
   {
    "duration": 11,
    "start_time": "2022-12-14T01:25:58.833Z"
   },
   {
    "duration": 4,
    "start_time": "2022-12-14T01:25:59.533Z"
   },
   {
    "duration": 2,
    "start_time": "2022-12-14T01:26:00.454Z"
   },
   {
    "duration": 3,
    "start_time": "2022-12-14T01:26:02.053Z"
   },
   {
    "duration": 2,
    "start_time": "2022-12-14T01:26:02.323Z"
   },
   {
    "duration": 13,
    "start_time": "2022-12-14T01:26:02.553Z"
   },
   {
    "duration": 19,
    "start_time": "2022-12-14T01:26:03.344Z"
   },
   {
    "duration": 4,
    "start_time": "2022-12-14T01:27:34.683Z"
   },
   {
    "duration": 1329,
    "start_time": "2022-12-14T01:27:46.034Z"
   },
   {
    "duration": 43,
    "start_time": "2022-12-14T01:27:47.365Z"
   },
   {
    "duration": 5,
    "start_time": "2022-12-14T01:27:47.409Z"
   },
   {
    "duration": 104,
    "start_time": "2022-12-14T01:27:47.416Z"
   },
   {
    "duration": 5,
    "start_time": "2022-12-14T01:27:48.343Z"
   },
   {
    "duration": 539,
    "start_time": "2022-12-14T01:27:48.883Z"
   },
   {
    "duration": 12,
    "start_time": "2022-12-14T01:27:50.253Z"
   },
   {
    "duration": 3,
    "start_time": "2022-12-14T01:27:51.213Z"
   },
   {
    "duration": 17,
    "start_time": "2022-12-14T01:27:51.603Z"
   },
   {
    "duration": 4,
    "start_time": "2022-12-14T01:27:53.173Z"
   },
   {
    "duration": 10,
    "start_time": "2022-12-14T01:27:53.643Z"
   },
   {
    "duration": 4,
    "start_time": "2022-12-14T01:27:54.512Z"
   },
   {
    "duration": 3,
    "start_time": "2022-12-14T01:27:55.453Z"
   },
   {
    "duration": 4,
    "start_time": "2022-12-14T01:27:57.332Z"
   },
   {
    "duration": 3,
    "start_time": "2022-12-14T01:27:58.093Z"
   },
   {
    "duration": 11,
    "start_time": "2022-12-14T01:27:59.064Z"
   },
   {
    "duration": 56,
    "start_time": "2022-12-14T01:28:05.483Z"
   },
   {
    "duration": 1360,
    "start_time": "2022-12-14T01:29:41.853Z"
   },
   {
    "duration": 42,
    "start_time": "2022-12-14T01:29:43.214Z"
   },
   {
    "duration": 4,
    "start_time": "2022-12-14T01:29:43.258Z"
   },
   {
    "duration": 94,
    "start_time": "2022-12-14T01:29:43.264Z"
   },
   {
    "duration": 5,
    "start_time": "2022-12-14T01:29:44.142Z"
   },
   {
    "duration": 526,
    "start_time": "2022-12-14T01:29:44.743Z"
   },
   {
    "duration": 11,
    "start_time": "2022-12-14T01:29:46.063Z"
   },
   {
    "duration": 3,
    "start_time": "2022-12-14T01:29:47.032Z"
   },
   {
    "duration": 15,
    "start_time": "2022-12-14T01:29:47.393Z"
   },
   {
    "duration": 4,
    "start_time": "2022-12-14T01:29:48.793Z"
   },
   {
    "duration": 11,
    "start_time": "2022-12-14T01:29:49.193Z"
   },
   {
    "duration": 3,
    "start_time": "2022-12-14T01:29:49.753Z"
   },
   {
    "duration": 3,
    "start_time": "2022-12-14T01:29:50.602Z"
   },
   {
    "duration": 5,
    "start_time": "2022-12-14T01:29:52.263Z"
   },
   {
    "duration": 59,
    "start_time": "2022-12-14T01:29:52.952Z"
   },
   {
    "duration": 4,
    "start_time": "2022-12-14T01:31:53.323Z"
   },
   {
    "duration": 127,
    "start_time": "2022-12-14T01:31:53.613Z"
   },
   {
    "duration": 1410,
    "start_time": "2022-12-14T01:33:58.682Z"
   },
   {
    "duration": 42,
    "start_time": "2022-12-14T01:34:00.094Z"
   },
   {
    "duration": 5,
    "start_time": "2022-12-14T01:34:00.138Z"
   },
   {
    "duration": 114,
    "start_time": "2022-12-14T01:34:00.145Z"
   },
   {
    "duration": 5,
    "start_time": "2022-12-14T01:34:01.052Z"
   },
   {
    "duration": 569,
    "start_time": "2022-12-14T01:34:01.834Z"
   },
   {
    "duration": 11,
    "start_time": "2022-12-14T01:34:03.272Z"
   },
   {
    "duration": 3,
    "start_time": "2022-12-14T01:34:04.262Z"
   },
   {
    "duration": 16,
    "start_time": "2022-12-14T01:34:04.682Z"
   },
   {
    "duration": 4,
    "start_time": "2022-12-14T01:34:06.182Z"
   },
   {
    "duration": 13,
    "start_time": "2022-12-14T01:34:06.582Z"
   },
   {
    "duration": 3,
    "start_time": "2022-12-14T01:34:07.242Z"
   },
   {
    "duration": 2,
    "start_time": "2022-12-14T01:34:08.072Z"
   },
   {
    "duration": 5,
    "start_time": "2022-12-14T01:34:10.332Z"
   },
   {
    "duration": 46,
    "start_time": "2022-12-14T01:34:10.922Z"
   },
   {
    "duration": 22,
    "start_time": "2022-12-14T01:34:23.238Z"
   },
   {
    "duration": 1425,
    "start_time": "2022-12-14T01:35:44.983Z"
   },
   {
    "duration": 42,
    "start_time": "2022-12-14T01:35:46.410Z"
   },
   {
    "duration": 4,
    "start_time": "2022-12-14T01:35:46.454Z"
   },
   {
    "duration": 93,
    "start_time": "2022-12-14T01:35:46.460Z"
   },
   {
    "duration": 4,
    "start_time": "2022-12-14T01:35:47.373Z"
   },
   {
    "duration": 523,
    "start_time": "2022-12-14T01:35:47.913Z"
   },
   {
    "duration": 12,
    "start_time": "2022-12-14T01:35:49.303Z"
   },
   {
    "duration": 3,
    "start_time": "2022-12-14T01:35:50.293Z"
   },
   {
    "duration": 15,
    "start_time": "2022-12-14T01:35:50.693Z"
   },
   {
    "duration": 5,
    "start_time": "2022-12-14T01:35:52.193Z"
   },
   {
    "duration": 11,
    "start_time": "2022-12-14T01:35:52.623Z"
   },
   {
    "duration": 4,
    "start_time": "2022-12-14T01:35:53.603Z"
   },
   {
    "duration": 3,
    "start_time": "2022-12-14T01:35:54.434Z"
   },
   {
    "duration": 4,
    "start_time": "2022-12-14T01:35:56.873Z"
   },
   {
    "duration": 44,
    "start_time": "2022-12-14T01:36:02.743Z"
   },
   {
    "duration": 21,
    "start_time": "2022-12-14T01:36:03.853Z"
   },
   {
    "duration": 5,
    "start_time": "2022-12-14T01:36:54.723Z"
   },
   {
    "duration": 42,
    "start_time": "2022-12-14T01:36:55.253Z"
   },
   {
    "duration": 5,
    "start_time": "2022-12-14T01:36:55.873Z"
   },
   {
    "duration": 78,
    "start_time": "2022-12-14T01:36:56.093Z"
   },
   {
    "duration": 4,
    "start_time": "2022-12-14T01:36:57.353Z"
   },
   {
    "duration": 564,
    "start_time": "2022-12-14T01:36:58.002Z"
   },
   {
    "duration": 12,
    "start_time": "2022-12-14T01:36:59.723Z"
   },
   {
    "duration": 2,
    "start_time": "2022-12-14T01:37:01.084Z"
   },
   {
    "duration": 16,
    "start_time": "2022-12-14T01:37:01.553Z"
   },
   {
    "duration": 4,
    "start_time": "2022-12-14T01:37:04.723Z"
   },
   {
    "duration": 10,
    "start_time": "2022-12-14T01:37:05.312Z"
   },
   {
    "duration": 5,
    "start_time": "2022-12-14T01:37:06.383Z"
   },
   {
    "duration": 3,
    "start_time": "2022-12-14T01:37:07.723Z"
   },
   {
    "duration": 3,
    "start_time": "2022-12-14T01:37:09.903Z"
   },
   {
    "duration": 118,
    "start_time": "2022-12-14T01:37:10.333Z"
   },
   {
    "duration": 4,
    "start_time": "2022-12-14T01:37:17.473Z"
   },
   {
    "duration": 44,
    "start_time": "2022-12-14T01:37:18.023Z"
   },
   {
    "duration": 25,
    "start_time": "2022-12-14T01:37:19.133Z"
   },
   {
    "duration": 1419,
    "start_time": "2022-12-14T01:39:59.332Z"
   },
   {
    "duration": 45,
    "start_time": "2022-12-14T01:40:00.753Z"
   },
   {
    "duration": 5,
    "start_time": "2022-12-14T01:40:00.800Z"
   },
   {
    "duration": 139,
    "start_time": "2022-12-14T01:40:00.807Z"
   },
   {
    "duration": 5,
    "start_time": "2022-12-14T01:40:00.948Z"
   },
   {
    "duration": 549,
    "start_time": "2022-12-14T01:40:00.954Z"
   },
   {
    "duration": 18,
    "start_time": "2022-12-14T01:40:01.505Z"
   },
   {
    "duration": 13,
    "start_time": "2022-12-14T01:40:01.524Z"
   },
   {
    "duration": 15,
    "start_time": "2022-12-14T01:40:01.539Z"
   },
   {
    "duration": 28,
    "start_time": "2022-12-14T01:40:01.555Z"
   },
   {
    "duration": 29,
    "start_time": "2022-12-14T01:40:01.584Z"
   },
   {
    "duration": 29,
    "start_time": "2022-12-14T01:40:01.614Z"
   },
   {
    "duration": 20,
    "start_time": "2022-12-14T01:40:01.644Z"
   },
   {
    "duration": 62,
    "start_time": "2022-12-14T01:40:01.666Z"
   },
   {
    "duration": 3,
    "start_time": "2022-12-14T01:40:01.730Z"
   },
   {
    "duration": 185,
    "start_time": "2022-12-14T01:40:01.735Z"
   },
   {
    "duration": 0,
    "start_time": "2022-12-14T01:40:01.922Z"
   },
   {
    "duration": 0,
    "start_time": "2022-12-14T01:40:01.923Z"
   },
   {
    "duration": 0,
    "start_time": "2022-12-14T01:40:01.924Z"
   },
   {
    "duration": 0,
    "start_time": "2022-12-14T01:40:01.925Z"
   },
   {
    "duration": 0,
    "start_time": "2022-12-14T01:40:01.926Z"
   },
   {
    "duration": 0,
    "start_time": "2022-12-14T01:40:01.927Z"
   },
   {
    "duration": 1,
    "start_time": "2022-12-14T01:40:01.927Z"
   },
   {
    "duration": 0,
    "start_time": "2022-12-14T01:40:01.929Z"
   },
   {
    "duration": 0,
    "start_time": "2022-12-14T01:40:01.930Z"
   },
   {
    "duration": 0,
    "start_time": "2022-12-14T01:40:01.931Z"
   },
   {
    "duration": 0,
    "start_time": "2022-12-14T01:40:01.932Z"
   },
   {
    "duration": 0,
    "start_time": "2022-12-14T01:40:01.933Z"
   },
   {
    "duration": 0,
    "start_time": "2022-12-14T01:40:01.934Z"
   },
   {
    "duration": 16,
    "start_time": "2022-12-14T01:41:25.541Z"
   },
   {
    "duration": 1407,
    "start_time": "2022-12-14T01:41:38.283Z"
   },
   {
    "duration": 42,
    "start_time": "2022-12-14T01:41:39.692Z"
   },
   {
    "duration": 5,
    "start_time": "2022-12-14T01:41:39.735Z"
   },
   {
    "duration": 98,
    "start_time": "2022-12-14T01:41:39.742Z"
   },
   {
    "duration": 5,
    "start_time": "2022-12-14T01:41:39.841Z"
   },
   {
    "duration": 571,
    "start_time": "2022-12-14T01:41:39.847Z"
   },
   {
    "duration": 11,
    "start_time": "2022-12-14T01:41:40.419Z"
   },
   {
    "duration": 2,
    "start_time": "2022-12-14T01:41:40.432Z"
   },
   {
    "duration": 16,
    "start_time": "2022-12-14T01:41:40.435Z"
   },
   {
    "duration": 8,
    "start_time": "2022-12-14T01:41:40.454Z"
   },
   {
    "duration": 11,
    "start_time": "2022-12-14T01:41:40.463Z"
   },
   {
    "duration": 3,
    "start_time": "2022-12-14T01:41:40.475Z"
   },
   {
    "duration": 5,
    "start_time": "2022-12-14T01:41:40.515Z"
   },
   {
    "duration": 52,
    "start_time": "2022-12-14T01:41:40.521Z"
   },
   {
    "duration": 3,
    "start_time": "2022-12-14T01:41:40.575Z"
   },
   {
    "duration": 144,
    "start_time": "2022-12-14T01:41:40.580Z"
   },
   {
    "duration": 0,
    "start_time": "2022-12-14T01:41:40.727Z"
   },
   {
    "duration": 0,
    "start_time": "2022-12-14T01:41:40.728Z"
   },
   {
    "duration": 0,
    "start_time": "2022-12-14T01:41:40.729Z"
   },
   {
    "duration": 0,
    "start_time": "2022-12-14T01:41:40.731Z"
   },
   {
    "duration": 0,
    "start_time": "2022-12-14T01:41:40.732Z"
   },
   {
    "duration": 0,
    "start_time": "2022-12-14T01:41:40.733Z"
   },
   {
    "duration": 1,
    "start_time": "2022-12-14T01:41:40.734Z"
   },
   {
    "duration": 0,
    "start_time": "2022-12-14T01:41:40.736Z"
   },
   {
    "duration": 0,
    "start_time": "2022-12-14T01:41:40.737Z"
   },
   {
    "duration": 0,
    "start_time": "2022-12-14T01:41:40.738Z"
   },
   {
    "duration": 0,
    "start_time": "2022-12-14T01:41:40.739Z"
   },
   {
    "duration": 1,
    "start_time": "2022-12-14T01:41:40.741Z"
   },
   {
    "duration": 0,
    "start_time": "2022-12-14T01:41:40.743Z"
   },
   {
    "duration": 1373,
    "start_time": "2022-12-14T01:42:32.903Z"
   },
   {
    "duration": 41,
    "start_time": "2022-12-14T01:42:34.278Z"
   },
   {
    "duration": 4,
    "start_time": "2022-12-14T01:42:34.321Z"
   },
   {
    "duration": 101,
    "start_time": "2022-12-14T01:42:34.327Z"
   },
   {
    "duration": 4,
    "start_time": "2022-12-14T01:42:34.430Z"
   },
   {
    "duration": 542,
    "start_time": "2022-12-14T01:42:34.436Z"
   },
   {
    "duration": 10,
    "start_time": "2022-12-14T01:42:34.980Z"
   },
   {
    "duration": 20,
    "start_time": "2022-12-14T01:42:34.992Z"
   },
   {
    "duration": 16,
    "start_time": "2022-12-14T01:42:35.013Z"
   },
   {
    "duration": 11,
    "start_time": "2022-12-14T01:42:35.031Z"
   },
   {
    "duration": 15,
    "start_time": "2022-12-14T01:42:35.043Z"
   },
   {
    "duration": 6,
    "start_time": "2022-12-14T01:42:35.060Z"
   },
   {
    "duration": 20,
    "start_time": "2022-12-14T01:42:35.068Z"
   },
   {
    "duration": 61,
    "start_time": "2022-12-14T01:42:35.091Z"
   },
   {
    "duration": 4,
    "start_time": "2022-12-14T01:42:35.153Z"
   },
   {
    "duration": 1423,
    "start_time": "2022-12-14T01:53:24.903Z"
   },
   {
    "duration": 46,
    "start_time": "2022-12-14T01:53:26.328Z"
   },
   {
    "duration": 5,
    "start_time": "2022-12-14T01:53:26.379Z"
   },
   {
    "duration": 95,
    "start_time": "2022-12-14T01:53:26.385Z"
   },
   {
    "duration": 4,
    "start_time": "2022-12-14T01:53:26.481Z"
   },
   {
    "duration": 563,
    "start_time": "2022-12-14T01:53:26.487Z"
   },
   {
    "duration": 11,
    "start_time": "2022-12-14T01:53:27.051Z"
   },
   {
    "duration": 14,
    "start_time": "2022-12-14T01:53:27.063Z"
   },
   {
    "duration": 15,
    "start_time": "2022-12-14T01:53:27.079Z"
   },
   {
    "duration": 9,
    "start_time": "2022-12-14T01:53:27.096Z"
   },
   {
    "duration": 8,
    "start_time": "2022-12-14T01:53:27.116Z"
   },
   {
    "duration": 4,
    "start_time": "2022-12-14T01:53:27.126Z"
   },
   {
    "duration": 7,
    "start_time": "2022-12-14T01:53:27.131Z"
   },
   {
    "duration": 142,
    "start_time": "2022-12-14T01:53:27.139Z"
   },
   {
    "duration": 0,
    "start_time": "2022-12-14T01:53:27.283Z"
   },
   {
    "duration": 0,
    "start_time": "2022-12-14T01:53:27.285Z"
   },
   {
    "duration": 0,
    "start_time": "2022-12-14T01:53:27.285Z"
   },
   {
    "duration": 0,
    "start_time": "2022-12-14T01:53:27.287Z"
   },
   {
    "duration": 0,
    "start_time": "2022-12-14T01:53:27.288Z"
   },
   {
    "duration": 0,
    "start_time": "2022-12-14T01:53:27.289Z"
   },
   {
    "duration": 0,
    "start_time": "2022-12-14T01:53:27.290Z"
   },
   {
    "duration": 0,
    "start_time": "2022-12-14T01:53:27.291Z"
   },
   {
    "duration": 0,
    "start_time": "2022-12-14T01:53:27.292Z"
   },
   {
    "duration": 0,
    "start_time": "2022-12-14T01:53:27.293Z"
   },
   {
    "duration": 0,
    "start_time": "2022-12-14T01:53:27.316Z"
   },
   {
    "duration": 0,
    "start_time": "2022-12-14T01:53:27.316Z"
   },
   {
    "duration": 0,
    "start_time": "2022-12-14T01:53:27.317Z"
   },
   {
    "duration": 0,
    "start_time": "2022-12-14T01:53:27.318Z"
   },
   {
    "duration": 5,
    "start_time": "2022-12-14T01:54:44.562Z"
   },
   {
    "duration": 57,
    "start_time": "2022-12-14T01:54:45.486Z"
   },
   {
    "duration": 11,
    "start_time": "2022-12-14T02:04:14.643Z"
   },
   {
    "duration": 11,
    "start_time": "2022-12-14T02:06:08.394Z"
   },
   {
    "duration": 6217,
    "start_time": "2022-12-14T02:06:17.043Z"
   },
   {
    "duration": 32,
    "start_time": "2022-12-14T02:06:45.304Z"
   },
   {
    "duration": 4,
    "start_time": "2022-12-14T02:06:59.873Z"
   },
   {
    "duration": 20,
    "start_time": "2022-12-14T02:07:03.193Z"
   },
   {
    "duration": 23,
    "start_time": "2022-12-14T02:07:22.713Z"
   },
   {
    "duration": 1269,
    "start_time": "2022-12-14T02:08:36.523Z"
   },
   {
    "duration": 5,
    "start_time": "2022-12-14T02:10:10.022Z"
   },
   {
    "duration": 41,
    "start_time": "2022-12-14T02:10:10.392Z"
   },
   {
    "duration": 5,
    "start_time": "2022-12-14T02:10:10.942Z"
   },
   {
    "duration": 86,
    "start_time": "2022-12-14T02:10:11.142Z"
   },
   {
    "duration": 5,
    "start_time": "2022-12-14T02:10:12.272Z"
   },
   {
    "duration": 531,
    "start_time": "2022-12-14T02:10:12.872Z"
   },
   {
    "duration": 16,
    "start_time": "2022-12-14T02:10:14.873Z"
   },
   {
    "duration": 2,
    "start_time": "2022-12-14T02:10:15.883Z"
   },
   {
    "duration": 25,
    "start_time": "2022-12-14T02:10:16.253Z"
   },
   {
    "duration": 4,
    "start_time": "2022-12-14T02:10:17.732Z"
   },
   {
    "duration": 10,
    "start_time": "2022-12-14T02:10:18.153Z"
   },
   {
    "duration": 4,
    "start_time": "2022-12-14T02:10:18.822Z"
   },
   {
    "duration": 4,
    "start_time": "2022-12-14T02:10:19.662Z"
   },
   {
    "duration": 53,
    "start_time": "2022-12-14T02:10:19.862Z"
   },
   {
    "duration": 116,
    "start_time": "2022-12-14T02:10:21.102Z"
   },
   {
    "duration": 4,
    "start_time": "2022-12-14T02:13:39.143Z"
   },
   {
    "duration": 26,
    "start_time": "2022-12-14T02:13:39.622Z"
   },
   {
    "duration": 1300,
    "start_time": "2022-12-14T02:13:55.352Z"
   },
   {
    "duration": 43,
    "start_time": "2022-12-14T02:13:56.654Z"
   },
   {
    "duration": 4,
    "start_time": "2022-12-14T02:13:56.699Z"
   },
   {
    "duration": 91,
    "start_time": "2022-12-14T02:13:56.705Z"
   },
   {
    "duration": 5,
    "start_time": "2022-12-14T02:13:57.733Z"
   },
   {
    "duration": 546,
    "start_time": "2022-12-14T02:13:58.263Z"
   },
   {
    "duration": 11,
    "start_time": "2022-12-14T02:14:00.410Z"
   },
   {
    "duration": 3,
    "start_time": "2022-12-14T02:14:01.472Z"
   },
   {
    "duration": 26,
    "start_time": "2022-12-14T02:14:01.923Z"
   },
   {
    "duration": 4,
    "start_time": "2022-12-14T02:14:06.832Z"
   },
   {
    "duration": 10,
    "start_time": "2022-12-14T02:14:07.245Z"
   },
   {
    "duration": 3,
    "start_time": "2022-12-14T02:14:07.893Z"
   },
   {
    "duration": 5,
    "start_time": "2022-12-14T02:14:08.733Z"
   },
   {
    "duration": 53,
    "start_time": "2022-12-14T02:14:10.162Z"
   },
   {
    "duration": 14,
    "start_time": "2022-12-14T02:14:30.673Z"
   },
   {
    "duration": 637,
    "start_time": "2022-12-14T02:14:35.302Z"
   },
   {
    "duration": 3,
    "start_time": "2022-12-14T02:15:08.992Z"
   },
   {
    "duration": 34,
    "start_time": "2022-12-14T02:18:08.092Z"
   },
   {
    "duration": 1213,
    "start_time": "2022-12-14T02:19:13.753Z"
   },
   {
    "duration": 42,
    "start_time": "2022-12-14T02:19:14.967Z"
   },
   {
    "duration": 4,
    "start_time": "2022-12-14T02:19:15.011Z"
   },
   {
    "duration": 83,
    "start_time": "2022-12-14T02:19:15.083Z"
   },
   {
    "duration": 5,
    "start_time": "2022-12-14T02:19:16.711Z"
   },
   {
    "duration": 531,
    "start_time": "2022-12-14T02:19:17.283Z"
   },
   {
    "duration": 11,
    "start_time": "2022-12-14T02:19:19.843Z"
   },
   {
    "duration": 3,
    "start_time": "2022-12-14T02:19:20.973Z"
   },
   {
    "duration": 17,
    "start_time": "2022-12-14T02:19:21.503Z"
   },
   {
    "duration": 4,
    "start_time": "2022-12-14T02:19:23.193Z"
   },
   {
    "duration": 10,
    "start_time": "2022-12-14T02:19:23.653Z"
   },
   {
    "duration": 3,
    "start_time": "2022-12-14T02:19:24.383Z"
   },
   {
    "duration": 4,
    "start_time": "2022-12-14T02:19:25.293Z"
   },
   {
    "duration": 49,
    "start_time": "2022-12-14T02:19:25.523Z"
   },
   {
    "duration": 633,
    "start_time": "2022-12-14T02:19:26.683Z"
   },
   {
    "duration": 3,
    "start_time": "2022-12-14T02:19:28.093Z"
   },
   {
    "duration": 2,
    "start_time": "2022-12-14T02:19:28.463Z"
   },
   {
    "duration": 3,
    "start_time": "2022-12-14T02:19:29.783Z"
   },
   {
    "duration": 33,
    "start_time": "2022-12-14T02:19:30.673Z"
   },
   {
    "duration": 4,
    "start_time": "2022-12-14T02:19:31.792Z"
   },
   {
    "duration": 32,
    "start_time": "2022-12-14T02:21:42.213Z"
   },
   {
    "duration": 4,
    "start_time": "2022-12-14T02:21:45.373Z"
   },
   {
    "duration": 4,
    "start_time": "2022-12-14T02:28:08.372Z"
   },
   {
    "duration": 693,
    "start_time": "2022-12-14T02:28:08.993Z"
   },
   {
    "duration": 4,
    "start_time": "2022-12-14T02:31:37.742Z"
   },
   {
    "duration": 110,
    "start_time": "2022-12-14T02:35:41.752Z"
   },
   {
    "duration": 9,
    "start_time": "2022-12-14T02:36:10.946Z"
   },
   {
    "duration": 4,
    "start_time": "2022-12-14T02:36:31.273Z"
   },
   {
    "duration": 11,
    "start_time": "2022-12-14T02:37:13.962Z"
   },
   {
    "duration": 4,
    "start_time": "2022-12-14T02:37:15.652Z"
   },
   {
    "duration": 534,
    "start_time": "2022-12-14T02:37:21.432Z"
   },
   {
    "duration": 669,
    "start_time": "2022-12-14T02:41:44.683Z"
   },
   {
    "duration": 1268,
    "start_time": "2022-12-14T02:48:29.343Z"
   },
   {
    "duration": 43,
    "start_time": "2022-12-14T02:48:30.613Z"
   },
   {
    "duration": 4,
    "start_time": "2022-12-14T02:48:30.660Z"
   },
   {
    "duration": 150,
    "start_time": "2022-12-14T02:48:30.666Z"
   },
   {
    "duration": 7,
    "start_time": "2022-12-14T02:48:30.817Z"
   },
   {
    "duration": 586,
    "start_time": "2022-12-14T02:48:30.825Z"
   },
   {
    "duration": 12,
    "start_time": "2022-12-14T02:48:31.413Z"
   },
   {
    "duration": 19,
    "start_time": "2022-12-14T02:48:31.426Z"
   },
   {
    "duration": 19,
    "start_time": "2022-12-14T02:48:31.447Z"
   },
   {
    "duration": 27,
    "start_time": "2022-12-14T02:48:31.468Z"
   },
   {
    "duration": 16,
    "start_time": "2022-12-14T02:48:31.497Z"
   },
   {
    "duration": 21,
    "start_time": "2022-12-14T02:48:31.515Z"
   },
   {
    "duration": 8,
    "start_time": "2022-12-14T02:48:31.539Z"
   },
   {
    "duration": 71,
    "start_time": "2022-12-14T02:48:31.549Z"
   },
   {
    "duration": 1284,
    "start_time": "2022-12-14T02:51:50.721Z"
   },
   {
    "duration": 45,
    "start_time": "2022-12-14T02:51:52.007Z"
   },
   {
    "duration": 7,
    "start_time": "2022-12-14T02:51:52.056Z"
   },
   {
    "duration": 108,
    "start_time": "2022-12-14T02:51:52.065Z"
   },
   {
    "duration": 5,
    "start_time": "2022-12-14T02:51:52.174Z"
   },
   {
    "duration": 605,
    "start_time": "2022-12-14T02:51:52.181Z"
   },
   {
    "duration": 12,
    "start_time": "2022-12-14T02:51:52.787Z"
   },
   {
    "duration": 15,
    "start_time": "2022-12-14T02:51:52.800Z"
   },
   {
    "duration": 17,
    "start_time": "2022-12-14T02:51:52.817Z"
   },
   {
    "duration": 10,
    "start_time": "2022-12-14T02:51:52.836Z"
   },
   {
    "duration": 14,
    "start_time": "2022-12-14T02:51:52.847Z"
   },
   {
    "duration": 3,
    "start_time": "2022-12-14T02:51:52.863Z"
   },
   {
    "duration": 7,
    "start_time": "2022-12-14T02:51:52.869Z"
   },
   {
    "duration": 80,
    "start_time": "2022-12-14T02:51:52.877Z"
   },
   {
    "duration": 43022,
    "start_time": "2022-12-14T02:51:52.959Z"
   },
   {
    "duration": 53,
    "start_time": "2022-12-14T02:52:35.983Z"
   },
   {
    "duration": 4,
    "start_time": "2022-12-14T02:52:36.037Z"
   },
   {
    "duration": 62714,
    "start_time": "2022-12-14T02:52:36.043Z"
   },
   {
    "duration": 10,
    "start_time": "2022-12-14T02:53:38.759Z"
   },
   {
    "duration": 8,
    "start_time": "2022-12-14T02:53:38.771Z"
   },
   {
    "duration": 28634,
    "start_time": "2022-12-14T02:53:38.781Z"
   },
   {
    "duration": 43042,
    "start_time": "2022-12-14T02:54:07.417Z"
   },
   {
    "duration": 5,
    "start_time": "2022-12-14T02:54:50.461Z"
   },
   {
    "duration": 8,
    "start_time": "2022-12-14T02:54:50.467Z"
   },
   {
    "duration": 968,
    "start_time": "2022-12-14T02:54:50.477Z"
   },
   {
    "duration": 3,
    "start_time": "2022-12-14T02:54:51.447Z"
   },
   {
    "duration": 7,
    "start_time": "2022-12-14T02:54:51.451Z"
   },
   {
    "duration": 9,
    "start_time": "2022-12-14T02:59:12.492Z"
   },
   {
    "duration": 4,
    "start_time": "2022-12-14T02:59:13.701Z"
   },
   {
    "duration": 1357,
    "start_time": "2022-12-14T03:00:53.403Z"
   },
   {
    "duration": 41,
    "start_time": "2022-12-14T03:00:54.763Z"
   },
   {
    "duration": 6,
    "start_time": "2022-12-14T03:00:54.806Z"
   },
   {
    "duration": 121,
    "start_time": "2022-12-14T03:00:54.814Z"
   },
   {
    "duration": 6,
    "start_time": "2022-12-14T03:00:54.938Z"
   },
   {
    "duration": 591,
    "start_time": "2022-12-14T03:00:54.946Z"
   },
   {
    "duration": 12,
    "start_time": "2022-12-14T03:00:55.538Z"
   },
   {
    "duration": 2,
    "start_time": "2022-12-14T03:00:55.552Z"
   },
   {
    "duration": 17,
    "start_time": "2022-12-14T03:00:55.555Z"
   },
   {
    "duration": 10,
    "start_time": "2022-12-14T03:00:55.573Z"
   },
   {
    "duration": 14,
    "start_time": "2022-12-14T03:00:55.616Z"
   },
   {
    "duration": 8,
    "start_time": "2022-12-14T03:00:55.632Z"
   },
   {
    "duration": 7,
    "start_time": "2022-12-14T03:00:55.641Z"
   },
   {
    "duration": 102,
    "start_time": "2022-12-14T03:00:55.652Z"
   },
   {
    "duration": 1249,
    "start_time": "2022-12-14T03:02:22.731Z"
   },
   {
    "duration": 41,
    "start_time": "2022-12-14T03:02:23.982Z"
   },
   {
    "duration": 5,
    "start_time": "2022-12-14T03:02:24.027Z"
   },
   {
    "duration": 160,
    "start_time": "2022-12-14T03:02:24.034Z"
   },
   {
    "duration": 6,
    "start_time": "2022-12-14T03:02:24.196Z"
   },
   {
    "duration": 576,
    "start_time": "2022-12-14T03:02:24.216Z"
   },
   {
    "duration": 23,
    "start_time": "2022-12-14T03:02:24.794Z"
   },
   {
    "duration": 3,
    "start_time": "2022-12-14T03:02:24.819Z"
   },
   {
    "duration": 16,
    "start_time": "2022-12-14T03:02:24.823Z"
   },
   {
    "duration": 10,
    "start_time": "2022-12-14T03:02:24.840Z"
   },
   {
    "duration": 12,
    "start_time": "2022-12-14T03:02:24.852Z"
   },
   {
    "duration": 8,
    "start_time": "2022-12-14T03:02:24.866Z"
   },
   {
    "duration": 39,
    "start_time": "2022-12-14T03:02:24.877Z"
   },
   {
    "duration": 53,
    "start_time": "2022-12-14T03:02:24.917Z"
   },
   {
    "duration": 42901,
    "start_time": "2022-12-14T03:02:24.972Z"
   },
   {
    "duration": 51,
    "start_time": "2022-12-14T03:03:07.875Z"
   },
   {
    "duration": 3,
    "start_time": "2022-12-14T03:03:07.928Z"
   },
   {
    "duration": 63958,
    "start_time": "2022-12-14T03:03:07.934Z"
   },
   {
    "duration": 23,
    "start_time": "2022-12-14T03:04:11.894Z"
   },
   {
    "duration": 4,
    "start_time": "2022-12-14T03:04:11.918Z"
   },
   {
    "duration": 28984,
    "start_time": "2022-12-14T03:04:11.924Z"
   },
   {
    "duration": 42432,
    "start_time": "2022-12-14T03:04:40.915Z"
   },
   {
    "duration": 7,
    "start_time": "2022-12-14T03:05:23.349Z"
   },
   {
    "duration": 12,
    "start_time": "2022-12-14T03:05:23.357Z"
   },
   {
    "duration": 130,
    "start_time": "2022-12-14T03:05:23.370Z"
   },
   {
    "duration": 5,
    "start_time": "2022-12-14T03:22:09.671Z"
   },
   {
    "duration": 7,
    "start_time": "2022-12-14T03:26:24.272Z"
   },
   {
    "duration": 672,
    "start_time": "2022-12-14T03:26:25.781Z"
   },
   {
    "duration": 649,
    "start_time": "2022-12-14T03:27:51.422Z"
   },
   {
    "duration": 686,
    "start_time": "2022-12-14T03:28:13.122Z"
   },
   {
    "duration": 1276,
    "start_time": "2022-12-14T03:31:15.273Z"
   },
   {
    "duration": 80,
    "start_time": "2022-12-14T03:31:16.551Z"
   },
   {
    "duration": 6,
    "start_time": "2022-12-14T03:31:16.636Z"
   },
   {
    "duration": 137,
    "start_time": "2022-12-14T03:31:16.645Z"
   },
   {
    "duration": 5,
    "start_time": "2022-12-14T03:31:16.783Z"
   },
   {
    "duration": 579,
    "start_time": "2022-12-14T03:31:16.789Z"
   },
   {
    "duration": 12,
    "start_time": "2022-12-14T03:31:17.370Z"
   },
   {
    "duration": 8,
    "start_time": "2022-12-14T03:31:17.384Z"
   },
   {
    "duration": 33,
    "start_time": "2022-12-14T03:31:17.394Z"
   },
   {
    "duration": 9,
    "start_time": "2022-12-14T03:31:17.429Z"
   },
   {
    "duration": 11,
    "start_time": "2022-12-14T03:31:17.439Z"
   },
   {
    "duration": 3,
    "start_time": "2022-12-14T03:31:17.451Z"
   },
   {
    "duration": 9,
    "start_time": "2022-12-14T03:31:17.456Z"
   },
   {
    "duration": 91,
    "start_time": "2022-12-14T03:31:17.466Z"
   },
   {
    "duration": 41734,
    "start_time": "2022-12-14T03:31:17.559Z"
   },
   {
    "duration": 49,
    "start_time": "2022-12-14T03:31:59.296Z"
   },
   {
    "duration": 4,
    "start_time": "2022-12-14T03:31:59.347Z"
   },
   {
    "duration": 63351,
    "start_time": "2022-12-14T03:31:59.353Z"
   },
   {
    "duration": 15,
    "start_time": "2022-12-14T03:33:02.706Z"
   },
   {
    "duration": 4,
    "start_time": "2022-12-14T03:33:02.723Z"
   },
   {
    "duration": 29092,
    "start_time": "2022-12-14T03:33:02.729Z"
   },
   {
    "duration": 42418,
    "start_time": "2022-12-14T03:33:31.823Z"
   },
   {
    "duration": 5,
    "start_time": "2022-12-14T03:34:14.243Z"
   },
   {
    "duration": 650,
    "start_time": "2022-12-14T03:34:14.250Z"
   },
   {
    "duration": 1263,
    "start_time": "2022-12-14T03:38:40.503Z"
   },
   {
    "duration": 42,
    "start_time": "2022-12-14T03:38:41.768Z"
   },
   {
    "duration": 5,
    "start_time": "2022-12-14T03:38:41.815Z"
   },
   {
    "duration": 108,
    "start_time": "2022-12-14T03:38:41.822Z"
   },
   {
    "duration": 4,
    "start_time": "2022-12-14T03:38:41.932Z"
   },
   {
    "duration": 581,
    "start_time": "2022-12-14T03:38:41.937Z"
   },
   {
    "duration": 12,
    "start_time": "2022-12-14T03:38:42.520Z"
   },
   {
    "duration": 3,
    "start_time": "2022-12-14T03:38:42.534Z"
   },
   {
    "duration": 18,
    "start_time": "2022-12-14T03:38:42.539Z"
   },
   {
    "duration": 25,
    "start_time": "2022-12-14T03:38:42.559Z"
   },
   {
    "duration": 30,
    "start_time": "2022-12-14T03:38:42.586Z"
   },
   {
    "duration": 4,
    "start_time": "2022-12-14T03:38:42.617Z"
   },
   {
    "duration": 6,
    "start_time": "2022-12-14T03:38:42.623Z"
   },
   {
    "duration": 60,
    "start_time": "2022-12-14T03:38:42.631Z"
   },
   {
    "duration": 42353,
    "start_time": "2022-12-14T03:38:42.692Z"
   },
   {
    "duration": 35,
    "start_time": "2022-12-14T03:39:25.047Z"
   },
   {
    "duration": 136,
    "start_time": "2022-12-14T03:39:25.084Z"
   },
   {
    "duration": 0,
    "start_time": "2022-12-14T03:39:25.221Z"
   },
   {
    "duration": 0,
    "start_time": "2022-12-14T03:39:25.222Z"
   },
   {
    "duration": 0,
    "start_time": "2022-12-14T03:39:25.223Z"
   },
   {
    "duration": 0,
    "start_time": "2022-12-14T03:39:25.224Z"
   },
   {
    "duration": 0,
    "start_time": "2022-12-14T03:39:25.225Z"
   },
   {
    "duration": 0,
    "start_time": "2022-12-14T03:39:25.226Z"
   },
   {
    "duration": 0,
    "start_time": "2022-12-14T03:39:25.227Z"
   },
   {
    "duration": 1292,
    "start_time": "2022-12-14T03:39:48.122Z"
   },
   {
    "duration": 41,
    "start_time": "2022-12-14T03:39:49.416Z"
   },
   {
    "duration": 5,
    "start_time": "2022-12-14T03:39:49.462Z"
   },
   {
    "duration": 100,
    "start_time": "2022-12-14T03:39:49.469Z"
   },
   {
    "duration": 5,
    "start_time": "2022-12-14T03:39:49.571Z"
   },
   {
    "duration": 659,
    "start_time": "2022-12-14T03:39:49.578Z"
   },
   {
    "duration": 14,
    "start_time": "2022-12-14T03:39:50.239Z"
   },
   {
    "duration": 8,
    "start_time": "2022-12-14T03:39:50.255Z"
   },
   {
    "duration": 25,
    "start_time": "2022-12-14T03:39:50.265Z"
   },
   {
    "duration": 33,
    "start_time": "2022-12-14T03:39:50.293Z"
   },
   {
    "duration": 35,
    "start_time": "2022-12-14T03:39:50.328Z"
   },
   {
    "duration": 4,
    "start_time": "2022-12-14T03:39:50.365Z"
   },
   {
    "duration": 6,
    "start_time": "2022-12-14T03:39:50.372Z"
   },
   {
    "duration": 72,
    "start_time": "2022-12-14T03:39:50.380Z"
   },
   {
    "duration": 42598,
    "start_time": "2022-12-14T03:39:50.454Z"
   },
   {
    "duration": 35,
    "start_time": "2022-12-14T03:40:33.054Z"
   },
   {
    "duration": 4,
    "start_time": "2022-12-14T03:40:33.090Z"
   },
   {
    "duration": 64626,
    "start_time": "2022-12-14T03:40:33.115Z"
   },
   {
    "duration": 13,
    "start_time": "2022-12-14T03:41:37.743Z"
   },
   {
    "duration": 9,
    "start_time": "2022-12-14T03:41:37.757Z"
   },
   {
    "duration": 29654,
    "start_time": "2022-12-14T03:41:37.767Z"
   },
   {
    "duration": 42674,
    "start_time": "2022-12-14T03:42:07.422Z"
   },
   {
    "duration": 17,
    "start_time": "2022-12-14T03:42:50.098Z"
   },
   {
    "duration": 623,
    "start_time": "2022-12-14T03:42:50.117Z"
   },
   {
    "duration": 1516,
    "start_time": "2023-02-05T16:04:22.442Z"
   },
   {
    "duration": 0,
    "start_time": "2023-02-05T16:04:23.960Z"
   },
   {
    "duration": 0,
    "start_time": "2023-02-05T16:04:23.962Z"
   },
   {
    "duration": 0,
    "start_time": "2023-02-05T16:04:23.963Z"
   },
   {
    "duration": 0,
    "start_time": "2023-02-05T16:04:23.965Z"
   },
   {
    "duration": 0,
    "start_time": "2023-02-05T16:04:23.966Z"
   },
   {
    "duration": 0,
    "start_time": "2023-02-05T16:04:23.967Z"
   },
   {
    "duration": 0,
    "start_time": "2023-02-05T16:04:23.969Z"
   },
   {
    "duration": 0,
    "start_time": "2023-02-05T16:04:23.970Z"
   },
   {
    "duration": 0,
    "start_time": "2023-02-05T16:04:23.972Z"
   },
   {
    "duration": 0,
    "start_time": "2023-02-05T16:04:23.973Z"
   },
   {
    "duration": 0,
    "start_time": "2023-02-05T16:04:23.973Z"
   },
   {
    "duration": 0,
    "start_time": "2023-02-05T16:04:23.974Z"
   },
   {
    "duration": 0,
    "start_time": "2023-02-05T16:04:23.976Z"
   },
   {
    "duration": 0,
    "start_time": "2023-02-05T16:04:23.977Z"
   },
   {
    "duration": 0,
    "start_time": "2023-02-05T16:04:23.979Z"
   },
   {
    "duration": 0,
    "start_time": "2023-02-05T16:04:23.980Z"
   },
   {
    "duration": 0,
    "start_time": "2023-02-05T16:04:23.981Z"
   },
   {
    "duration": 0,
    "start_time": "2023-02-05T16:04:23.982Z"
   },
   {
    "duration": 0,
    "start_time": "2023-02-05T16:04:23.982Z"
   },
   {
    "duration": 0,
    "start_time": "2023-02-05T16:04:23.983Z"
   },
   {
    "duration": 0,
    "start_time": "2023-02-05T16:04:23.984Z"
   },
   {
    "duration": 0,
    "start_time": "2023-02-05T16:04:23.985Z"
   },
   {
    "duration": 0,
    "start_time": "2023-02-05T16:04:23.986Z"
   },
   {
    "duration": 10,
    "start_time": "2023-02-05T16:04:33.691Z"
   },
   {
    "duration": 175,
    "start_time": "2023-02-05T16:04:34.051Z"
   },
   {
    "duration": 40,
    "start_time": "2023-02-05T19:02:49.931Z"
   },
   {
    "duration": 2342,
    "start_time": "2023-02-05T19:02:57.448Z"
   },
   {
    "duration": 218,
    "start_time": "2023-02-05T19:02:59.792Z"
   },
   {
    "duration": 6,
    "start_time": "2023-02-05T19:03:00.012Z"
   },
   {
    "duration": 236,
    "start_time": "2023-02-05T19:03:00.020Z"
   },
   {
    "duration": 5,
    "start_time": "2023-02-05T19:03:00.260Z"
   },
   {
    "duration": 1216,
    "start_time": "2023-02-05T19:03:00.266Z"
   },
   {
    "duration": 66,
    "start_time": "2023-02-05T19:03:01.483Z"
   },
   {
    "duration": 3,
    "start_time": "2023-02-05T19:03:01.551Z"
   },
   {
    "duration": 25,
    "start_time": "2023-02-05T19:03:01.555Z"
   },
   {
    "duration": 67,
    "start_time": "2023-02-05T19:03:01.582Z"
   },
   {
    "duration": 24,
    "start_time": "2023-02-05T19:03:01.651Z"
   },
   {
    "duration": 22,
    "start_time": "2023-02-05T19:03:01.677Z"
   },
   {
    "duration": 48,
    "start_time": "2023-02-05T19:03:01.701Z"
   },
   {
    "duration": 106,
    "start_time": "2023-02-05T19:03:01.752Z"
   },
   {
    "duration": 80727,
    "start_time": "2023-02-05T19:03:01.860Z"
   },
   {
    "duration": 105,
    "start_time": "2023-02-05T19:04:22.589Z"
   },
   {
    "duration": 4,
    "start_time": "2023-02-05T19:04:22.749Z"
   },
   {
    "duration": 59668,
    "start_time": "2023-02-05T19:04:22.755Z"
   },
   {
    "duration": 13,
    "start_time": "2023-02-05T19:05:22.425Z"
   },
   {
    "duration": 4,
    "start_time": "2023-02-05T19:05:22.449Z"
   },
   {
    "duration": 25218,
    "start_time": "2023-02-05T19:05:22.455Z"
   },
   {
    "duration": 39260,
    "start_time": "2023-02-05T19:05:47.675Z"
   },
   {
    "duration": 15,
    "start_time": "2023-02-05T19:06:26.937Z"
   },
   {
    "duration": 620,
    "start_time": "2023-02-05T19:06:26.953Z"
   }
  ],
  "kernelspec": {
   "display_name": "Python 3 (ipykernel)",
   "language": "python",
   "name": "python3"
  },
  "language_info": {
   "codemirror_mode": {
    "name": "ipython",
    "version": 3
   },
   "file_extension": ".py",
   "mimetype": "text/x-python",
   "name": "python",
   "nbconvert_exporter": "python",
   "pygments_lexer": "ipython3",
   "version": "3.9.15"
  },
  "toc": {
   "base_numbering": 1,
   "nav_menu": {},
   "number_sections": true,
   "sideBar": true,
   "skip_h1_title": true,
   "title_cell": "Содержание",
   "title_sidebar": "Contents",
   "toc_cell": true,
   "toc_position": {},
   "toc_section_display": true,
   "toc_window_display": true
  }
 },
 "nbformat": 4,
 "nbformat_minor": 2
}
